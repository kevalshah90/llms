{
  "cells": [
    {
      "cell_type": "markdown",
      "metadata": {
        "id": "view-in-github",
        "colab_type": "text"
      },
      "source": [
        "<a href=\"https://colab.research.google.com/github/kevalshah90/llms/blob/main/examples/demo_advanced.ipynb\" target=\"_parent\"><img src=\"https://colab.research.google.com/assets/colab-badge.svg\" alt=\"Open In Colab\"/></a>"
      ]
    },
    {
      "cell_type": "markdown",
      "metadata": {
        "id": "BriWLUVhLG-N"
      },
      "source": [
        "# Advanced RAG with LlamaParse\n",
        "\n",
        "<a href=\"https://colab.research.google.com/github/run-llama/llama_parse/blob/main/examples/demo_advanced.ipynb\" target=\"_parent\"><img src=\"https://colab.research.google.com/assets/colab-badge.svg\" alt=\"Open In Colab\"/></a>\n",
        "\n",
        "This notebook shows you how to use LlamaParse with our advanced markdown ingestion and recursive retrieval algorithms to model tables/text within a document hierarchically. This lets you ask questions over both tables and text.\n",
        "\n",
        "Note for this example, we are using the `llama_index >=0.10.4` version"
      ]
    },
    {
      "cell_type": "code",
      "execution_count": null,
      "metadata": {
        "id": "WZ6cPvXCLG-P"
      },
      "outputs": [],
      "source": [
        "!pip install llama-index\n",
        "!pip install llama-index-core\n",
        "!pip install llama-index-embeddings-openai\n",
        "!pip install llama-index-postprocessor-flag-embedding-reranker\n",
        "!pip install git+https://github.com/FlagOpen/FlagEmbedding.git\n",
        "!pip install llama-parse"
      ]
    },
    {
      "cell_type": "code",
      "execution_count": null,
      "metadata": {
        "id": "liyjvXqoLG-Q"
      },
      "outputs": [],
      "source": [
        "!wget 'https://raw.githubusercontent.com/run-llama/llama_index/main/docs/examples/data/10q/uber_10q_march_2022.pdf' -O './uber_10q_march_2022.pdf'"
      ]
    },
    {
      "cell_type": "markdown",
      "metadata": {
        "id": "LuRGTAYXLG-Q"
      },
      "source": [
        "Some OpenAI and LlamaParse details"
      ]
    },
    {
      "cell_type": "code",
      "execution_count": null,
      "metadata": {
        "id": "6F5_lftmLG-Q"
      },
      "outputs": [],
      "source": [
        "# llama-parse is async-first, running the async code in a notebook requires the use of nest_asyncio\n",
        "import nest_asyncio\n",
        "nest_asyncio.apply()\n",
        "\n",
        "import os\n",
        "# API access to llama-cloud\n",
        "os.environ[\"LLAMA_CLOUD_API_KEY\"] = \"llx-\"\n",
        "\n",
        "# Using OpenAI API for embeddings/llms\n",
        "os.environ[\"OPENAI_API_KEY\"] = \"sk-\""
      ]
    },
    {
      "cell_type": "code",
      "execution_count": null,
      "metadata": {
        "id": "LB95eukrLG-R"
      },
      "outputs": [],
      "source": [
        "from llama_index.llms.openai import OpenAI\n",
        "from llama_index.embeddings.openai import OpenAIEmbedding\n",
        "from llama_index.core import VectorStoreIndex\n",
        "from llama_index.core import Settings\n",
        "\n",
        "embed_model=OpenAIEmbedding(model=\"text-embedding-3-small\")\n",
        "llm = OpenAI(model=\"gpt-3.5-turbo-0125\")\n",
        "\n",
        "Settings.llm = llm\n",
        "Settings.embed_model = embed_model\n"
      ]
    },
    {
      "cell_type": "markdown",
      "metadata": {
        "id": "PopFME8rLG-R"
      },
      "source": [
        "## Using brand new `LlamaParse` PDF reader for PDF Parsing\n",
        "\n",
        "we also compare two different retrieval/query engine strategies:\n",
        "1. Using raw Markdown text as nodes for building index and apply simple query engine for generating the results;\n",
        "2. Using `MarkdownElementNodeParser` for parsing the `LlamaParse` output Markdown results and building recursive retriever query engine for generation."
      ]
    },
    {
      "cell_type": "code",
      "execution_count": null,
      "metadata": {
        "id": "mWvShuIOLG-R",
        "outputId": "12401522-00f5-486a-eb83-63a59809da90"
      },
      "outputs": [
        {
          "name": "stdout",
          "output_type": "stream",
          "text": [
            "Started parsing the file under job_id edbcecf3-5379-40de-9c52-0d97985dccf5\n"
          ]
        }
      ],
      "source": [
        "from llama_parse import LlamaParse\n",
        "\n",
        "documents = LlamaParse(result_type=\"markdown\").load_data('./uber_10q_march_2022.pdf')"
      ]
    },
    {
      "cell_type": "code",
      "execution_count": null,
      "metadata": {
        "id": "CUjhDrKQLG-S",
        "outputId": "91d910bc-9823-4c47-c900-d48e7158441a"
      },
      "outputs": [
        {
          "name": "stdout",
          "output_type": "stream",
          "text": [
            "# Document\n",
            "\n",
            "# UNITED STATES SECURITIES AND EXCHANGE COMMISSION Washington, D.C. 20549\n",
            "\n",
            "## FORM 10-Q\n",
            "\n",
            "(Mark One)\n",
            "\n",
            "☒ QUARTERLY REPORT PURSUANT TO SECTION 13 OR 15(d) OF THE SECURITIES EXCHANGE ACT OF 1934 For the quarterly period\n",
            "ended March 31, 2022 OR ☐ TRANSITION REPORT PURSUANT TO SECTION 13 OR 15(d) OF THE SECURITIES EXCHANGE ACT OF 1934\n",
            "For the transition period from_____ to _____ Commission File Number: 001-38902\n",
            "\n",
            "UBER TECHNOLOGIES, INC. (Exact name of registrant as specified in its charter) Not Applicable (Former name, former\n",
            "address and former fiscal year, if changed since last report)\n",
            "\n",
            "Delaware 45-2647441 (State or other jurisdiction of incorporation or organization) (I.R.S. Employer Identification\n",
            "No.)\n",
            "\n",
            "1515 3rd Street San Francisco, California 94158 (Address of principal executive offices, including zip code) (415)\n",
            "612-8582 (Registrant’s telephone number, including area code)\n",
            "\n",
            "Securities registered pursuant to Section 12(b) of the Act:\n",
            "\n",
            "|Title of each class|Trading Symbol(s)|...\n"
          ]
        }
      ],
      "source": [
        "print(documents[0].text[:1000] + '...')"
      ]
    },
    {
      "cell_type": "code",
      "execution_count": null,
      "metadata": {
        "id": "mr3YjFcXLG-S"
      },
      "outputs": [],
      "source": [
        "from llama_index.core.node_parser import MarkdownElementNodeParser\n",
        "\n",
        "node_parser = MarkdownElementNodeParser(llm=OpenAI(model=\"gpt-3.5-turbo-0125\"), num_workers=8)"
      ]
    },
    {
      "cell_type": "code",
      "execution_count": null,
      "metadata": {
        "id": "xPVfkFXPLG-S",
        "outputId": "9b720643-b361-4890-b00b-43894ec8ad74"
      },
      "outputs": [
        {
          "name": "stdout",
          "output_type": "stream",
          "text": [
            "Embeddings have been explicitly disabled. Using MockEmbedding.\n"
          ]
        },
        {
          "name": "stderr",
          "output_type": "stream",
          "text": [
            "80it [00:00, 77744.28it/s]\n",
            "100%|██████████| 80/80 [00:21<00:00,  3.66it/s]\n"
          ]
        }
      ],
      "source": [
        "nodes = node_parser.get_nodes_from_documents(documents)"
      ]
    },
    {
      "cell_type": "code",
      "execution_count": null,
      "metadata": {
        "id": "luCD1B55LG-S"
      },
      "outputs": [],
      "source": [
        "base_nodes, objects = node_parser.get_nodes_and_objects(nodes)"
      ]
    },
    {
      "cell_type": "code",
      "execution_count": null,
      "metadata": {
        "id": "XiwGHidhLG-S"
      },
      "outputs": [],
      "source": [
        "recursive_index = VectorStoreIndex(nodes=base_nodes+objects)\n",
        "raw_index = VectorStoreIndex.from_documents(documents)"
      ]
    },
    {
      "cell_type": "code",
      "execution_count": null,
      "metadata": {
        "id": "KfUa6FY5LG-S"
      },
      "outputs": [],
      "source": [
        "from llama_index.postprocessor.flag_embedding_reranker import FlagEmbeddingReranker\n",
        "\n",
        "reranker = FlagEmbeddingReranker(\n",
        "    top_n=5,\n",
        "    model=\"BAAI/bge-reranker-large\",\n",
        ")\n",
        "\n",
        "recursive_query_engine = recursive_index.as_query_engine(\n",
        "    similarity_top_k=15,\n",
        "    node_postprocessors=[reranker],\n",
        "    verbose=True\n",
        ")\n",
        "\n",
        "raw_query_engine = raw_index.as_query_engine(similarity_top_k=15, node_postprocessors=[reranker])"
      ]
    },
    {
      "cell_type": "code",
      "execution_count": null,
      "metadata": {
        "id": "PpFR-4wHLG-T",
        "outputId": "43d03b5b-c45c-42c3-9fb5-af30a9cec7e5"
      },
      "outputs": [
        {
          "name": "stdout",
          "output_type": "stream",
          "text": [
            "303\n"
          ]
        }
      ],
      "source": [
        "print(len(nodes))"
      ]
    },
    {
      "cell_type": "markdown",
      "metadata": {
        "id": "IHqvd8xjLG-T"
      },
      "source": [
        "## Using `new LlamaParse` as pdf data parsing methods and retrieve tables with two different methods\n",
        "we compare base query engine vs recursive query engine with tables"
      ]
    },
    {
      "cell_type": "markdown",
      "metadata": {
        "id": "RKYXe6JALG-T"
      },
      "source": [
        "### Table Query Task: Queries for Table Question Answering"
      ]
    },
    {
      "cell_type": "code",
      "execution_count": null,
      "metadata": {
        "id": "BeWprITILG-T",
        "outputId": "2358bbce-b8f6-4842-978d-49a9368e53aa"
      },
      "outputs": [
        {
          "name": "stdout",
          "output_type": "stream",
          "text": [
            "\n",
            "***********New LlamaParse+ Basic Query Engine***********\n",
            "Cash paid for income taxes, net of refunds, is not explicitly provided in the context information.\n",
            "\u001b[1;3;38;2;11;159;203mRetrieval entering id_b656577b-91de-47ca-981e-8b1d63e20c20_44_table: TextNode\n",
            "\u001b[0m\u001b[1;3;38;2;237;90;200mRetrieving from object TextNode with query how is the Cash paid for Income taxes, net of refunds from Supplemental disclosures of cash flow information?\n",
            "\u001b[0m\u001b[1;3;38;2;11;159;203mRetrieval entering id_b656577b-91de-47ca-981e-8b1d63e20c20_42_table: TextNode\n",
            "\u001b[0m\u001b[1;3;38;2;237;90;200mRetrieving from object TextNode with query how is the Cash paid for Income taxes, net of refunds from Supplemental disclosures of cash flow information?\n",
            "\u001b[0m\u001b[1;3;38;2;11;159;203mRetrieval entering id_b656577b-91de-47ca-981e-8b1d63e20c20_40_table: TextNode\n",
            "\u001b[0m\u001b[1;3;38;2;237;90;200mRetrieving from object TextNode with query how is the Cash paid for Income taxes, net of refunds from Supplemental disclosures of cash flow information?\n",
            "\u001b[0m\u001b[1;3;38;2;11;159;203mRetrieval entering id_b656577b-91de-47ca-981e-8b1d63e20c20_320_table: TextNode\n",
            "\u001b[0m\u001b[1;3;38;2;237;90;200mRetrieving from object TextNode with query how is the Cash paid for Income taxes, net of refunds from Supplemental disclosures of cash flow information?\n",
            "\u001b[0m\u001b[1;3;38;2;11;159;203mRetrieval entering id_b656577b-91de-47ca-981e-8b1d63e20c20_38_table: TextNode\n",
            "\u001b[0m\u001b[1;3;38;2;237;90;200mRetrieving from object TextNode with query how is the Cash paid for Income taxes, net of refunds from Supplemental disclosures of cash flow information?\n",
            "\u001b[0m\u001b[1;3;38;2;11;159;203mRetrieval entering id_b656577b-91de-47ca-981e-8b1d63e20c20_324_table: TextNode\n",
            "\u001b[0m\u001b[1;3;38;2;237;90;200mRetrieving from object TextNode with query how is the Cash paid for Income taxes, net of refunds from Supplemental disclosures of cash flow information?\n",
            "\u001b[0m\n",
            "***********New LlamaParse+ Recursive Retriever Query Engine***********\n",
            "$22 for the period ended March 31, 2021 and $41 for the period ended March 31, 2022.\n"
          ]
        }
      ],
      "source": [
        "query = \"how is the Cash paid for Income taxes, net of refunds from Supplemental disclosures of cash flow information?\"\n",
        "\n",
        "response_1 = raw_query_engine.query(query)\n",
        "print(\"\\n***********New LlamaParse+ Basic Query Engine***********\")\n",
        "print(response_1)\n",
        "\n",
        "response_2 = recursive_query_engine.query(query)\n",
        "print(\"\\n***********New LlamaParse+ Recursive Retriever Query Engine***********\")\n",
        "print(response_2)\n"
      ]
    },
    {
      "cell_type": "markdown",
      "metadata": {
        "id": "Z3r40S3qLG-T"
      },
      "source": [
        "![image.png](attachment:image.png)"
      ]
    },
    {
      "cell_type": "code",
      "execution_count": null,
      "metadata": {
        "id": "7bJuEeMULG-T",
        "outputId": "6b3d46bd-8abe-4986-e7f7-7541aa2f3c86"
      },
      "outputs": [
        {
          "name": "stdout",
          "output_type": "stream",
          "text": [
            "\n",
            "***********New LlamaParse+ Basic Query Engine***********\n",
            "The change in free cash flow from the financial and operational highlights is a decrease from $(682) million in 2021 to $(47) million in 2022. This represents a significant improvement in free cash flow performance from one period to the next.\n",
            "\u001b[1;3;38;2;11;159;203mRetrieval entering id_b656577b-91de-47ca-981e-8b1d63e20c20_320_table: TextNode\n",
            "\u001b[0m\u001b[1;3;38;2;237;90;200mRetrieving from object TextNode with query what is the change of free cash flow and what is the rate from the financial and operational highlights?\n",
            "\u001b[0m\u001b[1;3;38;2;11;159;203mRetrieval entering id_b656577b-91de-47ca-981e-8b1d63e20c20_38_table: TextNode\n",
            "\u001b[0m\u001b[1;3;38;2;237;90;200mRetrieving from object TextNode with query what is the change of free cash flow and what is the rate from the financial and operational highlights?\n",
            "\u001b[0m\u001b[1;3;38;2;11;159;203mRetrieval entering id_b656577b-91de-47ca-981e-8b1d63e20c20_44_table: TextNode\n",
            "\u001b[0m\u001b[1;3;38;2;237;90;200mRetrieving from object TextNode with query what is the change of free cash flow and what is the rate from the financial and operational highlights?\n",
            "\u001b[0m\u001b[1;3;38;2;11;159;203mRetrieval entering id_b656577b-91de-47ca-981e-8b1d63e20c20_324_table: TextNode\n",
            "\u001b[0m\u001b[1;3;38;2;237;90;200mRetrieving from object TextNode with query what is the change of free cash flow and what is the rate from the financial and operational highlights?\n",
            "\u001b[0m\u001b[1;3;38;2;11;159;203mRetrieval entering id_b656577b-91de-47ca-981e-8b1d63e20c20_40_table: TextNode\n",
            "\u001b[0m\u001b[1;3;38;2;237;90;200mRetrieving from object TextNode with query what is the change of free cash flow and what is the rate from the financial and operational highlights?\n",
            "\u001b[0m\u001b[1;3;38;2;11;159;203mRetrieval entering id_b656577b-91de-47ca-981e-8b1d63e20c20_280_table: TextNode\n",
            "\u001b[0m\u001b[1;3;38;2;237;90;200mRetrieving from object TextNode with query what is the change of free cash flow and what is the rate from the financial and operational highlights?\n",
            "\u001b[0m\u001b[1;3;38;2;11;159;203mRetrieval entering id_b656577b-91de-47ca-981e-8b1d63e20c20_42_table: TextNode\n",
            "\u001b[0m\u001b[1;3;38;2;237;90;200mRetrieving from object TextNode with query what is the change of free cash flow and what is the rate from the financial and operational highlights?\n",
            "\u001b[0m\u001b[1;3;38;2;11;159;203mRetrieval entering id_b656577b-91de-47ca-981e-8b1d63e20c20_124_table: TextNode\n",
            "\u001b[0m\u001b[1;3;38;2;237;90;200mRetrieving from object TextNode with query what is the change of free cash flow and what is the rate from the financial and operational highlights?\n",
            "\u001b[0m\u001b[1;3;38;2;11;159;203mRetrieval entering id_b656577b-91de-47ca-981e-8b1d63e20c20_240_table: TextNode\n",
            "\u001b[0m\u001b[1;3;38;2;237;90;200mRetrieving from object TextNode with query what is the change of free cash flow and what is the rate from the financial and operational highlights?\n",
            "\u001b[0m\n",
            "***********New LlamaParse+ Recursive Retriever Query Engine***********\n",
            "The change in free cash flow from the financial and operational highlights is an improvement of $635 million, with the rate being a significant increase compared to the same period in the prior year.\n"
          ]
        }
      ],
      "source": [
        "query = \"what is the change of free cash flow and what is the rate from the financial and operational highlights?\"\n",
        "\n",
        "response_1 = raw_query_engine.query(query)\n",
        "print(\"\\n***********New LlamaParse+ Basic Query Engine***********\")\n",
        "print(response_1)\n",
        "\n",
        "response_2 = recursive_query_engine.query(query)\n",
        "print(\"\\n***********New LlamaParse+ Recursive Retriever Query Engine***********\")\n",
        "print(response_2)"
      ]
    },
    {
      "cell_type": "markdown",
      "metadata": {
        "id": "jceoSXjmLG-T"
      },
      "source": [
        "![image.png](attachment:image.png)"
      ]
    },
    {
      "cell_type": "code",
      "execution_count": null,
      "metadata": {
        "id": "59uckdsmLG-T",
        "outputId": "1e0dbfee-afad-4e8e-b4fb-89a27f1e1c0e"
      },
      "outputs": [
        {
          "name": "stdout",
          "output_type": "stream",
          "text": [
            "\n",
            "***********New LlamaParse+ Basic Query Engine***********\n",
            "The net loss value attributable to Uber for the current period is $5.9 billion, which is an increase compared to the net loss of $108 million in the same period last year.\n",
            "\u001b[1;3;38;2;11;159;203mRetrieval entering id_b656577b-91de-47ca-981e-8b1d63e20c20_22_table: TextNode\n",
            "\u001b[0m\u001b[1;3;38;2;237;90;200mRetrieving from object TextNode with query what is the net loss value attributable to Uber compared to last year?\n",
            "\u001b[0m\u001b[1;3;38;2;11;159;203mRetrieval entering id_b656577b-91de-47ca-981e-8b1d63e20c20_316_table: TextNode\n",
            "\u001b[0m\u001b[1;3;38;2;237;90;200mRetrieving from object TextNode with query what is the net loss value attributable to Uber compared to last year?\n",
            "\u001b[0m\u001b[1;3;38;2;11;159;203mRetrieval entering id_b656577b-91de-47ca-981e-8b1d63e20c20_230_table: TextNode\n",
            "\u001b[0m\u001b[1;3;38;2;237;90;200mRetrieving from object TextNode with query what is the net loss value attributable to Uber compared to last year?\n",
            "\u001b[0m\u001b[1;3;38;2;11;159;203mRetrieval entering id_b656577b-91de-47ca-981e-8b1d63e20c20_26_table: TextNode\n",
            "\u001b[0m\u001b[1;3;38;2;237;90;200mRetrieving from object TextNode with query what is the net loss value attributable to Uber compared to last year?\n",
            "\u001b[0m\u001b[1;3;38;2;11;159;203mRetrieval entering id_b656577b-91de-47ca-981e-8b1d63e20c20_234_table: TextNode\n",
            "\u001b[0m\u001b[1;3;38;2;237;90;200mRetrieving from object TextNode with query what is the net loss value attributable to Uber compared to last year?\n",
            "\u001b[0m\u001b[1;3;38;2;11;159;203mRetrieval entering id_b656577b-91de-47ca-981e-8b1d63e20c20_24_table: TextNode\n",
            "\u001b[0m\u001b[1;3;38;2;237;90;200mRetrieving from object TextNode with query what is the net loss value attributable to Uber compared to last year?\n",
            "\u001b[0m\u001b[1;3;38;2;11;159;203mRetrieval entering id_b656577b-91de-47ca-981e-8b1d63e20c20_196_table: TextNode\n",
            "\u001b[0m\u001b[1;3;38;2;237;90;200mRetrieving from object TextNode with query what is the net loss value attributable to Uber compared to last year?\n",
            "\u001b[0m\n",
            "***********New LlamaParse+ Recursive Retriever Query Engine***********\n",
            "The net loss value attributable to Uber Technologies, Inc. for the first quarter of 2022 was $5,930 million, which is significantly higher compared to the net loss of $108 million for the same period in 2021.\n"
          ]
        }
      ],
      "source": [
        "query = \"what is the net loss value attributable to Uber compared to last year?\"\n",
        "\n",
        "response_1 = raw_query_engine.query(query)\n",
        "print(\"\\n***********New LlamaParse+ Basic Query Engine***********\")\n",
        "print(response_1)\n",
        "\n",
        "response_2 = recursive_query_engine.query(query)\n",
        "print(\"\\n***********New LlamaParse+ Recursive Retriever Query Engine***********\")\n",
        "print(response_2)"
      ]
    },
    {
      "cell_type": "markdown",
      "metadata": {
        "id": "zfmJG94iLG-T"
      },
      "source": [
        "![image.png](attachment:image.png)"
      ]
    },
    {
      "cell_type": "code",
      "execution_count": null,
      "metadata": {
        "id": "CQVJgXJ4LG-T",
        "outputId": "597610da-7c5c-4e70-cdcb-8c0f48d56990"
      },
      "outputs": [
        {
          "name": "stdout",
          "output_type": "stream",
          "text": [
            "\n",
            "***********New LlamaParse+ Basic Query Engine***********\n",
            "Cash flows from investing activities were as follows:\n",
            "- For the three months ended March 31, 2022, net cash used in investing activities was $135 million, primarily driven by $62 million in purchases of property and equipment and $59 million in acquisition of business, net of cash acquired.\n",
            "- For the three months ended March 31, 2021, net cash used in investing activities was $250 million, mainly consisting of $803 million in purchases of non-marketable equity securities, $336 million in purchases of marketable securities, and $216 million in purchases of a note receivable, partially offset by proceeds from maturities and sales of marketable securities of $696 million and $500 million in proceeds from the sale of non-marketable equity securities.\n",
            "\u001b[1;3;38;2;11;159;203mRetrieval entering id_b656577b-91de-47ca-981e-8b1d63e20c20_44_table: TextNode\n",
            "\u001b[0m\u001b[1;3;38;2;237;90;200mRetrieving from object TextNode with query What were cash flows like from investing activities?\n",
            "\u001b[0m\u001b[1;3;38;2;11;159;203mRetrieval entering id_b656577b-91de-47ca-981e-8b1d63e20c20_38_table: TextNode\n",
            "\u001b[0m\u001b[1;3;38;2;237;90;200mRetrieving from object TextNode with query What were cash flows like from investing activities?\n",
            "\u001b[0m\u001b[1;3;38;2;11;159;203mRetrieval entering id_b656577b-91de-47ca-981e-8b1d63e20c20_324_table: TextNode\n",
            "\u001b[0m\u001b[1;3;38;2;237;90;200mRetrieving from object TextNode with query What were cash flows like from investing activities?\n",
            "\u001b[0m\u001b[1;3;38;2;11;159;203mRetrieval entering id_b656577b-91de-47ca-981e-8b1d63e20c20_40_table: TextNode\n",
            "\u001b[0m\u001b[1;3;38;2;237;90;200mRetrieving from object TextNode with query What were cash flows like from investing activities?\n",
            "\u001b[0m\u001b[1;3;38;2;11;159;203mRetrieval entering id_b656577b-91de-47ca-981e-8b1d63e20c20_320_table: TextNode\n",
            "\u001b[0m\u001b[1;3;38;2;237;90;200mRetrieving from object TextNode with query What were cash flows like from investing activities?\n",
            "\u001b[0m\u001b[1;3;38;2;11;159;203mRetrieval entering id_b656577b-91de-47ca-981e-8b1d63e20c20_42_table: TextNode\n",
            "\u001b[0m\u001b[1;3;38;2;237;90;200mRetrieving from object TextNode with query What were cash flows like from investing activities?\n",
            "\u001b[0m\u001b[1;3;38;2;11;159;203mRetrieval entering id_b656577b-91de-47ca-981e-8b1d63e20c20_270_table: TextNode\n",
            "\u001b[0m\u001b[1;3;38;2;237;90;200mRetrieving from object TextNode with query What were cash flows like from investing activities?\n",
            "\u001b[0m\n",
            "***********New LlamaParse+ Recursive Retriever Query Engine***********\n",
            "Cash flows from investing activities were as follows:\n",
            "- For the three months ended March 31, 2021, net cash used in investing activities was $250 million.\n",
            "- For the three months ended March 31, 2022, net cash used in investing activities was $135 million.\n"
          ]
        }
      ],
      "source": [
        "query = \"What were cash flows like from investing activities?\"\n",
        "\n",
        "response_1 = raw_query_engine.query(query)\n",
        "print(\"\\n***********New LlamaParse+ Basic Query Engine***********\")\n",
        "print(response_1)\n",
        "\n",
        "response_2 = recursive_query_engine.query(query)\n",
        "print(\"\\n***********New LlamaParse+ Recursive Retriever Query Engine***********\")\n",
        "print(response_2)"
      ]
    },
    {
      "cell_type": "markdown",
      "metadata": {
        "id": "oooZ4qwXLG-T"
      },
      "source": [
        "![image.png](attachment:image.png)"
      ]
    }
  ],
  "metadata": {
    "kernelspec": {
      "display_name": "Python 3 (ipykernel)",
      "language": "python",
      "name": "python3"
    },
    "language_info": {
      "codemirror_mode": {
        "name": "ipython",
        "version": 3
      },
      "file_extension": ".py",
      "mimetype": "text/x-python",
      "name": "python",
      "nbconvert_exporter": "python",
      "pygments_lexer": "ipython3",
      "version": "3.10.10"
    },
    "colab": {
      "provenance": [],
      "include_colab_link": true
    }
  },
  "nbformat": 4,
  "nbformat_minor": 0
}