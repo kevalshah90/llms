{
  "cells": [
    {
      "cell_type": "markdown",
      "metadata": {
        "id": "view-in-github",
        "colab_type": "text"
      },
      "source": [
        "<a href=\"https://colab.research.google.com/github/kevalshah90/llms/blob/main/PyTorch_Neural_Network_with_Backpropagation.ipynb\" target=\"_parent\"><img src=\"https://colab.research.google.com/assets/colab-badge.svg\" alt=\"Open In Colab\"/></a>"
      ]
    },
    {
      "cell_type": "code",
      "source": [
        "import torch\n",
        "import torch.nn as nn\n",
        "import torch.optim as optim\n",
        "import matplotlib.pyplot as plt"
      ],
      "outputs": [],
      "execution_count": 1,
      "metadata": {
        "id": "4J6YiRlK5_Lx"
      }
    },
    {
      "cell_type": "markdown",
      "source": [
        "Define Neural network architecture"
      ],
      "metadata": {
        "id": "N5QRR-t2ChN_"
      }
    },
    {
      "cell_type": "code",
      "source": [
        "# Define the neural network architecture as a class.\n",
        "# This class represents the \"Multiple Layers\" part of the image.\n",
        "# We'll use a sequential model for simplicity.\n",
        "class SimpleNeuralNetwork(nn.Module):\n",
        "    \"\"\"\n",
        "    A simple feed-forward neural network with layers and activations\n",
        "    similar to the diagram provided.\n",
        "\n",
        "    The architecture is:\n",
        "    - Input Layer (x)\n",
        "    - Layer 1 (W1) -> Activation Function (Layer 2)\n",
        "    - Layer 3 (W3) -> Activation Function (Layer 4)\n",
        "    - Layer 5 (W5) -> Output (o)\n",
        "    \"\"\"\n",
        "\n",
        "    def __init__(self, input_size, hidden_size1, hidden_size2, output_size):\n",
        "\n",
        "        super(SimpleNeuralNetwork, self).__init__()\n",
        "\n",
        "        # Corresponds to Layer 1 and its weights w1\n",
        "        # It's a linear transformation from input_size to hidden_size1\n",
        "        self.layer1 = nn.Linear(input_size, hidden_size1)\n",
        "\n",
        "        # Corresponds to Layer 2's \"Activation Function\"\n",
        "        self.relu1 = nn.ReLU()\n",
        "\n",
        "        # Corresponds to Layer 3 and its weights W3\n",
        "        # It's a linear transformation from hidden_size1 to hidden_size2\n",
        "        self.layer3 = nn.Linear(hidden_size1, hidden_size2)\n",
        "\n",
        "        # Corresponds to Layer 4's \"Activation Function\"\n",
        "        self.relu2 = nn.ReLU()\n",
        "\n",
        "        # Corresponds to Layer 5 and its weights W5\n",
        "        # It's the final linear transformation to the output_size\n",
        "        self.layer5 = nn.Linear(hidden_size2, output_size)\n",
        "\n",
        "    def forward(self, x):\n",
        "        \"\"\"\n",
        "        Defines the forward pass of the network. This is the process\n",
        "        of taking an input 'x' and generating an output 'o'.\n",
        "        \"\"\"\n",
        "        # Pass the input through Layer 1 and the first activation\n",
        "        # a2 = Activation(W1*x)\n",
        "        a2 = self.relu1(self.layer1(x))\n",
        "\n",
        "        # Pass through Layer 3 and the second activation\n",
        "        # a4 = Activation(W3*a2)\n",
        "        a4 = self.relu2(self.layer3(a2))\n",
        "\n",
        "        # Pass through the final layer to get the output\n",
        "        # o = W5*a4\n",
        "        o = self.layer5(a4)\n",
        "\n",
        "        return o"
      ],
      "metadata": {
        "id": "xdjb4hyc6RGz"
      },
      "execution_count": null,
      "outputs": []
    },
    {
      "cell_type": "markdown",
      "source": [
        "Training the Network"
      ],
      "metadata": {
        "id": "vfhdS4KCCeR1"
      }
    },
    {
      "cell_type": "code",
      "source": [
        "# --- Training the Network ---\n",
        "\n",
        "# 1. Hyperparameters and Network Initialization\n",
        "# We'll use some example dimensions for our network\n",
        "input_size = 10     # e.g., 10 features for each data point\n",
        "hidden_size1 = 64   # Size of the first hidden layer\n",
        "hidden_size2 = 32   # Size of the second hidden layer\n",
        "output_size = 1     # e.g., a single prediction value\n",
        "\n",
        "learning_rate = 0.01\n",
        "epochs = 10\n",
        "\n",
        "# Instantiate the model, creating an instance of our class\n",
        "model = SimpleNeuralNetwork(input_size, hidden_size1, hidden_size2, output_size)\n",
        "\n",
        "# Define the Loss Function (L(o, y) from the diagram)\n",
        "# We'll use Mean Squared Error, common for regression tasks\n",
        "loss_function = nn.MSELoss()\n",
        "\n",
        "# Define the Optimizer\n",
        "# This is the algorithm that updates the weights (W1, W3, W5)\n",
        "# based on the gradients calculated by backpropagation.\n",
        "optimizer = optim.SGD(model.parameters(), lr=learning_rate)\n",
        "\n",
        "# 2. Create Dummy Data\n",
        "# This is our example data 'x' and 'y'\n",
        "X = torch.randn(100, input_size)  # 100 samples, each with 10 features\n",
        "Y = torch.randn(100, output_size)  # 100 corresponding target values\n",
        "\n",
        "# 3. Training Loop\n",
        "# This loop performs the core steps of training a neural network\n",
        "print(\"Starting training loop...\")\n",
        "loss_history = []\n",
        "\n",
        "for epoch in range(epochs):\n",
        "    # Perform a forward pass to get the model's prediction (o)\n",
        "    predictions = model(X)\n",
        "\n",
        "    # Calculate the loss (L(o, y))\n",
        "    loss = loss_function(predictions, Y)\n",
        "\n",
        "    # Reset the gradients to zero for the next iteration\n",
        "    # This is an important step to prevent gradients from accumulating\n",
        "    optimizer.zero_grad()\n",
        "\n",
        "    # Backpropagation (the process highlighted in the image)\n",
        "    # This automatically computes the gradients of the loss w.r.t. all parameters\n",
        "    # The chain rule is used under the hood here to calculate dL/dW1, dL/dW3, dL/dW5\n",
        "    loss.backward()\n",
        "\n",
        "    # Update the weights (W1, W3, W5) using the optimizer\n",
        "    # The optimizer uses the gradients from the backpropagation step\n",
        "    optimizer.step()\n",
        "\n",
        "    # Store the loss for plotting\n",
        "    loss_history.append(loss.item())\n",
        "\n",
        "    # Print the loss periodically to monitor progress\n",
        "    if (epoch + 1) % 10 == 0:\n",
        "        print(f\"Epoch [{epoch+1}/{epochs}], Loss: {loss.item():.4f}\")\n",
        "\n",
        "print(\"Training finished.\")\n",
        "\n",
        "# 4. Plotting the Loss History\n",
        "# This visualizes how the loss decreases over time, showing the model is learning\n",
        "plt.figure(figsize=(10, 6))\n",
        "plt.plot(loss_history)\n",
        "plt.title(\"Training Loss Over Epochs\")\n",
        "plt.xlabel(\"Epoch\")\n",
        "plt.ylabel(\"Loss (MSE)\")\n",
        "plt.grid(True)\n",
        "plt.show()\n",
        "\n",
        "# 5. Making a prediction with the trained model\n",
        "new_data = torch.randn(1, input_size)\n",
        "\n",
        "with torch.no_grad(): # Disable gradient calculation for inference\n",
        "    prediction = model(new_data)\n",
        "print(f\"\\nPrediction for a new data point: {prediction.item():.4f}\")"
      ],
      "metadata": {
        "id": "7yc-XBUf6WMT"
      },
      "execution_count": null,
      "outputs": []
    }
  ],
  "metadata": {
    "colab": {
      "provenance": [],
      "include_colab_link": true
    },
    "kernelspec": {
      "display_name": "Python 3",
      "name": "python3"
    }
  },
  "nbformat": 4,
  "nbformat_minor": 0
}