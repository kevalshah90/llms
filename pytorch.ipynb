{
  "nbformat": 4,
  "nbformat_minor": 0,
  "metadata": {
    "colab": {
      "provenance": [],
      "gpuType": "T4",
      "authorship_tag": "ABX9TyP9DxSdF2+EOZhdIrAe3s7b",
      "include_colab_link": true
    },
    "kernelspec": {
      "name": "python3",
      "display_name": "Python 3"
    },
    "language_info": {
      "name": "python"
    },
    "accelerator": "GPU"
  },
  "cells": [
    {
      "cell_type": "markdown",
      "metadata": {
        "id": "view-in-github",
        "colab_type": "text"
      },
      "source": [
        "<a href=\"https://colab.research.google.com/github/kevalshah90/llms/blob/main/pytorch.ipynb\" target=\"_parent\"><img src=\"https://colab.research.google.com/assets/colab-badge.svg\" alt=\"Open In Colab\"/></a>"
      ]
    },
    {
      "cell_type": "code",
      "execution_count": null,
      "metadata": {
        "colab": {
          "base_uri": "https://localhost:8080/",
          "height": 35
        },
        "id": "UfB6stujgXKe",
        "outputId": "0637e850-3da3-4389-db42-ef9cec76b55f"
      },
      "outputs": [
        {
          "output_type": "execute_result",
          "data": {
            "text/plain": [
              "'/content'"
            ],
            "application/vnd.google.colaboratory.intrinsic+json": {
              "type": "string"
            }
          },
          "metadata": {},
          "execution_count": 2
        }
      ],
      "source": [
        "import os\n",
        "os.getcwd()"
      ]
    },
    {
      "cell_type": "code",
      "source": [
        "os.mkdir('/content/gpu')"
      ],
      "metadata": {
        "id": "y-TiJ8WcgcTp"
      },
      "execution_count": null,
      "outputs": []
    },
    {
      "cell_type": "code",
      "source": [
        "os.chdir('/content/gpu/')\n",
        "os.getcwd()"
      ],
      "metadata": {
        "colab": {
          "base_uri": "https://localhost:8080/",
          "height": 35
        },
        "id": "62VCQ5sUgeIZ",
        "outputId": "73a819d2-b889-42b6-e898-f9d1f0eb4308"
      },
      "execution_count": null,
      "outputs": [
        {
          "output_type": "execute_result",
          "data": {
            "text/plain": [
              "'/content/gpu'"
            ],
            "application/vnd.google.colaboratory.intrinsic+json": {
              "type": "string"
            }
          },
          "metadata": {},
          "execution_count": 5
        }
      ]
    },
    {
      "cell_type": "code",
      "source": [
        "import torch\n",
        "import numpy as np"
      ],
      "metadata": {
        "id": "yZ4Fsg98gljA"
      },
      "execution_count": null,
      "outputs": []
    },
    {
      "cell_type": "markdown",
      "source": [
        "**1. Creating Tensors**"
      ],
      "metadata": {
        "id": "0_YFG5PRhALJ"
      }
    },
    {
      "cell_type": "markdown",
      "source": [
        "Tensor shapes are represented as (row, column)"
      ],
      "metadata": {
        "id": "bFRXayWzmZyY"
      }
    },
    {
      "cell_type": "code",
      "source": [
        "# Empty tensor (uninitialized values)\n",
        "x = torch.empty(2,3)\n",
        "print(\"Empty:\\n\", x)\n",
        "print(\"Shape\", x.shape)"
      ],
      "metadata": {
        "colab": {
          "base_uri": "https://localhost:8080/"
        },
        "id": "TWFm-2MfguVp",
        "outputId": "7cb82af0-221b-45e5-a19b-8fd6bd3ae809"
      },
      "execution_count": null,
      "outputs": [
        {
          "output_type": "stream",
          "name": "stdout",
          "text": [
            "Empty:\n",
            " tensor([[ 1.1552e-06,  0.0000e+00, -3.8853e+27],\n",
            "        [ 4.5887e-41,  4.4842e-44,  0.0000e+00]])\n",
            "Shape torch.Size([2, 3])\n"
          ]
        }
      ]
    },
    {
      "cell_type": "code",
      "source": [
        "# Tensor of zeros\n",
        "zeros = torch.zeros(2, 3)\n",
        "print(\"Zeros:\\n\", zeros)\n",
        "print(\"Shape\", zeros.shape)"
      ],
      "metadata": {
        "colab": {
          "base_uri": "https://localhost:8080/"
        },
        "id": "HKzkOwABhPNF",
        "outputId": "62a67f0d-6641-453f-ad56-791b1f1812a9"
      },
      "execution_count": null,
      "outputs": [
        {
          "output_type": "stream",
          "name": "stdout",
          "text": [
            "Zeros:\n",
            " tensor([[0., 0., 0.],\n",
            "        [0., 0., 0.]])\n",
            "Shape torch.Size([2, 3])\n"
          ]
        }
      ]
    },
    {
      "cell_type": "code",
      "source": [
        "# Tensor of ones\n",
        "ones = torch.ones(2, 3)\n",
        "print(\"Ones:\\n\", ones)\n",
        "print(\"Shape\", ones.shape)"
      ],
      "metadata": {
        "colab": {
          "base_uri": "https://localhost:8080/"
        },
        "id": "UanCqYyThSdc",
        "outputId": "3cad538c-bca4-4787-8d5a-6cc69c4359a5"
      },
      "execution_count": null,
      "outputs": [
        {
          "output_type": "stream",
          "name": "stdout",
          "text": [
            "Ones:\n",
            " tensor([[1., 1., 1.],\n",
            "        [1., 1., 1.]])\n",
            "Shape torch.Size([2, 3])\n"
          ]
        }
      ]
    },
    {
      "cell_type": "code",
      "source": [
        "# Random tensor\n",
        "rand = torch.rand(2, 3)\n",
        "print(\"Random:\\n\", rand)\n",
        "print(\"Shape\", rand.shape)"
      ],
      "metadata": {
        "colab": {
          "base_uri": "https://localhost:8080/"
        },
        "id": "3uMXvNYmhZr1",
        "outputId": "4f9fad7e-ff4a-4bbc-dbe2-6aec1d8e1cea"
      },
      "execution_count": null,
      "outputs": [
        {
          "output_type": "stream",
          "name": "stdout",
          "text": [
            "Random:\n",
            " tensor([[0.6682, 0.7786, 0.7509],\n",
            "        [0.4421, 0.8565, 0.4874]])\n",
            "Shape torch.Size([2, 3])\n"
          ]
        }
      ]
    },
    {
      "cell_type": "code",
      "source": [
        "# Tensor from data\n",
        "data = torch.tensor([[1, 2], [3, 4]])\n",
        "print(\"From data:\\n\", data)\n",
        "print(\"Shape\", data.shape)"
      ],
      "metadata": {
        "colab": {
          "base_uri": "https://localhost:8080/"
        },
        "id": "dvmJ2dIXhqjx",
        "outputId": "79e76a5b-e0cf-48d4-c854-05d580663ecb"
      },
      "execution_count": null,
      "outputs": [
        {
          "output_type": "stream",
          "name": "stdout",
          "text": [
            "From data:\n",
            " tensor([[1, 2],\n",
            "        [3, 4]])\n",
            "Shape torch.Size([2, 2])\n"
          ]
        }
      ]
    },
    {
      "cell_type": "code",
      "source": [
        "# Tensor from numpy\n",
        "np_array = np.array([[1, 2], [3, 4]])\n",
        "from_numpy = torch.from_numpy(np_array)\n",
        "print(\"From numpy:\\n\", from_numpy)\n",
        "print(\"Shape\", from_numpy.shape)"
      ],
      "metadata": {
        "colab": {
          "base_uri": "https://localhost:8080/"
        },
        "id": "cfY247_Rh277",
        "outputId": "f836b8e0-386c-4775-ce6a-d445b8764ab0"
      },
      "execution_count": null,
      "outputs": [
        {
          "output_type": "stream",
          "name": "stdout",
          "text": [
            "From numpy:\n",
            " tensor([[1, 2],\n",
            "        [3, 4]])\n",
            "Shape torch.Size([2, 2])\n"
          ]
        }
      ]
    },
    {
      "cell_type": "markdown",
      "source": [
        "**2. Manipulations / Basic Operations / Reshaping**"
      ],
      "metadata": {
        "id": "HSU2QnAiiXdk"
      }
    },
    {
      "cell_type": "code",
      "source": [
        "a = torch.tensor([1, 2, 3])\n",
        "b = torch.tensor([4, 5, 6])\n",
        "\n",
        "print(\"Shape a, b:\", a.shape, b.shape)\n",
        "\n",
        "# Addition\n",
        "print(\"Addition:\", a + b)\n",
        "\n",
        "# Subtraction\n",
        "print(\"Subtraction:\", a - b)\n",
        "\n",
        "# Multiplication\n",
        "print(\"Multiplication:\", a * b)\n",
        "\n",
        "# Division\n",
        "print(\"Division:\", a / b)"
      ],
      "metadata": {
        "colab": {
          "base_uri": "https://localhost:8080/"
        },
        "id": "fe99_NgoiEWU",
        "outputId": "4409cd09-2ae9-4221-ff5d-4fbd46f45f30"
      },
      "execution_count": null,
      "outputs": [
        {
          "output_type": "stream",
          "name": "stdout",
          "text": [
            "Shape a, b: torch.Size([3]) torch.Size([3])\n",
            "Addition: tensor([5, 7, 9])\n",
            "Subtraction: tensor([-3, -3, -3])\n",
            "Multiplication: tensor([ 4, 10, 18])\n",
            "Division: tensor([0.2500, 0.4000, 0.5000])\n"
          ]
        }
      ]
    },
    {
      "cell_type": "code",
      "source": [
        "A = torch.tensor([[1, 2], [3, 4]], dtype=torch.float32)\n",
        "B = torch.tensor([[5, 6], [7, 8]], dtype=torch.float32)\n",
        "\n",
        "# Matrix multiplication\n",
        "C = torch.mm(A, B)\n",
        "print(\"Matrix Multiplication (mm):\\n\", C)\n",
        "\n",
        "# Using @ operator\n",
        "C2 = A @ B\n",
        "print(\"Matrix Multiplication (@):\\n\", C2)\n",
        "\n",
        "# Using matmul\n",
        "C3 = torch.matmul(A, B)\n",
        "print(\"Matrix Multiplication (matmul):\\n\", C3)"
      ],
      "metadata": {
        "colab": {
          "base_uri": "https://localhost:8080/"
        },
        "id": "Daqpg0XKidGc",
        "outputId": "5a0d1085-043c-4af7-e003-73837212dea1"
      },
      "execution_count": null,
      "outputs": [
        {
          "output_type": "stream",
          "name": "stdout",
          "text": [
            "Matrix Multiplication (mm):\n",
            " tensor([[19., 22.],\n",
            "        [43., 50.]])\n",
            "Matrix Multiplication (@):\n",
            " tensor([[19., 22.],\n",
            "        [43., 50.]])\n",
            "Matrix Multiplication (matmul):\n",
            " tensor([[19., 22.],\n",
            "        [43., 50.]])\n"
          ]
        }
      ]
    },
    {
      "cell_type": "code",
      "source": [
        "# Reshaping\n",
        "x = torch.arange(12)\n",
        "print(\"Original:\\n\", x)\n",
        "print(\"Shape:\", x.shape)\n",
        "reshaped = x.view(3, 4)\n",
        "print(\"Reshaped:\\n\", reshaped)"
      ],
      "metadata": {
        "colab": {
          "base_uri": "https://localhost:8080/"
        },
        "id": "ltx14vVJiuEH",
        "outputId": "4dbb0d42-d15d-47bd-c81c-af4b7645f97b"
      },
      "execution_count": null,
      "outputs": [
        {
          "output_type": "stream",
          "name": "stdout",
          "text": [
            "Original:\n",
            " tensor([ 0,  1,  2,  3,  4,  5,  6,  7,  8,  9, 10, 11])\n",
            "Shape: torch.Size([12])\n",
            "Reshaped:\n",
            " tensor([[ 0,  1,  2,  3],\n",
            "        [ 4,  5,  6,  7],\n",
            "        [ 8,  9, 10, 11]])\n"
          ]
        }
      ]
    },
    {
      "cell_type": "code",
      "source": [
        "data = [1,2,3,4,5,6,7,8]\n",
        "x = torch.tensor(data)             # Shape: (8,)\n",
        "print(\"Original data:\", x)\n",
        "print(\"Original Shape:\", x.shape)"
      ],
      "metadata": {
        "colab": {
          "base_uri": "https://localhost:8080/"
        },
        "id": "wSqI9hQPjP15",
        "outputId": "a67901b5-58fa-4f8d-b21b-720798f5164a"
      },
      "execution_count": null,
      "outputs": [
        {
          "output_type": "stream",
          "name": "stdout",
          "text": [
            "Original data: tensor([1, 2, 3, 4, 5, 6, 7, 8])\n",
            "Original Shape: torch.Size([8])\n"
          ]
        }
      ]
    },
    {
      "cell_type": "code",
      "source": [
        "x.view(2, 4)                       # Shape: (2, 4)"
      ],
      "metadata": {
        "colab": {
          "base_uri": "https://localhost:8080/"
        },
        "id": "-yjPY1XdmSIq",
        "outputId": "f7047d3d-7a96-4811-ca99-b3c7343eb3f1"
      },
      "execution_count": null,
      "outputs": [
        {
          "output_type": "execute_result",
          "data": {
            "text/plain": [
              "tensor([[1, 2, 3, 4],\n",
              "        [5, 6, 7, 8]])"
            ]
          },
          "metadata": {},
          "execution_count": 37
        }
      ]
    },
    {
      "cell_type": "code",
      "source": [
        "y = x.reshape(2, 4)                # Shape: (2, 4)\n",
        "print(\"Reshaped data:\\n\", y)\n",
        "print(\"Reshaped Shape:\", y.shape)"
      ],
      "metadata": {
        "colab": {
          "base_uri": "https://localhost:8080/"
        },
        "id": "MRnL-u9UjqD6",
        "outputId": "f2ee4532-6d32-4265-c2fc-5dfb2e7dc57e"
      },
      "execution_count": null,
      "outputs": [
        {
          "output_type": "stream",
          "name": "stdout",
          "text": [
            "Reshaped data:\n",
            " tensor([[1, 2, 3, 4],\n",
            "        [5, 6, 7, 8]])\n",
            "Reshaped Shape: torch.Size([2, 4])\n"
          ]
        }
      ]
    },
    {
      "cell_type": "code",
      "source": [
        "z = x.reshape(2, 2, 2)             # Shape: (2, 2, 2)\n",
        "print(\"Reshaped data:\\n\", z)\n",
        "print(\"Reshaped Shape:\", z.shape)"
      ],
      "metadata": {
        "colab": {
          "base_uri": "https://localhost:8080/"
        },
        "id": "r7VEGoE1jigL",
        "outputId": "b3f0b700-ecc4-4d3c-cdfd-911cc2474e0a"
      },
      "execution_count": null,
      "outputs": [
        {
          "output_type": "stream",
          "name": "stdout",
          "text": [
            "Reshaped data:\n",
            " tensor([[[1, 2],\n",
            "         [3, 4]],\n",
            "\n",
            "        [[5, 6],\n",
            "         [7, 8]]])\n",
            "Reshaped Shape: torch.Size([2, 2, 2])\n"
          ]
        }
      ]
    },
    {
      "cell_type": "code",
      "source": [
        "# Unsqueeze\n",
        "# Adds a dimension of size 1 at the specified position (axis)\n",
        "# useful for adding batch or channel dimensions.\n",
        "\n",
        "x = torch.tensor([1, 2, 3, 4])     # Shape: (4,)\n",
        "print(\"Original data:\\n\", x)\n",
        "print(\"Original Shape:\", x.shape)"
      ],
      "metadata": {
        "colab": {
          "base_uri": "https://localhost:8080/"
        },
        "id": "xRyihe17nPHS",
        "outputId": "1d50980a-d92f-4df4-9780-378a984aea7d"
      },
      "execution_count": null,
      "outputs": [
        {
          "output_type": "stream",
          "name": "stdout",
          "text": [
            "Original data:\n",
            " tensor([1, 2, 3, 4])\n",
            "Original Shape: torch.Size([4])\n"
          ]
        }
      ]
    },
    {
      "cell_type": "code",
      "source": [
        "# Add a new dimension at position 0 (front)\n",
        "y = torch.unsqueeze(x, 0)          # Shape: (1, 4)\n",
        "print(\"Unsqueezed data:\\n\", y)\n",
        "print(\"Unsqueezed Shape:\", y.shape)"
      ],
      "metadata": {
        "colab": {
          "base_uri": "https://localhost:8080/"
        },
        "id": "jUWYooC6nhpM",
        "outputId": "e0cfc513-58f0-440f-82be-fbac39105fe6"
      },
      "execution_count": null,
      "outputs": [
        {
          "output_type": "stream",
          "name": "stdout",
          "text": [
            "Unsqueezed data:\n",
            " tensor([[1, 2, 3, 4]])\n",
            "Unsqueezed Shape: torch.Size([1, 4])\n"
          ]
        }
      ]
    },
    {
      "cell_type": "code",
      "source": [
        "# Add a new dimension at position 1 (end)\n",
        "z = torch.unsqueeze(x, 1)          # Shape: (4, 1)\n",
        "print(\"Unsqueezed data:\\n\", z)\n",
        "print(\"Unsqueezed Shape:\", z.shape)"
      ],
      "metadata": {
        "colab": {
          "base_uri": "https://localhost:8080/"
        },
        "id": "CtM0wAZ0nf1Q",
        "outputId": "5cbee547-3139-4fe6-9f41-f1606bfc5a6e"
      },
      "execution_count": null,
      "outputs": [
        {
          "output_type": "stream",
          "name": "stdout",
          "text": [
            "Unsqueezed data:\n",
            " tensor([[1],\n",
            "        [2],\n",
            "        [3],\n",
            "        [4]])\n",
            "Unsqueezed Shape: torch.Size([4, 1])\n"
          ]
        }
      ]
    },
    {
      "cell_type": "code",
      "source": [
        "# Squeeze\n",
        "# Removes dimensions of size 1.\n",
        "# If a specific dimension is given, only squeezes that dimension if its size is 1.\n",
        "\n",
        "x = torch.ones(2, 1, 2)            # Shape: (2, 1, 2)\n",
        "print(\"Original data:\\n\", x)\n",
        "print(\"Original Shape:\", x.shape)"
      ],
      "metadata": {
        "colab": {
          "base_uri": "https://localhost:8080/"
        },
        "id": "_PSfcEeDoSod",
        "outputId": "5d55c678-3d4c-40b8-9f7a-7e848a8f2b28"
      },
      "execution_count": null,
      "outputs": [
        {
          "output_type": "stream",
          "name": "stdout",
          "text": [
            "Original data:\n",
            " tensor([[[1., 1.]],\n",
            "\n",
            "        [[1., 1.]]])\n",
            "Original Shape: torch.Size([2, 1, 2])\n"
          ]
        }
      ]
    },
    {
      "cell_type": "code",
      "source": [
        "y = torch.squeeze(x)               # Shape: (2, 2)\n",
        "print(\"Squeezed data:\\n\", y)\n",
        "print(\"Squeezed Shape:\", y.shape)"
      ],
      "metadata": {
        "colab": {
          "base_uri": "https://localhost:8080/"
        },
        "id": "OAg4wPGcodV7",
        "outputId": "e27296b7-b555-4d5d-8078-31dc3078f418"
      },
      "execution_count": null,
      "outputs": [
        {
          "output_type": "stream",
          "name": "stdout",
          "text": [
            "Squeezed data:\n",
            " tensor([[1., 1.],\n",
            "        [1., 1.]])\n",
            "Squeezed Shape: torch.Size([2, 2])\n"
          ]
        }
      ]
    },
    {
      "cell_type": "code",
      "source": [
        "z = torch.squeeze(x, 1)            # Shape: (2, 2)\n",
        "print(\"Squeezed data:\\n\", z)\n",
        "print(\"Squeezed Shape:\", z.shape)"
      ],
      "metadata": {
        "colab": {
          "base_uri": "https://localhost:8080/"
        },
        "id": "_bMm65zDol1C",
        "outputId": "c718c425-7fb2-4b5a-ebbb-d2e37cdb8ef1"
      },
      "execution_count": null,
      "outputs": [
        {
          "output_type": "stream",
          "name": "stdout",
          "text": [
            "Squeezed data:\n",
            " tensor([[1., 1.],\n",
            "        [1., 1.]])\n",
            "Squeezed Shape: torch.Size([2, 2])\n"
          ]
        }
      ]
    },
    {
      "cell_type": "markdown",
      "source": [
        "**3. Autograd**\n",
        "\n",
        ". Autograd: Automatic Differentiation & Computation Graphs\n",
        "PyTorch’s `autograd` is an engine that automatically computes gradients for tensor operations, enabling efficient backpropagation for neural network training.\n",
        "\n",
        "Here’s how it works:\n",
        "\n",
        "\t•\tComputation Graph:\n",
        "Every operation on tensors with `requires_grad=True` is recorded in a dynamic computation graph. This graph tracks how each tensor is derived from others, allowing PyTorch to compute derivatives using the chain rule.\n",
        "\n",
        "\t•\tAutomatic Differentiation:\n",
        "When you call `.backward()` on a scalar output (like a loss), autograd traverses the computation graph from output to input, computing gradients for all tensors that have `requires_grad=True`"
      ],
      "metadata": {
        "id": "5ysQn0BAp8kD"
      }
    },
    {
      "cell_type": "code",
      "source": [
        "x = torch.ones(5)  # Input tensor\n",
        "y = torch.zeros(3) # Target tensor\n",
        "w = torch.randn(5, 3, requires_grad=True)  # Weights (parameters)\n",
        "b = torch.randn(3, requires_grad=True)     # Bias (parameters)\n",
        "\n",
        "print(\"Inputs:\", x)\n",
        "print(\"Inputs Shape:\", x.shape)\n",
        "\n",
        "print(\"Targets:\", y)\n",
        "print(\"Targets Shape:\", y.shape)\n",
        "\n",
        "print(\"Weights:\", w)\n",
        "print(\"Weights Shape:\", w.shape)\n",
        "\n",
        "print(\"Biases:\", b)\n",
        "print(\"Biases Shape:\", b.shape)"
      ],
      "metadata": {
        "colab": {
          "base_uri": "https://localhost:8080/"
        },
        "id": "9KOnO8L_p8DO",
        "outputId": "41bf5d12-00a3-4944-f194-b0c3e8c743ce"
      },
      "execution_count": null,
      "outputs": [
        {
          "output_type": "stream",
          "name": "stdout",
          "text": [
            "Inputs: tensor([1., 1., 1., 1., 1.])\n",
            "Inputs Shape: torch.Size([5])\n",
            "Targets: tensor([0., 0., 0.])\n",
            "Targets Shape: torch.Size([3])\n",
            "Weights: tensor([[ 1.4737,  0.7970, -0.1075],\n",
            "        [-1.0744, -0.8133,  1.6850],\n",
            "        [ 1.4632,  1.6119,  1.7806],\n",
            "        [ 0.9073, -0.2380, -0.1128],\n",
            "        [ 1.0691, -0.8396, -0.3070]], requires_grad=True)\n",
            "Weights Shape: torch.Size([5, 3])\n",
            "Biases: tensor([-1.9819, -0.3138, -0.5804], requires_grad=True)\n",
            "Biases Shape: torch.Size([3])\n"
          ]
        }
      ]
    },
    {
      "cell_type": "code",
      "source": [
        "z = torch.matmul(x, w) + b\n",
        "print(\"z:\", z)\n",
        "print(\"z Shape:\", z.shape)"
      ],
      "metadata": {
        "colab": {
          "base_uri": "https://localhost:8080/"
        },
        "id": "N2Fh7HFYqhed",
        "outputId": "bcd1f67b-46f8-41fc-dac4-ff9fc7f3bc58"
      },
      "execution_count": null,
      "outputs": [
        {
          "output_type": "stream",
          "name": "stdout",
          "text": [
            "z: tensor([1.8569, 0.2042, 2.3579], grad_fn=<AddBackward0>)\n",
            "z Shape: torch.Size([3])\n"
          ]
        }
      ]
    },
    {
      "cell_type": "code",
      "source": [
        "# compute loss\n",
        "# BCE: loss function for binary classification tasks, quantifies the difference between predicted probabilities and true binary labels (0 or 1),\n",
        "loss = torch.nn.functional.binary_cross_entropy_with_logits(z, y)\n",
        "loss.backward()  # Computes gradients for w and b\n",
        "print(\"Weight gradient:\\n\", w.grad)    # Gradient of loss w.r.t. w\n",
        "print(\"Bias gradient:\\n\", b.grad)    # Gradient of loss w.r.t. b"
      ],
      "metadata": {
        "colab": {
          "base_uri": "https://localhost:8080/"
        },
        "id": "4uTAGDcxr5xA",
        "outputId": "de325bdc-278e-4aac-b33f-2692aba5cb8d"
      },
      "execution_count": null,
      "outputs": [
        {
          "output_type": "stream",
          "name": "stdout",
          "text": [
            "Weight gradient:\n",
            " tensor([[1.1533, 0.7345, 1.2181],\n",
            "        [1.1533, 0.7345, 1.2181],\n",
            "        [1.1533, 0.7345, 1.2181],\n",
            "        [1.1533, 0.7345, 1.2181],\n",
            "        [1.1533, 0.7345, 1.2181]])\n",
            "Bias gradient:\n",
            " tensor([1.1533, 0.7345, 1.2181])\n"
          ]
        }
      ]
    },
    {
      "cell_type": "markdown",
      "source": [
        "**4. Simple Neural Network**"
      ],
      "metadata": {
        "id": "woQbHPpNsIgu"
      }
    },
    {
      "cell_type": "code",
      "source": [
        "import torch.nn as nn\n",
        "\n",
        "class SimpleNet(nn.Module):\n",
        "    def __init__(self):\n",
        "        super().__init__() #\n",
        "        self.fc1 = nn.Linear(4, 3)  # First linear layer\n",
        "        self.relu = nn.ReLU()       # Activation\n",
        "        self.fc2 = nn.Linear(3, 1)  # Output layer\n",
        "\n",
        "    def forward(self, x):\n",
        "        x = self.fc1(x)\n",
        "        x = self.relu(x)\n",
        "        return self.fc2(x)\n",
        "\n",
        "model = SimpleNet()\n",
        "print(\"model:\\n\", model)\n",
        "\n",
        "for name, param in model.named_parameters():\n",
        "    print(name, param.shape)"
      ],
      "metadata": {
        "colab": {
          "base_uri": "https://localhost:8080/"
        },
        "id": "SvMfB5posHxE",
        "outputId": "e63ec668-c941-4b2c-b145-f4e102fd7447"
      },
      "execution_count": null,
      "outputs": [
        {
          "output_type": "stream",
          "name": "stdout",
          "text": [
            "model:\n",
            " SimpleNet(\n",
            "  (fc1): Linear(in_features=4, out_features=3, bias=True)\n",
            "  (relu): ReLU()\n",
            "  (fc2): Linear(in_features=3, out_features=1, bias=True)\n",
            ")\n",
            "fc1.weight torch.Size([3, 4])\n",
            "fc1.bias torch.Size([3])\n",
            "fc2.weight torch.Size([1, 3])\n",
            "fc2.bias torch.Size([1])\n"
          ]
        }
      ]
    },
    {
      "cell_type": "markdown",
      "source": [
        "**`nn.CrossEntropyLoss`**. This loss function is specifically designed for multi-class classification tasks where the goal is to predict the next token (word, subword, or character) from a vocabulary, which is the core objective in language modeling.\n",
        "\n",
        "`CrossEntropyLoss`?\n",
        "\n",
        "\t•\tLanguage modeling is a multi-class classification problem: for each position in the sequence, the model predicts one token out of the entire vocabulary.\n",
        "\n",
        "\t•\t`nn.CrossEntropyLoss` combines `log_softmax` and negative log-likelihood loss in a single, numerically stable function.\n",
        "  \n",
        "\t•\tThe model’s output (logits) should have shape `batch_size, vocab_size` for each time step, and the target should be the index of the correct next token."
      ],
      "metadata": {
        "id": "6aJ6XTmNtrnU"
      }
    },
    {
      "cell_type": "code",
      "source": [
        "# Suppose output is [batch_size, vocab_size] and target is [batch_size]\n",
        "output = torch.randn(32, 10000)  # logits for 32 samples, 10,000 vocab size\n",
        "print(\"Output:\\n\", output)\n",
        "print(\"Output Shape:\", output.shape)\n",
        "\n",
        "target = torch.randint(0, 10000, (32,))  # target token indices\n",
        "print(\"Target:\\n\", target)\n",
        "print(\"Target Shape:\", target.shape)"
      ],
      "metadata": {
        "colab": {
          "base_uri": "https://localhost:8080/"
        },
        "id": "QDaxDkwStmMy",
        "outputId": "9b2f55cf-1c7f-4a1f-8893-dee7bf8840cd"
      },
      "execution_count": null,
      "outputs": [
        {
          "output_type": "stream",
          "name": "stdout",
          "text": [
            "Output:\n",
            " tensor([[-1.1844,  0.2629, -0.4970,  ..., -0.6772, -1.5638,  0.1890],\n",
            "        [-0.8921, -0.2371,  0.1527,  ..., -0.6550,  0.0168,  0.6555],\n",
            "        [ 0.2130, -1.4675, -1.2612,  ..., -0.5177, -0.3987, -0.2560],\n",
            "        ...,\n",
            "        [-0.0385, -1.6277,  0.8579,  ..., -1.2634,  0.1796,  0.6680],\n",
            "        [ 0.1526,  0.8426, -1.1346,  ..., -0.3724,  0.2880, -1.0769],\n",
            "        [ 0.1524,  1.1086,  0.0130,  ...,  2.1940,  1.7321, -0.4754]])\n",
            "Output Shape: torch.Size([32, 10000])\n",
            "Target:\n",
            " tensor([3363, 1050, 5131, 2486, 1400,  780, 4004, 1910,  472, 8286, 9509, 5565,\n",
            "        3092, 4865, 8314,  249,   75, 9517, 3555, 8755, 8743, 9219, 9869, 6650,\n",
            "        9243, 8029,  279, 7038, 4883, 9049, 5751, 8804])\n",
            "Target Shape: torch.Size([32])\n"
          ]
        }
      ]
    },
    {
      "cell_type": "code",
      "source": [
        "loss_fn = nn.CrossEntropyLoss()\n",
        "loss = loss_fn(output, target)\n",
        "print(\"Loss:\", loss)"
      ],
      "metadata": {
        "colab": {
          "base_uri": "https://localhost:8080/"
        },
        "id": "pFKWPY03t5pK",
        "outputId": "a6635e14-008f-4a60-943e-020fc3f47fc1"
      },
      "execution_count": null,
      "outputs": [
        {
          "output_type": "stream",
          "name": "stdout",
          "text": [
            "Loss: tensor(9.7297)\n"
          ]
        }
      ]
    }
  ]
}