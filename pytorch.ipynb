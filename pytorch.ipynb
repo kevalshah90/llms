{
  "nbformat": 4,
  "nbformat_minor": 0,
  "metadata": {
    "colab": {
      "provenance": [],
      "gpuType": "T4",
      "include_colab_link": true
    },
    "kernelspec": {
      "name": "python3",
      "display_name": "Python 3"
    },
    "language_info": {
      "name": "python"
    },
    "accelerator": "GPU"
  },
  "cells": [
    {
      "cell_type": "markdown",
      "metadata": {
        "id": "view-in-github",
        "colab_type": "text"
      },
      "source": [
        "<a href=\"https://colab.research.google.com/github/kevalshah90/llms/blob/main/pytorch.ipynb\" target=\"_parent\"><img src=\"https://colab.research.google.com/assets/colab-badge.svg\" alt=\"Open In Colab\"/></a>"
      ]
    },
    {
      "cell_type": "code",
      "execution_count": 1,
      "metadata": {
        "colab": {
          "base_uri": "https://localhost:8080/",
          "height": 35
        },
        "id": "UfB6stujgXKe",
        "outputId": "cd0915ac-c9ba-420f-817a-86292987ae18"
      },
      "outputs": [
        {
          "output_type": "execute_result",
          "data": {
            "text/plain": [
              "'/content'"
            ],
            "application/vnd.google.colaboratory.intrinsic+json": {
              "type": "string"
            }
          },
          "metadata": {},
          "execution_count": 1
        }
      ],
      "source": [
        "import os\n",
        "os.getcwd()"
      ]
    },
    {
      "cell_type": "code",
      "source": [
        "os.mkdir('/content/gpu')"
      ],
      "metadata": {
        "id": "y-TiJ8WcgcTp"
      },
      "execution_count": 3,
      "outputs": []
    },
    {
      "cell_type": "code",
      "source": [
        "os.chdir('/content/gpu/')\n",
        "os.getcwd()"
      ],
      "metadata": {
        "colab": {
          "base_uri": "https://localhost:8080/",
          "height": 35
        },
        "id": "62VCQ5sUgeIZ",
        "outputId": "111cfc86-19b4-4230-a08b-8a052e1ca8f4"
      },
      "execution_count": 4,
      "outputs": [
        {
          "output_type": "execute_result",
          "data": {
            "text/plain": [
              "'/content/gpu'"
            ],
            "application/vnd.google.colaboratory.intrinsic+json": {
              "type": "string"
            }
          },
          "metadata": {},
          "execution_count": 4
        }
      ]
    },
    {
      "cell_type": "code",
      "source": [
        "!pip install torchviz\n",
        "!sudo apt install graphviz"
      ],
      "metadata": {
        "id": "9-AutF8ykB8_"
      },
      "execution_count": null,
      "outputs": []
    },
    {
      "cell_type": "code",
      "source": [
        "import torch\n",
        "import numpy as np\n",
        "#from torchviz import make_dot"
      ],
      "metadata": {
        "id": "yZ4Fsg98gljA"
      },
      "execution_count": 7,
      "outputs": []
    },
    {
      "cell_type": "code",
      "source": [
        "device = 'cuda' if torch.cuda.is_available() else 'cpu'\n",
        "print(device)"
      ],
      "metadata": {
        "colab": {
          "base_uri": "https://localhost:8080/"
        },
        "id": "4c4x6OtHJ47s",
        "outputId": "93bb5492-c705-4d96-bc21-7330694f398f"
      },
      "execution_count": 8,
      "outputs": [
        {
          "output_type": "stream",
          "name": "stdout",
          "text": [
            "cuda\n"
          ]
        }
      ]
    },
    {
      "cell_type": "markdown",
      "source": [
        "**1. Creating Tensors**"
      ],
      "metadata": {
        "id": "0_YFG5PRhALJ"
      }
    },
    {
      "cell_type": "markdown",
      "source": [
        "Tensor shapes are represented as (row, column)"
      ],
      "metadata": {
        "id": "bFRXayWzmZyY"
      }
    },
    {
      "cell_type": "code",
      "source": [
        "# Empty tensor (uninitialized values)\n",
        "x = torch.empty(2,3)\n",
        "print(\"Empty:\\n\", x)\n",
        "print(\"Shape\", x.shape)"
      ],
      "metadata": {
        "colab": {
          "base_uri": "https://localhost:8080/"
        },
        "id": "TWFm-2MfguVp",
        "outputId": "165c8e0a-abe3-4689-e06d-2e8ea553d8ce"
      },
      "execution_count": 9,
      "outputs": [
        {
          "output_type": "stream",
          "name": "stdout",
          "text": [
            "Empty:\n",
            " tensor([[0., 0., 0.],\n",
            "        [0., 0., 0.]])\n",
            "Shape torch.Size([2, 3])\n"
          ]
        }
      ]
    },
    {
      "cell_type": "code",
      "source": [
        "# Tensor of zeros\n",
        "zeros = torch.zeros(2, 3)\n",
        "print(\"Zeros:\\n\", zeros)\n",
        "print(\"Shape\", zeros.shape)"
      ],
      "metadata": {
        "colab": {
          "base_uri": "https://localhost:8080/"
        },
        "id": "HKzkOwABhPNF",
        "outputId": "62a67f0d-6641-453f-ad56-791b1f1812a9"
      },
      "execution_count": null,
      "outputs": [
        {
          "output_type": "stream",
          "name": "stdout",
          "text": [
            "Zeros:\n",
            " tensor([[0., 0., 0.],\n",
            "        [0., 0., 0.]])\n",
            "Shape torch.Size([2, 3])\n"
          ]
        }
      ]
    },
    {
      "cell_type": "code",
      "source": [
        "# Tensor of ones\n",
        "ones = torch.ones(2, 3)\n",
        "print(\"Ones:\\n\", ones)\n",
        "print(\"Shape\", ones.shape)"
      ],
      "metadata": {
        "colab": {
          "base_uri": "https://localhost:8080/"
        },
        "id": "UanCqYyThSdc",
        "outputId": "3cad538c-bca4-4787-8d5a-6cc69c4359a5"
      },
      "execution_count": null,
      "outputs": [
        {
          "output_type": "stream",
          "name": "stdout",
          "text": [
            "Ones:\n",
            " tensor([[1., 1., 1.],\n",
            "        [1., 1., 1.]])\n",
            "Shape torch.Size([2, 3])\n"
          ]
        }
      ]
    },
    {
      "cell_type": "code",
      "source": [
        "# Random tensor\n",
        "rand = torch.rand(2, 3)\n",
        "print(\"Random:\\n\", rand)\n",
        "print(\"Shape\", rand.shape)"
      ],
      "metadata": {
        "colab": {
          "base_uri": "https://localhost:8080/"
        },
        "id": "3uMXvNYmhZr1",
        "outputId": "4f9fad7e-ff4a-4bbc-dbe2-6aec1d8e1cea"
      },
      "execution_count": null,
      "outputs": [
        {
          "output_type": "stream",
          "name": "stdout",
          "text": [
            "Random:\n",
            " tensor([[0.6682, 0.7786, 0.7509],\n",
            "        [0.4421, 0.8565, 0.4874]])\n",
            "Shape torch.Size([2, 3])\n"
          ]
        }
      ]
    },
    {
      "cell_type": "code",
      "source": [
        "# Tensor from data\n",
        "data = torch.tensor([[1, 2], [3, 4]])\n",
        "print(\"From data:\\n\", data)\n",
        "print(\"Shape\", data.shape)"
      ],
      "metadata": {
        "colab": {
          "base_uri": "https://localhost:8080/"
        },
        "id": "dvmJ2dIXhqjx",
        "outputId": "79e76a5b-e0cf-48d4-c854-05d580663ecb"
      },
      "execution_count": null,
      "outputs": [
        {
          "output_type": "stream",
          "name": "stdout",
          "text": [
            "From data:\n",
            " tensor([[1, 2],\n",
            "        [3, 4]])\n",
            "Shape torch.Size([2, 2])\n"
          ]
        }
      ]
    },
    {
      "cell_type": "code",
      "source": [
        "# Tensor from numpy\n",
        "np_array = np.array([[1, 2], [3, 4]])\n",
        "from_numpy = torch.from_numpy(np_array)\n",
        "print(\"From numpy:\\n\", from_numpy)\n",
        "print(\"Shape\", from_numpy.shape)"
      ],
      "metadata": {
        "colab": {
          "base_uri": "https://localhost:8080/"
        },
        "id": "cfY247_Rh277",
        "outputId": "f836b8e0-386c-4775-ce6a-d445b8764ab0"
      },
      "execution_count": null,
      "outputs": [
        {
          "output_type": "stream",
          "name": "stdout",
          "text": [
            "From numpy:\n",
            " tensor([[1, 2],\n",
            "        [3, 4]])\n",
            "Shape torch.Size([2, 2])\n"
          ]
        }
      ]
    },
    {
      "cell_type": "markdown",
      "source": [
        "**2. Manipulations / Basic Operations / Reshaping**"
      ],
      "metadata": {
        "id": "HSU2QnAiiXdk"
      }
    },
    {
      "cell_type": "code",
      "source": [
        "a = torch.tensor([1, 2, 3])\n",
        "b = torch.tensor([4, 5, 6])\n",
        "\n",
        "print(\"Shape a, b:\", a.shape, b.shape)\n",
        "\n",
        "# Addition\n",
        "print(\"Addition:\", a + b)\n",
        "\n",
        "# Subtraction\n",
        "print(\"Subtraction:\", a - b)\n",
        "\n",
        "# Multiplication\n",
        "print(\"Multiplication:\", a * b)\n",
        "\n",
        "# Division\n",
        "print(\"Division:\", a / b)"
      ],
      "metadata": {
        "colab": {
          "base_uri": "https://localhost:8080/"
        },
        "id": "fe99_NgoiEWU",
        "outputId": "4409cd09-2ae9-4221-ff5d-4fbd46f45f30"
      },
      "execution_count": null,
      "outputs": [
        {
          "output_type": "stream",
          "name": "stdout",
          "text": [
            "Shape a, b: torch.Size([3]) torch.Size([3])\n",
            "Addition: tensor([5, 7, 9])\n",
            "Subtraction: tensor([-3, -3, -3])\n",
            "Multiplication: tensor([ 4, 10, 18])\n",
            "Division: tensor([0.2500, 0.4000, 0.5000])\n"
          ]
        }
      ]
    },
    {
      "cell_type": "code",
      "source": [
        "A = torch.tensor([[1, 2], [3, 4]], dtype=torch.float32)\n",
        "B = torch.tensor([[5, 6], [7, 8]], dtype=torch.float32)\n",
        "\n",
        "# Matrix multiplication\n",
        "C = torch.mm(A, B)\n",
        "print(\"Matrix Multiplication (mm):\\n\", C)\n",
        "\n",
        "# Using @ operator\n",
        "C2 = A @ B\n",
        "print(\"Matrix Multiplication (@):\\n\", C2)\n",
        "\n",
        "# Using matmul\n",
        "C3 = torch.matmul(A, B)\n",
        "print(\"Matrix Multiplication (matmul):\\n\", C3)"
      ],
      "metadata": {
        "colab": {
          "base_uri": "https://localhost:8080/"
        },
        "id": "Daqpg0XKidGc",
        "outputId": "5a0d1085-043c-4af7-e003-73837212dea1"
      },
      "execution_count": null,
      "outputs": [
        {
          "output_type": "stream",
          "name": "stdout",
          "text": [
            "Matrix Multiplication (mm):\n",
            " tensor([[19., 22.],\n",
            "        [43., 50.]])\n",
            "Matrix Multiplication (@):\n",
            " tensor([[19., 22.],\n",
            "        [43., 50.]])\n",
            "Matrix Multiplication (matmul):\n",
            " tensor([[19., 22.],\n",
            "        [43., 50.]])\n"
          ]
        }
      ]
    },
    {
      "cell_type": "code",
      "source": [
        "# Reshaping\n",
        "x = torch.arange(12)\n",
        "print(\"Original:\\n\", x)\n",
        "print(\"Shape:\", x.shape)\n",
        "reshaped = x.view(3, 4)\n",
        "print(\"Reshaped:\\n\", reshaped)"
      ],
      "metadata": {
        "colab": {
          "base_uri": "https://localhost:8080/"
        },
        "id": "ltx14vVJiuEH",
        "outputId": "d6898137-3fff-436c-c66c-d4d3915d3a98"
      },
      "execution_count": 4,
      "outputs": [
        {
          "output_type": "stream",
          "name": "stdout",
          "text": [
            "Original:\n",
            " tensor([ 0,  1,  2,  3,  4,  5,  6,  7,  8,  9, 10, 11])\n",
            "Shape: torch.Size([12])\n",
            "Reshaped:\n",
            " tensor([[ 0,  1,  2,  3],\n",
            "        [ 4,  5,  6,  7],\n",
            "        [ 8,  9, 10, 11]])\n"
          ]
        }
      ]
    },
    {
      "cell_type": "code",
      "source": [
        "data = [1,2,3,4,5,6,7,8]\n",
        "x = torch.tensor(data)             # Shape: (8,)\n",
        "print(\"Original data:\", x)\n",
        "print(\"Original Shape:\", x.shape)"
      ],
      "metadata": {
        "colab": {
          "base_uri": "https://localhost:8080/"
        },
        "id": "wSqI9hQPjP15",
        "outputId": "ca9068c9-aadc-40a9-95d5-e5a20374081e"
      },
      "execution_count": 5,
      "outputs": [
        {
          "output_type": "stream",
          "name": "stdout",
          "text": [
            "Original data: tensor([1, 2, 3, 4, 5, 6, 7, 8])\n",
            "Original Shape: torch.Size([8])\n"
          ]
        }
      ]
    },
    {
      "cell_type": "code",
      "source": [
        "x.view(2, 4)                       # Shape: (2, 4)"
      ],
      "metadata": {
        "colab": {
          "base_uri": "https://localhost:8080/"
        },
        "id": "-yjPY1XdmSIq",
        "outputId": "f7047d3d-7a96-4811-ca99-b3c7343eb3f1"
      },
      "execution_count": null,
      "outputs": [
        {
          "output_type": "execute_result",
          "data": {
            "text/plain": [
              "tensor([[1, 2, 3, 4],\n",
              "        [5, 6, 7, 8]])"
            ]
          },
          "metadata": {},
          "execution_count": 37
        }
      ]
    },
    {
      "cell_type": "code",
      "source": [
        "y = x.reshape(2, 4)                # Shape: (2, 4)\n",
        "print(\"Reshaped data:\\n\", y)\n",
        "print(\"Reshaped Shape:\", y.shape)"
      ],
      "metadata": {
        "colab": {
          "base_uri": "https://localhost:8080/"
        },
        "id": "MRnL-u9UjqD6",
        "outputId": "3d3a0c48-a586-4c42-d293-c671a6680c62"
      },
      "execution_count": 6,
      "outputs": [
        {
          "output_type": "stream",
          "name": "stdout",
          "text": [
            "Reshaped data:\n",
            " tensor([[1, 2, 3, 4],\n",
            "        [5, 6, 7, 8]])\n",
            "Reshaped Shape: torch.Size([2, 4])\n"
          ]
        }
      ]
    },
    {
      "cell_type": "code",
      "source": [
        "z = x.reshape(2, 2, 2)             # Shape: (2, 2, 2)\n",
        "print(\"Reshaped data:\\n\", z)\n",
        "print(\"Reshaped Shape:\", z.shape)"
      ],
      "metadata": {
        "colab": {
          "base_uri": "https://localhost:8080/"
        },
        "id": "r7VEGoE1jigL",
        "outputId": "24798a33-d447-4b22-8b30-0772f5abc7a7"
      },
      "execution_count": 7,
      "outputs": [
        {
          "output_type": "stream",
          "name": "stdout",
          "text": [
            "Reshaped data:\n",
            " tensor([[[1, 2],\n",
            "         [3, 4]],\n",
            "\n",
            "        [[5, 6],\n",
            "         [7, 8]]])\n",
            "Reshaped Shape: torch.Size([2, 2, 2])\n"
          ]
        }
      ]
    },
    {
      "cell_type": "code",
      "source": [
        "# Reshaping\n",
        "x = torch.randn(2, 4, 6)\n",
        "print(\"Original data:\\n\", x)\n",
        "print(\"Original Shape:\", x.shape)"
      ],
      "metadata": {
        "colab": {
          "base_uri": "https://localhost:8080/"
        },
        "id": "XQqMlGQPkKPu",
        "outputId": "b87f9489-f1a9-4db5-83e4-6b6138a6d44e"
      },
      "execution_count": 11,
      "outputs": [
        {
          "output_type": "stream",
          "name": "stdout",
          "text": [
            "Original data:\n",
            " tensor([[[-0.4469, -0.3507, -0.3252, -0.8898,  0.7878, -0.8830],\n",
            "         [ 0.0629, -1.3546,  0.9535, -1.1747, -1.3714,  0.1680],\n",
            "         [-1.0291,  2.2693,  1.6446,  1.1041, -0.4724,  0.1731],\n",
            "         [ 0.8877, -0.9842, -2.1625, -0.5211, -0.2026, -0.3824]],\n",
            "\n",
            "        [[-1.4256,  0.1491, -0.8964,  0.1974,  0.7186, -1.3922],\n",
            "         [-0.9693,  0.3032, -0.2244, -0.0201, -0.5667,  2.0168],\n",
            "         [-0.5122,  1.0171, -0.9497, -0.7879,  0.6211,  0.1571],\n",
            "         [ 0.0034,  0.5644, -0.6413,  1.9169, -0.7307, -0.0750]]])\n",
            "Original Shape: torch.Size([2, 4, 6])\n"
          ]
        }
      ]
    },
    {
      "cell_type": "code",
      "source": [
        "# Flatten to 1-D\n",
        "y = x.view(-1)\n",
        "print(\"Flattened data:\\n\", y)\n",
        "print(\"Flattened Shape:\", y.shape)"
      ],
      "metadata": {
        "colab": {
          "base_uri": "https://localhost:8080/"
        },
        "id": "EHn4mWGzkKh4",
        "outputId": "641e2231-2902-4d00-934d-87888217843f"
      },
      "execution_count": 13,
      "outputs": [
        {
          "output_type": "stream",
          "name": "stdout",
          "text": [
            "Flattened data:\n",
            " tensor([-0.4469, -0.3507, -0.3252, -0.8898,  0.7878, -0.8830,  0.0629, -1.3546,\n",
            "         0.9535, -1.1747, -1.3714,  0.1680, -1.0291,  2.2693,  1.6446,  1.1041,\n",
            "        -0.4724,  0.1731,  0.8877, -0.9842, -2.1625, -0.5211, -0.2026, -0.3824,\n",
            "        -1.4256,  0.1491, -0.8964,  0.1974,  0.7186, -1.3922, -0.9693,  0.3032,\n",
            "        -0.2244, -0.0201, -0.5667,  2.0168, -0.5122,  1.0171, -0.9497, -0.7879,\n",
            "         0.6211,  0.1571,  0.0034,  0.5644, -0.6413,  1.9169, -0.7307, -0.0750])\n",
            "Flattened Shape: torch.Size([48])\n"
          ]
        }
      ]
    },
    {
      "cell_type": "code",
      "source": [
        "# Unsqueeze\n",
        "# Adds a dimension of size 1 at the specified position (axis)\n",
        "# useful for adding batch or channel dimensions.\n",
        "\n",
        "x = torch.tensor([1, 2, 3, 4])     # Shape: (4,)\n",
        "print(\"Original data:\\n\", x)\n",
        "print(\"Original Shape:\", x.shape)"
      ],
      "metadata": {
        "colab": {
          "base_uri": "https://localhost:8080/"
        },
        "id": "xRyihe17nPHS",
        "outputId": "98ed7194-02bc-4e8d-ac9b-9fc6994f5ddd"
      },
      "execution_count": 8,
      "outputs": [
        {
          "output_type": "stream",
          "name": "stdout",
          "text": [
            "Original data:\n",
            " tensor([1, 2, 3, 4])\n",
            "Original Shape: torch.Size([4])\n"
          ]
        }
      ]
    },
    {
      "cell_type": "code",
      "source": [
        "# Add a new dimension at position 0 (front)\n",
        "y = torch.unsqueeze(x, 0)          # Shape: (1, 4)\n",
        "print(\"Unsqueezed data:\\n\", y)\n",
        "print(\"Unsqueezed Shape:\", y.shape)"
      ],
      "metadata": {
        "colab": {
          "base_uri": "https://localhost:8080/"
        },
        "id": "jUWYooC6nhpM",
        "outputId": "e0cfc513-58f0-440f-82be-fbac39105fe6"
      },
      "execution_count": null,
      "outputs": [
        {
          "output_type": "stream",
          "name": "stdout",
          "text": [
            "Unsqueezed data:\n",
            " tensor([[1, 2, 3, 4]])\n",
            "Unsqueezed Shape: torch.Size([1, 4])\n"
          ]
        }
      ]
    },
    {
      "cell_type": "code",
      "source": [
        "# Add a new dimension at position 1 (end)\n",
        "z = torch.unsqueeze(x, 1)          # Shape: (4, 1)\n",
        "print(\"Unsqueezed data:\\n\", z)\n",
        "print(\"Unsqueezed Shape:\", z.shape)"
      ],
      "metadata": {
        "colab": {
          "base_uri": "https://localhost:8080/"
        },
        "id": "CtM0wAZ0nf1Q",
        "outputId": "5cbee547-3139-4fe6-9f41-f1606bfc5a6e"
      },
      "execution_count": null,
      "outputs": [
        {
          "output_type": "stream",
          "name": "stdout",
          "text": [
            "Unsqueezed data:\n",
            " tensor([[1],\n",
            "        [2],\n",
            "        [3],\n",
            "        [4]])\n",
            "Unsqueezed Shape: torch.Size([4, 1])\n"
          ]
        }
      ]
    },
    {
      "cell_type": "code",
      "source": [
        "# Squeeze\n",
        "# Removes dimensions of size 1.\n",
        "# If a specific dimension is given, only squeezes that dimension if its size is 1.\n",
        "\n",
        "x = torch.ones(2, 1, 2)            # Shape: (2, 1, 2)\n",
        "print(\"Original data:\\n\", x)\n",
        "print(\"Original Shape:\", x.shape)"
      ],
      "metadata": {
        "colab": {
          "base_uri": "https://localhost:8080/"
        },
        "id": "_PSfcEeDoSod",
        "outputId": "dfcdcb32-cf72-4ea2-d450-7c519b00378a"
      },
      "execution_count": 9,
      "outputs": [
        {
          "output_type": "stream",
          "name": "stdout",
          "text": [
            "Original data:\n",
            " tensor([[[1., 1.]],\n",
            "\n",
            "        [[1., 1.]]])\n",
            "Original Shape: torch.Size([2, 1, 2])\n"
          ]
        }
      ]
    },
    {
      "cell_type": "code",
      "source": [
        "y = torch.squeeze(x, dim=1)               # Shape: (2, 2)\n",
        "print(\"Squeezed data:\\n\", y)\n",
        "print(\"Squeezed Shape:\", y.shape)"
      ],
      "metadata": {
        "colab": {
          "base_uri": "https://localhost:8080/"
        },
        "id": "OAg4wPGcodV7",
        "outputId": "f5c72479-7dc4-42b9-c8ad-0e50dde3de98"
      },
      "execution_count": 11,
      "outputs": [
        {
          "output_type": "stream",
          "name": "stdout",
          "text": [
            "Squeezed data:\n",
            " tensor([[1., 1.],\n",
            "        [1., 1.]])\n",
            "Squeezed Shape: torch.Size([2, 2])\n"
          ]
        }
      ]
    },
    {
      "cell_type": "code",
      "source": [
        "z = torch.squeeze(x, 1)            # Shape: (2, 2)\n",
        "print(\"Squeezed data:\\n\", z)\n",
        "print(\"Squeezed Shape:\", z.shape)"
      ],
      "metadata": {
        "colab": {
          "base_uri": "https://localhost:8080/"
        },
        "id": "_bMm65zDol1C",
        "outputId": "c718c425-7fb2-4b5a-ebbb-d2e37cdb8ef1"
      },
      "execution_count": null,
      "outputs": [
        {
          "output_type": "stream",
          "name": "stdout",
          "text": [
            "Squeezed data:\n",
            " tensor([[1., 1.],\n",
            "        [1., 1.]])\n",
            "Squeezed Shape: torch.Size([2, 2])\n"
          ]
        }
      ]
    },
    {
      "cell_type": "markdown",
      "source": [
        "**3. Autograd**\n",
        "\n",
        ". Autograd: Automatic Differentiation & Computation Graphs\n",
        "PyTorch’s `autograd` is an engine that automatically computes gradients for tensor operations, enabling efficient backpropagation for neural network training.\n",
        "\n",
        "Here’s how it works:\n",
        "\n",
        "\t•\tComputation Graph:\n",
        "Every operation on tensors with `requires_grad=True` is recorded in a dynamic computation graph. This graph tracks how each tensor is derived from others, allowing PyTorch to compute derivatives using the chain rule.\n",
        "\n",
        "\t•\tAutomatic Differentiation:\n",
        "When you call `.backward()` on a scalar output (like a loss), autograd traverses the computation graph from output to input, computing gradients for all tensors that have `requires_grad=True`"
      ],
      "metadata": {
        "id": "5ysQn0BAp8kD"
      }
    },
    {
      "cell_type": "code",
      "source": [
        "x = torch.ones(5)  # Input tensor\n",
        "y = torch.zeros(3) # Target tensor\n",
        "w = torch.randn(5, 3, requires_grad=True)  # Weights (parameters)\n",
        "b = torch.randn(3, requires_grad=True)     # Bias (parameters)\n",
        "\n",
        "print(\"Inputs:\", x)\n",
        "print(\"Inputs Shape:\", x.shape)\n",
        "\n",
        "print(\"Targets:\", y)\n",
        "print(\"Targets Shape:\", y.shape)\n",
        "\n",
        "print(\"Weights:\", w)\n",
        "print(\"Weights Shape:\", w.shape)\n",
        "\n",
        "print(\"Biases:\", b)\n",
        "print(\"Biases Shape:\", b.shape)"
      ],
      "metadata": {
        "colab": {
          "base_uri": "https://localhost:8080/"
        },
        "id": "9KOnO8L_p8DO",
        "outputId": "e2de329c-93fa-4afb-e88f-7c367da26c68"
      },
      "execution_count": 13,
      "outputs": [
        {
          "output_type": "stream",
          "name": "stdout",
          "text": [
            "Inputs: tensor([1., 1., 1., 1., 1.])\n",
            "Inputs Shape: torch.Size([5])\n",
            "Targets: tensor([0., 0., 0.])\n",
            "Targets Shape: torch.Size([3])\n",
            "Weights: tensor([[-0.0295,  0.8848, -0.5108],\n",
            "        [ 2.2497,  2.3181, -0.7023],\n",
            "        [-0.3785, -1.5514,  0.0183],\n",
            "        [-1.1340,  1.0937,  0.0170],\n",
            "        [ 0.7008, -0.7555,  1.3509]], requires_grad=True)\n",
            "Weights Shape: torch.Size([5, 3])\n",
            "Biases: tensor([-0.4831, -0.8344,  0.3304], requires_grad=True)\n",
            "Biases Shape: torch.Size([3])\n"
          ]
        }
      ]
    },
    {
      "cell_type": "code",
      "source": [
        "z = torch.matmul(x, w) + b\n",
        "print(\"z:\", z)\n",
        "print(\"z Shape:\", z.shape)"
      ],
      "metadata": {
        "colab": {
          "base_uri": "https://localhost:8080/"
        },
        "id": "N2Fh7HFYqhed",
        "outputId": "022b0177-7cfd-4084-e23d-8afb14f2c7fa"
      },
      "execution_count": 14,
      "outputs": [
        {
          "output_type": "stream",
          "name": "stdout",
          "text": [
            "z: tensor([0.9254, 1.1552, 0.5035], grad_fn=<AddBackward0>)\n",
            "z Shape: torch.Size([3])\n"
          ]
        }
      ]
    },
    {
      "cell_type": "code",
      "source": [
        "# compute loss\n",
        "# BCE: loss function for binary classification tasks, quantifies the difference between predicted probabilities and true binary labels (0 or 1),\n",
        "loss = torch.nn.functional.binary_cross_entropy_with_logits(z, y)\n",
        "print(\"grad_fn for loss:\", loss.grad_fn)"
      ],
      "metadata": {
        "colab": {
          "base_uri": "https://localhost:8080/"
        },
        "id": "4uTAGDcxr5xA",
        "outputId": "f00d7c5e-2e35-4cb1-cb2f-d9ddd9ef117a"
      },
      "execution_count": 15,
      "outputs": [
        {
          "output_type": "stream",
          "name": "stdout",
          "text": [
            "grad_fn for loss: <BinaryCrossEntropyWithLogitsBackward0 object at 0x7f09a8a83b50>\n"
          ]
        }
      ]
    },
    {
      "cell_type": "code",
      "source": [
        "loss.backward()  # Computes gradients for w and b\n",
        "print(\"Weight gradient:\\n\", w.grad)    # Gradient of loss w.r.t. w\n",
        "print(\"Bias gradient:\\n\", b.grad)    # Gradient of loss w.r.t. b"
      ],
      "metadata": {
        "colab": {
          "base_uri": "https://localhost:8080/"
        },
        "id": "h1V218rSflKI",
        "outputId": "f80a7938-56ae-421d-fb05-819c144f03d7"
      },
      "execution_count": 16,
      "outputs": [
        {
          "output_type": "stream",
          "name": "stdout",
          "text": [
            "Weight gradient:\n",
            " tensor([[0.2387, 0.2535, 0.2078],\n",
            "        [0.2387, 0.2535, 0.2078],\n",
            "        [0.2387, 0.2535, 0.2078],\n",
            "        [0.2387, 0.2535, 0.2078],\n",
            "        [0.2387, 0.2535, 0.2078]])\n",
            "Bias gradient:\n",
            " tensor([0.2387, 0.2535, 0.2078])\n"
          ]
        }
      ]
    },
    {
      "cell_type": "code",
      "source": [
        "# Build the graph with parameters labeled\n",
        "dot = make_dot(loss, params={'w': w, 'b': b})\n",
        "# Display inline\n",
        "dot\n",
        "\n",
        "#dot.format = \"png\"\n",
        "#dot.render(\"bce_autograd_graph\", cleanup=True)\n",
        "\n",
        "#print(\"Graph saved as bce_autograd_graph.png\")"
      ],
      "metadata": {
        "colab": {
          "base_uri": "https://localhost:8080/",
          "height": 543
        },
        "id": "Fj9rpAXugYko",
        "outputId": "0d09abee-2090-4c4b-d0dc-1c9949c404cb"
      },
      "execution_count": 22,
      "outputs": [
        {
          "output_type": "execute_result",
          "data": {
            "image/svg+xml": "<?xml version=\"1.0\" encoding=\"UTF-8\" standalone=\"no\"?>\n<!DOCTYPE svg PUBLIC \"-//W3C//DTD SVG 1.1//EN\"\n \"http://www.w3.org/Graphics/SVG/1.1/DTD/svg11.dtd\">\n<!-- Generated by graphviz version 2.43.0 (0)\n -->\n<!-- Title: %3 Pages: 1 -->\n<svg width=\"247pt\" height=\"391pt\"\n viewBox=\"0.00 0.00 247.00 391.00\" xmlns=\"http://www.w3.org/2000/svg\" xmlns:xlink=\"http://www.w3.org/1999/xlink\">\n<g id=\"graph0\" class=\"graph\" transform=\"scale(1 1) rotate(0) translate(4 387)\">\n<title>%3</title>\n<polygon fill=\"white\" stroke=\"transparent\" points=\"-4,4 -4,-387 243,-387 243,4 -4,4\"/>\n<!-- 139679460552112 -->\n<g id=\"node1\" class=\"node\">\n<title>139679460552112</title>\n<polygon fill=\"#caff70\" stroke=\"black\" points=\"146.5,-31 92.5,-31 92.5,0 146.5,0 146.5,-31\"/>\n<text text-anchor=\"middle\" x=\"119.5\" y=\"-7\" font-family=\"monospace\" font-size=\"10.00\"> ()</text>\n</g>\n<!-- 139683683873648 -->\n<g id=\"node2\" class=\"node\">\n<title>139683683873648</title>\n<polygon fill=\"lightgrey\" stroke=\"black\" points=\"239,-86 0,-86 0,-67 239,-67 239,-86\"/>\n<text text-anchor=\"middle\" x=\"119.5\" y=\"-74\" font-family=\"monospace\" font-size=\"10.00\">BinaryCrossEntropyWithLogitsBackward0</text>\n</g>\n<!-- 139683683873648&#45;&gt;139679460552112 -->\n<g id=\"edge8\" class=\"edge\">\n<title>139683683873648&#45;&gt;139679460552112</title>\n<path fill=\"none\" stroke=\"black\" d=\"M119.5,-66.79C119.5,-60.07 119.5,-50.4 119.5,-41.34\"/>\n<polygon fill=\"black\" stroke=\"black\" points=\"123,-41.19 119.5,-31.19 116,-41.19 123,-41.19\"/>\n</g>\n<!-- 139683683866304 -->\n<g id=\"node3\" class=\"node\">\n<title>139683683866304</title>\n<polygon fill=\"lightgrey\" stroke=\"black\" points=\"164,-141 75,-141 75,-122 164,-122 164,-141\"/>\n<text text-anchor=\"middle\" x=\"119.5\" y=\"-129\" font-family=\"monospace\" font-size=\"10.00\">AddBackward0</text>\n</g>\n<!-- 139683683866304&#45;&gt;139683683873648 -->\n<g id=\"edge1\" class=\"edge\">\n<title>139683683866304&#45;&gt;139683683873648</title>\n<path fill=\"none\" stroke=\"black\" d=\"M119.5,-121.75C119.5,-114.8 119.5,-104.85 119.5,-96.13\"/>\n<polygon fill=\"black\" stroke=\"black\" points=\"123,-96.09 119.5,-86.09 116,-96.09 123,-96.09\"/>\n</g>\n<!-- 139683683866160 -->\n<g id=\"node4\" class=\"node\">\n<title>139683683866160</title>\n<polygon fill=\"lightgrey\" stroke=\"black\" points=\"114,-196 1,-196 1,-177 114,-177 114,-196\"/>\n<text text-anchor=\"middle\" x=\"57.5\" y=\"-184\" font-family=\"monospace\" font-size=\"10.00\">SqueezeBackward4</text>\n</g>\n<!-- 139683683866160&#45;&gt;139683683866304 -->\n<g id=\"edge2\" class=\"edge\">\n<title>139683683866160&#45;&gt;139683683866304</title>\n<path fill=\"none\" stroke=\"black\" d=\"M67.46,-176.98C76.63,-169.15 90.44,-157.34 101.53,-147.86\"/>\n<polygon fill=\"black\" stroke=\"black\" points=\"104.03,-150.33 109.36,-141.17 99.48,-145.01 104.03,-150.33\"/>\n</g>\n<!-- 139683683866352 -->\n<g id=\"node5\" class=\"node\">\n<title>139683683866352</title>\n<polygon fill=\"lightgrey\" stroke=\"black\" points=\"99,-256.5 16,-256.5 16,-237.5 99,-237.5 99,-256.5\"/>\n<text text-anchor=\"middle\" x=\"57.5\" y=\"-244.5\" font-family=\"monospace\" font-size=\"10.00\">MmBackward0</text>\n</g>\n<!-- 139683683866352&#45;&gt;139683683866160 -->\n<g id=\"edge3\" class=\"edge\">\n<title>139683683866352&#45;&gt;139683683866160</title>\n<path fill=\"none\" stroke=\"black\" d=\"M57.5,-237.37C57.5,-229.25 57.5,-216.81 57.5,-206.39\"/>\n<polygon fill=\"black\" stroke=\"black\" points=\"61,-206.17 57.5,-196.17 54,-206.17 61,-206.17\"/>\n</g>\n<!-- 139683683863520 -->\n<g id=\"node6\" class=\"node\">\n<title>139683683863520</title>\n<polygon fill=\"lightgrey\" stroke=\"black\" points=\"108,-317 7,-317 7,-298 108,-298 108,-317\"/>\n<text text-anchor=\"middle\" x=\"57.5\" y=\"-305\" font-family=\"monospace\" font-size=\"10.00\">AccumulateGrad</text>\n</g>\n<!-- 139683683863520&#45;&gt;139683683866352 -->\n<g id=\"edge4\" class=\"edge\">\n<title>139683683863520&#45;&gt;139683683866352</title>\n<path fill=\"none\" stroke=\"black\" d=\"M57.5,-297.87C57.5,-289.75 57.5,-277.31 57.5,-266.89\"/>\n<polygon fill=\"black\" stroke=\"black\" points=\"61,-266.67 57.5,-256.67 54,-266.67 61,-266.67\"/>\n</g>\n<!-- 139679460554416 -->\n<g id=\"node7\" class=\"node\">\n<title>139679460554416</title>\n<polygon fill=\"lightblue\" stroke=\"black\" points=\"87,-383 28,-383 28,-353 87,-353 87,-383\"/>\n<text text-anchor=\"middle\" x=\"57.5\" y=\"-371\" font-family=\"monospace\" font-size=\"10.00\">w</text>\n<text text-anchor=\"middle\" x=\"57.5\" y=\"-360\" font-family=\"monospace\" font-size=\"10.00\"> (5, 3)</text>\n</g>\n<!-- 139679460554416&#45;&gt;139683683863520 -->\n<g id=\"edge5\" class=\"edge\">\n<title>139679460554416&#45;&gt;139683683863520</title>\n<path fill=\"none\" stroke=\"black\" d=\"M57.5,-352.84C57.5,-345.21 57.5,-335.7 57.5,-327.45\"/>\n<polygon fill=\"black\" stroke=\"black\" points=\"61,-327.27 57.5,-317.27 54,-327.27 61,-327.27\"/>\n</g>\n<!-- 139683683866400 -->\n<g id=\"node8\" class=\"node\">\n<title>139683683866400</title>\n<polygon fill=\"lightgrey\" stroke=\"black\" points=\"233,-196 132,-196 132,-177 233,-177 233,-196\"/>\n<text text-anchor=\"middle\" x=\"182.5\" y=\"-184\" font-family=\"monospace\" font-size=\"10.00\">AccumulateGrad</text>\n</g>\n<!-- 139683683866400&#45;&gt;139683683866304 -->\n<g id=\"edge6\" class=\"edge\">\n<title>139683683866400&#45;&gt;139683683866304</title>\n<path fill=\"none\" stroke=\"black\" d=\"M172.38,-176.98C163.06,-169.15 149.03,-157.34 137.76,-147.86\"/>\n<polygon fill=\"black\" stroke=\"black\" points=\"139.71,-144.93 129.81,-141.17 135.21,-150.29 139.71,-144.93\"/>\n</g>\n<!-- 139679449509872 -->\n<g id=\"node9\" class=\"node\">\n<title>139679449509872</title>\n<polygon fill=\"lightblue\" stroke=\"black\" points=\"209.5,-262 155.5,-262 155.5,-232 209.5,-232 209.5,-262\"/>\n<text text-anchor=\"middle\" x=\"182.5\" y=\"-250\" font-family=\"monospace\" font-size=\"10.00\">b</text>\n<text text-anchor=\"middle\" x=\"182.5\" y=\"-239\" font-family=\"monospace\" font-size=\"10.00\"> (3)</text>\n</g>\n<!-- 139679449509872&#45;&gt;139683683866400 -->\n<g id=\"edge7\" class=\"edge\">\n<title>139679449509872&#45;&gt;139683683866400</title>\n<path fill=\"none\" stroke=\"black\" d=\"M182.5,-231.84C182.5,-224.21 182.5,-214.7 182.5,-206.45\"/>\n<polygon fill=\"black\" stroke=\"black\" points=\"186,-206.27 182.5,-196.27 179,-206.27 186,-206.27\"/>\n</g>\n</g>\n</svg>\n",
            "text/plain": [
              "<graphviz.graphs.Digraph at 0x7f098fcf1690>"
            ]
          },
          "metadata": {},
          "execution_count": 22
        }
      ]
    },
    {
      "cell_type": "markdown",
      "source": [
        "**4. Simple Neural Network**"
      ],
      "metadata": {
        "id": "woQbHPpNsIgu"
      }
    },
    {
      "cell_type": "code",
      "source": [
        "import torch.nn as nn\n",
        "\n",
        "class SimpleNet(nn.Module):\n",
        "    def __init__(self):\n",
        "        super().__init__() #\n",
        "        self.fc1 = nn.Linear(4, 3)  # First linear layer\n",
        "        self.relu = nn.ReLU()       # Activation\n",
        "        self.fc2 = nn.Linear(3, 1)  # Output layer\n",
        "\n",
        "    def forward(self, x):\n",
        "        x = self.fc1(x)\n",
        "        x = self.relu(x)\n",
        "        return self.fc2(x)\n",
        "\n",
        "model = SimpleNet()\n",
        "print(\"model:\\n\", model)\n",
        "\n",
        "for name, param in model.named_parameters():\n",
        "    print(name, param.shape)"
      ],
      "metadata": {
        "colab": {
          "base_uri": "https://localhost:8080/"
        },
        "id": "SvMfB5posHxE",
        "outputId": "fdf6541a-786f-41ad-899b-9524e165698d"
      },
      "execution_count": 25,
      "outputs": [
        {
          "output_type": "stream",
          "name": "stdout",
          "text": [
            "model:\n",
            " SimpleNet(\n",
            "  (fc1): Linear(in_features=4, out_features=3, bias=True)\n",
            "  (relu): ReLU()\n",
            "  (fc2): Linear(in_features=3, out_features=1, bias=True)\n",
            ")\n",
            "fc1.weight torch.Size([3, 4])\n",
            "fc1.bias torch.Size([3])\n",
            "fc2.weight torch.Size([1, 3])\n",
            "fc2.bias torch.Size([1])\n"
          ]
        }
      ]
    },
    {
      "cell_type": "code",
      "source": [
        "input_x = torch.randn(1, 4) # input_size, hidden_size1\n",
        "print(\"Input:\\n\", input_x)\n",
        "print(\"Input Shape:\", input_x.shape)"
      ],
      "metadata": {
        "colab": {
          "base_uri": "https://localhost:8080/"
        },
        "id": "Vmsf0KcYjAb-",
        "outputId": "de8d2406-bf63-4f64-a029-afc279a757f6"
      },
      "execution_count": 28,
      "outputs": [
        {
          "output_type": "stream",
          "name": "stdout",
          "text": [
            "Input:\n",
            " tensor([[-0.6943,  1.4199,  2.1476,  0.7736]])\n",
            "Input Shape: torch.Size([1, 4])\n"
          ]
        }
      ]
    },
    {
      "cell_type": "code",
      "source": [
        "model.forward(input_x)"
      ],
      "metadata": {
        "colab": {
          "base_uri": "https://localhost:8080/"
        },
        "id": "Lq8Fj9_IjJQ5",
        "outputId": "869b4f7d-acee-4fb3-d139-65b7b1e9abd2"
      },
      "execution_count": 30,
      "outputs": [
        {
          "output_type": "execute_result",
          "data": {
            "text/plain": [
              "tensor([[0.0960]], grad_fn=<AddmmBackward0>)"
            ]
          },
          "metadata": {},
          "execution_count": 30
        }
      ]
    },
    {
      "cell_type": "markdown",
      "source": [
        "**`nn.CrossEntropyLoss`**. This loss function is specifically designed for multi-class classification tasks where the goal is to predict the next token (word, subword, or character) from a vocabulary, which is the core objective in language modeling.\n",
        "\n",
        "`CrossEntropyLoss`?\n",
        "\n",
        "\t•\tLanguage modeling is a multi-class classification problem: for each position in the sequence, the model predicts one token out of the entire vocabulary.\n",
        "\n",
        "\t•\t`nn.CrossEntropyLoss` combines `log_softmax` and negative log-likelihood loss in a single, numerically stable function.\n",
        "  \n",
        "\t•\tThe model’s output (logits) should have shape `batch_size, vocab_size` for each time step, and the target should be the index of the correct next token."
      ],
      "metadata": {
        "id": "6aJ6XTmNtrnU"
      }
    },
    {
      "cell_type": "code",
      "source": [
        "# Suppose output is [batch_size, vocab_size] and target is [batch_size]\n",
        "output = torch.randn(32, 10000)  # logits for 32 samples, 10,000 vocab size\n",
        "print(\"Output:\\n\", output)\n",
        "print(\"Output Shape:\", output.shape)\n",
        "\n",
        "target = torch.randint(0, 10000, (32,))  # target token indices\n",
        "print(\"Target:\\n\", target)\n",
        "print(\"Target Shape:\", target.shape)"
      ],
      "metadata": {
        "colab": {
          "base_uri": "https://localhost:8080/"
        },
        "id": "QDaxDkwStmMy",
        "outputId": "42da5670-bfb7-41a8-b430-56b6f625fe55"
      },
      "execution_count": 26,
      "outputs": [
        {
          "output_type": "stream",
          "name": "stdout",
          "text": [
            "Output:\n",
            " tensor([[-0.5048,  0.8377,  1.8078,  ...,  1.4643,  1.4542, -0.9359],\n",
            "        [ 1.5692,  0.9407, -0.2748,  ..., -0.2725, -0.4322, -0.9605],\n",
            "        [ 0.4223, -2.0869, -0.5605,  ..., -1.0660,  0.0459, -1.3213],\n",
            "        ...,\n",
            "        [ 0.5072,  1.1418, -0.7213,  ...,  0.3105, -0.6271, -0.2793],\n",
            "        [ 1.3438, -0.7847,  0.1336,  ..., -0.5234,  0.5159, -0.6689],\n",
            "        [ 0.0707,  0.7519,  0.8071,  ...,  0.5355,  0.7705,  2.2956]])\n",
            "Output Shape: torch.Size([32, 10000])\n",
            "Target:\n",
            " tensor([ 691, 4314, 4673, 9112, 2267, 9699, 7118, 1457, 9375, 9245, 7957, 7296,\n",
            "        9151, 8522, 7568,  474, 4635, 4983,  354, 6874, 4735, 8605, 3016, 8553,\n",
            "        7355, 8252, 9040, 4651, 9054, 5807, 4210, 7570])\n",
            "Target Shape: torch.Size([32])\n"
          ]
        }
      ]
    },
    {
      "cell_type": "code",
      "source": [
        "loss_fn = nn.CrossEntropyLoss()\n",
        "loss = loss_fn(output, target)\n",
        "print(\"Loss:\", loss)"
      ],
      "metadata": {
        "colab": {
          "base_uri": "https://localhost:8080/"
        },
        "id": "pFKWPY03t5pK",
        "outputId": "28119a60-50aa-4e1f-e295-06e5d4244919"
      },
      "execution_count": 27,
      "outputs": [
        {
          "output_type": "stream",
          "name": "stdout",
          "text": [
            "Loss: tensor(9.5438)\n"
          ]
        }
      ]
    }
  ]
}