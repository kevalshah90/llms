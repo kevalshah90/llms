{
 "cells": [
  {
   "cell_type": "code",
   "execution_count": 5,
   "id": "4f65b6b1-b4e9-4220-86cd-8f4eb3358d0c",
   "metadata": {
    "scrolled": true
   },
   "outputs": [],
   "source": [
    "#!pip install typing"
   ]
  },
  {
   "cell_type": "code",
   "execution_count": 39,
   "id": "82a52d18-0adb-430e-877a-90c9850eee62",
   "metadata": {
    "id": "82a52d18-0adb-430e-877a-90c9850eee62"
   },
   "outputs": [],
   "source": [
    "import numpy as np\n",
    "from typing import Optional, List"
   ]
  },
  {
   "cell_type": "markdown",
   "id": "0e1cceec-dbb6-4822-b280-65a2dd57a543",
   "metadata": {
    "id": "0e1cceec-dbb6-4822-b280-65a2dd57a543"
   },
   "source": [
    "#### 1\n",
    "\n",
    "Given an array of ints, return True if the sequence of numbers 1, 2, 3 appears in the array somewhere.\n",
    "array123([1, 1, 2, 3, 1]) → True\n",
    "\n",
    "array123([1, 1, 2, 4, 1]) → False\n",
    "\n",
    "array123([1, 1, 2, 1, 2, 3]) → True"
   ]
  },
  {
   "cell_type": "code",
   "execution_count": null,
   "id": "4ac1154f-5ad5-4872-990b-0c88d31779da",
   "metadata": {
    "id": "4ac1154f-5ad5-4872-990b-0c88d31779da"
   },
   "outputs": [],
   "source": [
    "def array123(nums):\n",
    "\n",
    "  check_arr = [1,2,3]\n",
    "\n",
    "  for i in range(0, len(nums)-2):\n",
    "\n",
    "    if [nums[i], nums[i+1], nums[i+2]] == check_arr:\n",
    "        return True\n",
    "\n",
    "  return False"
   ]
  },
  {
   "cell_type": "code",
   "execution_count": null,
   "id": "6804d85d-b0f7-4f8e-a83f-e9047ab9727f",
   "metadata": {
    "colab": {
     "base_uri": "https://localhost:8080/"
    },
    "executionInfo": {
     "elapsed": 9,
     "status": "ok",
     "timestamp": 1741283362309,
     "user": {
      "displayName": "Keval Shah",
      "userId": "06795599544953230322"
     },
     "user_tz": 480
    },
    "id": "6804d85d-b0f7-4f8e-a83f-e9047ab9727f",
    "outputId": "fd3158c4-bd62-41c2-9072-1cf1641f8193"
   },
   "outputs": [
    {
     "data": {
      "text/plain": [
       "True"
      ]
     },
     "execution_count": 3,
     "metadata": {},
     "output_type": "execute_result"
    }
   ],
   "source": [
    "array123([1, 1, 2, 3, 1])"
   ]
  },
  {
   "cell_type": "code",
   "execution_count": null,
   "id": "6d8bc76f-98e1-467f-a6ea-32d9a0b85957",
   "metadata": {
    "colab": {
     "base_uri": "https://localhost:8080/"
    },
    "executionInfo": {
     "elapsed": 4,
     "status": "ok",
     "timestamp": 1741283363905,
     "user": {
      "displayName": "Keval Shah",
      "userId": "06795599544953230322"
     },
     "user_tz": 480
    },
    "id": "6d8bc76f-98e1-467f-a6ea-32d9a0b85957",
    "outputId": "8189973b-7040-4eca-8e6f-cff82888ad0a"
   },
   "outputs": [
    {
     "data": {
      "text/plain": [
       "False"
      ]
     },
     "execution_count": 4,
     "metadata": {},
     "output_type": "execute_result"
    }
   ],
   "source": [
    "array123([1, 1, 2, 4, 1])"
   ]
  },
  {
   "cell_type": "code",
   "execution_count": null,
   "id": "8c28250f-4142-4919-9d29-16647eb0b572",
   "metadata": {
    "colab": {
     "base_uri": "https://localhost:8080/"
    },
    "executionInfo": {
     "elapsed": 3,
     "status": "ok",
     "timestamp": 1741283365929,
     "user": {
      "displayName": "Keval Shah",
      "userId": "06795599544953230322"
     },
     "user_tz": 480
    },
    "id": "8c28250f-4142-4919-9d29-16647eb0b572",
    "outputId": "84332a8b-e335-4365-d06d-c69979fd7288"
   },
   "outputs": [
    {
     "data": {
      "text/plain": [
       "True"
      ]
     },
     "execution_count": 5,
     "metadata": {},
     "output_type": "execute_result"
    }
   ],
   "source": [
    "array123([1, 1, 2, 1, 2, 3])"
   ]
  },
  {
   "cell_type": "markdown",
   "id": "a48cc01b-1664-4087-9510-a1160b40ba73",
   "metadata": {
    "id": "a48cc01b-1664-4087-9510-a1160b40ba73"
   },
   "source": [
    "#### 2\n",
    "\n",
    "Given a string and a non-negative int `n`, return a larger string that is n copies of the original string.\n",
    "\n",
    "string_times('Hi', 2) → 'HiHi'\n",
    "\n",
    "string_times('Hi', 3) → 'HiHiHi'\n",
    "\n",
    "string_times('Hi', 1) → 'Hi'"
   ]
  },
  {
   "cell_type": "code",
   "execution_count": 1,
   "id": "d3cfae82-47ea-4fa6-a7dd-bd6709580132",
   "metadata": {
    "id": "d3cfae82-47ea-4fa6-a7dd-bd6709580132"
   },
   "outputs": [],
   "source": [
    "def string_times(str, n):\n",
    "\n",
    "    # result = \"\"\n",
    "\n",
    "    # for i in range(n):\n",
    "    #     result += str\n",
    "\n",
    "    result = str * n\n",
    "\n",
    "    return result"
   ]
  },
  {
   "cell_type": "code",
   "execution_count": null,
   "id": "31b92f42-9758-4df2-8320-554fa6cef335",
   "metadata": {
    "colab": {
     "base_uri": "https://localhost:8080/",
     "height": 35
    },
    "executionInfo": {
     "elapsed": 4,
     "status": "ok",
     "timestamp": 1741283369464,
     "user": {
      "displayName": "Keval Shah",
      "userId": "06795599544953230322"
     },
     "user_tz": 480
    },
    "id": "31b92f42-9758-4df2-8320-554fa6cef335",
    "outputId": "e94c9ee5-0397-4f77-9da4-2462a8b3fb17"
   },
   "outputs": [
    {
     "data": {
      "application/vnd.google.colaboratory.intrinsic+json": {
       "type": "string"
      },
      "text/plain": [
       "'HiHi'"
      ]
     },
     "execution_count": 7,
     "metadata": {},
     "output_type": "execute_result"
    }
   ],
   "source": [
    "string_times('Hi', 2)"
   ]
  },
  {
   "cell_type": "code",
   "execution_count": 2,
   "id": "3fe54219-db0a-4d02-8b9a-57396fb6978a",
   "metadata": {
    "colab": {
     "base_uri": "https://localhost:8080/",
     "height": 35
    },
    "executionInfo": {
     "elapsed": 4,
     "status": "ok",
     "timestamp": 1741283371379,
     "user": {
      "displayName": "Keval Shah",
      "userId": "06795599544953230322"
     },
     "user_tz": 480
    },
    "id": "3fe54219-db0a-4d02-8b9a-57396fb6978a",
    "outputId": "66aaf39c-ed09-4ec4-8e8d-43a1263b5a12"
   },
   "outputs": [
    {
     "data": {
      "text/plain": [
       "'HiHiHi'"
      ]
     },
     "execution_count": 2,
     "metadata": {},
     "output_type": "execute_result"
    }
   ],
   "source": [
    "string_times('Hi', 3)"
   ]
  },
  {
   "cell_type": "code",
   "execution_count": 47,
   "id": "435d200f-d981-47f9-8616-9f3ec0ac37c0",
   "metadata": {
    "colab": {
     "base_uri": "https://localhost:8080/",
     "height": 35
    },
    "executionInfo": {
     "elapsed": 11,
     "status": "ok",
     "timestamp": 1741283372949,
     "user": {
      "displayName": "Keval Shah",
      "userId": "06795599544953230322"
     },
     "user_tz": 480
    },
    "id": "435d200f-d981-47f9-8616-9f3ec0ac37c0",
    "outputId": "80114e44-8f0a-4f74-d322-c1526ff3e821"
   },
   "outputs": [
    {
     "data": {
      "text/plain": [
       "'HellHellHellHell'"
      ]
     },
     "execution_count": 47,
     "metadata": {},
     "output_type": "execute_result"
    }
   ],
   "source": [
    "string_times('Hell', 4)"
   ]
  },
  {
   "cell_type": "markdown",
   "id": "0333ab22-ae51-4fd2-ae00-a389a73d733e",
   "metadata": {
    "id": "0333ab22-ae51-4fd2-ae00-a389a73d733e"
   },
   "source": [
    "#### 3\n",
    "\n",
    "Given an array of ints, return the number of 9's in the array.\n",
    "\n",
    "array_count9([1, 2, 9]) → 1\n",
    "\n",
    "array_count9([1, 9, 9]) → 2\n",
    "\n",
    "array_count9([1, 9, 9, 3, 9]) → 3"
   ]
  },
  {
   "cell_type": "code",
   "execution_count": null,
   "id": "a341f103-89fb-4d79-858d-6ba35f487367",
   "metadata": {
    "id": "a341f103-89fb-4d79-858d-6ba35f487367"
   },
   "outputs": [],
   "source": [
    "def array_count9(nums):\n",
    "\n",
    "    cnt = nums.count(9)\n",
    "\n",
    "    return cnt"
   ]
  },
  {
   "cell_type": "code",
   "execution_count": null,
   "id": "262f017c-0db2-4b6d-8894-89e1209567bf",
   "metadata": {
    "colab": {
     "base_uri": "https://localhost:8080/"
    },
    "executionInfo": {
     "elapsed": 7,
     "status": "ok",
     "timestamp": 1741283381529,
     "user": {
      "displayName": "Keval Shah",
      "userId": "06795599544953230322"
     },
     "user_tz": 480
    },
    "id": "262f017c-0db2-4b6d-8894-89e1209567bf",
    "outputId": "013bc4c2-1304-4e6f-dd61-d574023abb5a"
   },
   "outputs": [
    {
     "data": {
      "text/plain": [
       "1"
      ]
     },
     "execution_count": 11,
     "metadata": {},
     "output_type": "execute_result"
    }
   ],
   "source": [
    "array_count9([1, 2, 9])"
   ]
  },
  {
   "cell_type": "code",
   "execution_count": null,
   "id": "69693e38-30eb-4b54-8636-1142236e4a6e",
   "metadata": {
    "colab": {
     "base_uri": "https://localhost:8080/"
    },
    "executionInfo": {
     "elapsed": 8,
     "status": "ok",
     "timestamp": 1741283383577,
     "user": {
      "displayName": "Keval Shah",
      "userId": "06795599544953230322"
     },
     "user_tz": 480
    },
    "id": "69693e38-30eb-4b54-8636-1142236e4a6e",
    "outputId": "e87fbfc9-2534-4da8-b4ef-74cb3fdceb82"
   },
   "outputs": [
    {
     "data": {
      "text/plain": [
       "2"
      ]
     },
     "execution_count": 12,
     "metadata": {},
     "output_type": "execute_result"
    }
   ],
   "source": [
    "array_count9([1, 9, 9])"
   ]
  },
  {
   "cell_type": "code",
   "execution_count": null,
   "id": "781ebbdd-427e-4c43-ad8e-7f0f0b97d608",
   "metadata": {
    "colab": {
     "base_uri": "https://localhost:8080/"
    },
    "executionInfo": {
     "elapsed": 4,
     "status": "ok",
     "timestamp": 1741283385252,
     "user": {
      "displayName": "Keval Shah",
      "userId": "06795599544953230322"
     },
     "user_tz": 480
    },
    "id": "781ebbdd-427e-4c43-ad8e-7f0f0b97d608",
    "outputId": "06c42297-6759-4d7e-9a3c-916be6f7086d"
   },
   "outputs": [
    {
     "data": {
      "text/plain": [
       "3"
      ]
     },
     "execution_count": 13,
     "metadata": {},
     "output_type": "execute_result"
    }
   ],
   "source": [
    "array_count9([1, 9, 9, 3, 9])"
   ]
  },
  {
   "cell_type": "markdown",
   "id": "3df9122d-3219-4be2-847e-1877a4b7b409",
   "metadata": {
    "id": "3df9122d-3219-4be2-847e-1877a4b7b409"
   },
   "source": [
    "#### 4\n",
    "\n",
    "Given 2 strings, a and b, return the number of the positions where they contain the same length 2 substring. So \"xxcaazz\" and \"xxbaaz\" yields 3, since the \"xx\", \"aa\", and \"az\" substrings appear in the same place in both strings.\n",
    "\n",
    "\n",
    "string_match('xxcaazz', 'xxbaaz') → 3\n",
    "\n",
    "string_match('abc', 'abc') → 2\n",
    "\n",
    "string_match('abc', 'axc') → 0"
   ]
  },
  {
   "cell_type": "code",
   "execution_count": 48,
   "id": "a4eda4fe-8956-4ec1-b2a8-cc69a110aa07",
   "metadata": {
    "id": "a4eda4fe-8956-4ec1-b2a8-cc69a110aa07"
   },
   "outputs": [],
   "source": [
    "def string_match(a, b):\n",
    "\n",
    "    shorter = min(len(a), len(b))\n",
    "\n",
    "    cnt = 0\n",
    "\n",
    "    for i in range(0, shorter-1):\n",
    "        a_sub = a[i:i+2]\n",
    "        b_sub = b[i:i+2]\n",
    "        if a_sub == b_sub:\n",
    "          cnt = cnt + 1\n",
    "\n",
    "    return cnt"
   ]
  },
  {
   "cell_type": "code",
   "execution_count": 49,
   "id": "1cc62c4a-94c1-47e3-9db8-ffa0096d648e",
   "metadata": {
    "colab": {
     "base_uri": "https://localhost:8080/"
    },
    "executionInfo": {
     "elapsed": 2,
     "status": "ok",
     "timestamp": 1741283398847,
     "user": {
      "displayName": "Keval Shah",
      "userId": "06795599544953230322"
     },
     "user_tz": 480
    },
    "id": "1cc62c4a-94c1-47e3-9db8-ffa0096d648e",
    "outputId": "c51d0587-b6f8-4427-89a1-87670b0ee566"
   },
   "outputs": [
    {
     "data": {
      "text/plain": [
       "3"
      ]
     },
     "execution_count": 49,
     "metadata": {},
     "output_type": "execute_result"
    }
   ],
   "source": [
    "string_match('xxcaazz', 'xxbaaz')"
   ]
  },
  {
   "cell_type": "code",
   "execution_count": 50,
   "id": "09a25035-6ec8-4b6d-868b-a57b2e815d21",
   "metadata": {
    "colab": {
     "base_uri": "https://localhost:8080/"
    },
    "executionInfo": {
     "elapsed": 2,
     "status": "ok",
     "timestamp": 1741283400264,
     "user": {
      "displayName": "Keval Shah",
      "userId": "06795599544953230322"
     },
     "user_tz": 480
    },
    "id": "09a25035-6ec8-4b6d-868b-a57b2e815d21",
    "outputId": "9f0d10e3-c166-4bab-cb00-e026d59bc2a0"
   },
   "outputs": [
    {
     "data": {
      "text/plain": [
       "2"
      ]
     },
     "execution_count": 50,
     "metadata": {},
     "output_type": "execute_result"
    }
   ],
   "source": [
    "string_match('abc', 'abc')"
   ]
  },
  {
   "cell_type": "code",
   "execution_count": 51,
   "id": "057f6f01-eb9d-4548-a0b1-ac2c45cbab7b",
   "metadata": {
    "colab": {
     "base_uri": "https://localhost:8080/"
    },
    "executionInfo": {
     "elapsed": 8,
     "status": "ok",
     "timestamp": 1741283401576,
     "user": {
      "displayName": "Keval Shah",
      "userId": "06795599544953230322"
     },
     "user_tz": 480
    },
    "id": "057f6f01-eb9d-4548-a0b1-ac2c45cbab7b",
    "outputId": "a90d9fad-f3a1-4a56-e6b6-2578fb568c04"
   },
   "outputs": [
    {
     "data": {
      "text/plain": [
       "0"
      ]
     },
     "execution_count": 51,
     "metadata": {},
     "output_type": "execute_result"
    }
   ],
   "source": [
    "string_match('abc', 'axc')"
   ]
  },
  {
   "cell_type": "code",
   "execution_count": 52,
   "id": "92f82568-4a5e-40db-bcb0-d74452e85d74",
   "metadata": {},
   "outputs": [
    {
     "data": {
      "text/plain": [
       "5"
      ]
     },
     "execution_count": 52,
     "metadata": {},
     "output_type": "execute_result"
    }
   ],
   "source": [
    "string_match('uuyytrin','uyyytrin')"
   ]
  },
  {
   "cell_type": "markdown",
   "id": "d1e2485c-71c0-4d7a-9e25-1dc17d9ef7af",
   "metadata": {
    "id": "d1e2485c-71c0-4d7a-9e25-1dc17d9ef7af"
   },
   "source": [
    "#### 5\n",
    "\n",
    "Given an integer number n, return the difference between the product of its digits and the sum of its digits."
   ]
  },
  {
   "cell_type": "code",
   "execution_count": 12,
   "id": "9bfbd567-d6e2-42b6-bb39-b81a06d37530",
   "metadata": {
    "id": "9bfbd567-d6e2-42b6-bb39-b81a06d37530"
   },
   "outputs": [],
   "source": [
    "def subtractProductAndSum(n):\n",
    "\n",
    "    prod = 1 # product by 0 = 0, so initialize as 1\n",
    "    summ = 0\n",
    "\n",
    "    while n > 0:\n",
    "        last = n % 10 # dividing by %10 gets the last remainder as after complete division by 10\n",
    "        print('last', last)\n",
    "        prod *= last\n",
    "        summ += last\n",
    "        n//=10 # floor division, divide n/10 and assign the integer part of n\n",
    "\n",
    "    diff = prod - summ\n",
    "\n",
    "    return diff"
   ]
  },
  {
   "cell_type": "code",
   "execution_count": 13,
   "id": "62a22287-d9b3-46d3-a895-c0a3fb7c6410",
   "metadata": {
    "colab": {
     "base_uri": "https://localhost:8080/"
    },
    "executionInfo": {
     "elapsed": 9,
     "status": "ok",
     "timestamp": 1741283449991,
     "user": {
      "displayName": "Keval Shah",
      "userId": "06795599544953230322"
     },
     "user_tz": 480
    },
    "id": "62a22287-d9b3-46d3-a895-c0a3fb7c6410",
    "outputId": "e2461070-ff8d-4f86-fe0b-9cad21dae5cb"
   },
   "outputs": [
    {
     "name": "stdout",
     "output_type": "stream",
     "text": [
      "last 4\n",
      "last 3\n",
      "last 2\n"
     ]
    },
    {
     "data": {
      "text/plain": [
       "15"
      ]
     },
     "execution_count": 13,
     "metadata": {},
     "output_type": "execute_result"
    }
   ],
   "source": [
    "subtractProductAndSum(234)"
   ]
  },
  {
   "cell_type": "markdown",
   "id": "a238916b-42a5-41bd-9da0-4500e2eac9f3",
   "metadata": {
    "id": "a238916b-42a5-41bd-9da0-4500e2eac9f3"
   },
   "source": [
    "#### 6 Reverse a string\n",
    "\n",
    "Have the function FirstReverse(str) take the `str` parameter being passed and return the string in reversed order.\n",
    "\n",
    "For example: if the input string is:\n",
    "\n",
    "1. \"Hello World\"\n",
    "3. \"Coders\" then your program should return the string sredoC."
   ]
  },
  {
   "cell_type": "code",
   "execution_count": null,
   "id": "cbd85e40-982b-421c-a294-48b8239c9aea",
   "metadata": {
    "id": "cbd85e40-982b-421c-a294-48b8239c9aea"
   },
   "outputs": [],
   "source": [
    "def FirstReverse(strParam):\n",
    "\n",
    "  sr = strParam[::-1]\n",
    "\n",
    "  return sr"
   ]
  },
  {
   "cell_type": "code",
   "execution_count": null,
   "id": "0f299b5b-c721-4608-9c3c-2567bff0862c",
   "metadata": {
    "colab": {
     "base_uri": "https://localhost:8080/",
     "height": 35
    },
    "executionInfo": {
     "elapsed": 3,
     "status": "ok",
     "timestamp": 1741283460685,
     "user": {
      "displayName": "Keval Shah",
      "userId": "06795599544953230322"
     },
     "user_tz": 480
    },
    "id": "0f299b5b-c721-4608-9c3c-2567bff0862c",
    "outputId": "85970ef3-d0fc-4a1f-c70f-cdeca288b95d"
   },
   "outputs": [
    {
     "data": {
      "application/vnd.google.colaboratory.intrinsic+json": {
       "type": "string"
      },
      "text/plain": [
       "'dlroW olleH'"
      ]
     },
     "execution_count": 21,
     "metadata": {},
     "output_type": "execute_result"
    }
   ],
   "source": [
    "FirstReverse(\"Hello World\")"
   ]
  },
  {
   "cell_type": "markdown",
   "id": "612622ed-50fc-4a0e-85c4-eeae3fe72c9c",
   "metadata": {
    "id": "612622ed-50fc-4a0e-85c4-eeae3fe72c9c"
   },
   "source": [
    "#### 7 Centered Average\n",
    "\n",
    "Return the \"centered\" average of an array of ints, which we'll say is the mean average of the values, except ignoring the largest and smallest values in the array. If there are multiple copies of the smallest value, ignore just one copy, and likewise for the largest value. Use int division to produce the final average. You may assume that the array is length 3 or more.\n",
    "\n",
    "\n",
    "`centered_average([1, 2, 3, 4, 100]) → 3`\n",
    "\n",
    "`centered_average([1, 1, 5, 5, 10, 8, 7]) → 5`\n",
    "\n",
    "`centered_average([-10, -4, -2, -4, -2, 0]) → -3`"
   ]
  },
  {
   "cell_type": "code",
   "execution_count": null,
   "id": "10e71114-7b42-4e6a-9262-a113476d0fb4",
   "metadata": {
    "id": "10e71114-7b42-4e6a-9262-a113476d0fb4"
   },
   "outputs": [],
   "source": [
    "def centered_average(nums):\n",
    "\n",
    "    nums = sorted(nums)\n",
    "\n",
    "    # find the min and max\n",
    "    sm = min(nums)\n",
    "    lg = max(nums)\n",
    "\n",
    "    sm_idx = nums.index(sm)\n",
    "    lg_idx = nums.index(lg)\n",
    "\n",
    "    print(\"indices\", sm_idx, lg_idx)\n",
    "\n",
    "    if sm_idx != lg_idx:\n",
    "        nums.pop(sm_idx)\n",
    "        nums.pop(lg_idx-1) # since 0-indexed\n",
    "    else:\n",
    "        nums.pop(sm_idx)\n",
    "\n",
    "    print(sum(nums)//len(nums))"
   ]
  },
  {
   "cell_type": "code",
   "execution_count": null,
   "id": "d66d1d31-13ae-4168-ab43-087f39353289",
   "metadata": {
    "colab": {
     "base_uri": "https://localhost:8080/"
    },
    "executionInfo": {
     "elapsed": 3,
     "status": "ok",
     "timestamp": 1741283499828,
     "user": {
      "displayName": "Keval Shah",
      "userId": "06795599544953230322"
     },
     "user_tz": 480
    },
    "id": "d66d1d31-13ae-4168-ab43-087f39353289",
    "outputId": "f921fb9f-38fb-41bb-e854-38880bcd8d91"
   },
   "outputs": [
    {
     "name": "stdout",
     "output_type": "stream",
     "text": [
      "indices 0 5\n",
      "2\n"
     ]
    }
   ],
   "source": [
    "centered_average([1, 2, 3, 4, 100, 1])"
   ]
  },
  {
   "cell_type": "code",
   "execution_count": null,
   "id": "f3e233bc-c64a-4cbc-b785-53fccd6d5565",
   "metadata": {
    "colab": {
     "base_uri": "https://localhost:8080/"
    },
    "executionInfo": {
     "elapsed": 5,
     "status": "ok",
     "timestamp": 1741283502632,
     "user": {
      "displayName": "Keval Shah",
      "userId": "06795599544953230322"
     },
     "user_tz": 480
    },
    "id": "f3e233bc-c64a-4cbc-b785-53fccd6d5565",
    "outputId": "e9a484c8-b2e2-458b-a193-236b6c98d68f"
   },
   "outputs": [
    {
     "name": "stdout",
     "output_type": "stream",
     "text": [
      "indices 0 4\n",
      "4\n"
     ]
    }
   ],
   "source": [
    "centered_average([100, 0, 5, 3, 4]) # 4"
   ]
  },
  {
   "cell_type": "markdown",
   "id": "8bfde9e0-1ca1-46fb-9ad9-25bc37167816",
   "metadata": {
    "id": "8bfde9e0-1ca1-46fb-9ad9-25bc37167816"
   },
   "source": [
    "#### 8\n",
    "\n",
    "Have the function FindIntersection(strArr) read the array of strings stored in strArr which will contain 2 elements: the first element will represent a list of comma-separated numbers sorted in ascending order, the second element will represent a second list of comma-separated numbers (also sorted). Your goal is to return a comma-separated string containing the numbers that occur in elements of strArr in sorted order. If there is no intersection, return the string false."
   ]
  },
  {
   "cell_type": "code",
   "execution_count": 8,
   "id": "292f71ad-1449-4e01-8cca-ee2031716d0a",
   "metadata": {
    "id": "292f71ad-1449-4e01-8cca-ee2031716d0a"
   },
   "outputs": [],
   "source": [
    "def FindIntersection(strArr):\n",
    "\n",
    "    l1 = [int(x) for x in strArr[0].split(\",\")]\n",
    "    print('l1:', l1)\n",
    "    l2 = [int(y) for y in strArr[1].split(\",\")]\n",
    "    print('l2:', l2)\n",
    "\n",
    "    # List comprehension, i for each i in l1 if i in l2\n",
    "    inter = [i for i in l1 if i in l2]\n",
    "\n",
    "    return inter"
   ]
  },
  {
   "cell_type": "code",
   "execution_count": 9,
   "id": "96949eef-c617-4f30-9cca-53187529f2a9",
   "metadata": {
    "colab": {
     "base_uri": "https://localhost:8080/"
    },
    "executionInfo": {
     "elapsed": 4,
     "status": "ok",
     "timestamp": 1741283576220,
     "user": {
      "displayName": "Keval Shah",
      "userId": "06795599544953230322"
     },
     "user_tz": 480
    },
    "id": "96949eef-c617-4f30-9cca-53187529f2a9",
    "outputId": "a189bdf7-11d9-4c9d-dea6-ca691e05d144"
   },
   "outputs": [
    {
     "name": "stdout",
     "output_type": "stream",
     "text": [
      "l1: [1, 3, 4, 7, 13]\n",
      "l2: [1, 2, 4, 13, 15]\n"
     ]
    },
    {
     "data": {
      "text/plain": [
       "[1, 4, 13]"
      ]
     },
     "execution_count": 9,
     "metadata": {},
     "output_type": "execute_result"
    }
   ],
   "source": [
    "FindIntersection([\"1, 3, 4, 7, 13\", \"1, 2, 4, 13, 15\"])"
   ]
  },
  {
   "cell_type": "markdown",
   "id": "fe45ef6d-1bcf-41c6-a729-f7c929e84872",
   "metadata": {
    "id": "fe45ef6d-1bcf-41c6-a729-f7c929e84872"
   },
   "source": [
    "#### 9 Sort Array by Parity\n",
    "\n",
    "Given an integer array nums, move all the even integers at the beginning of the array followed by all the odd integers.\n",
    "\n",
    "Return any array that satisfies this condition."
   ]
  },
  {
   "cell_type": "code",
   "execution_count": 63,
   "id": "ca93f7f8-47e6-474d-81b5-b201801e2ca6",
   "metadata": {
    "id": "ca93f7f8-47e6-474d-81b5-b201801e2ca6"
   },
   "outputs": [],
   "source": [
    "def sortArrayByParity(nums):\n",
    "\n",
    "    # even element % 2 == 0\n",
    "    evens = [e for e in nums if e%2 == 0]\n",
    "    # odd element % 2 != 0\n",
    "    odds = [o for o in nums if o%2 != 0]\n",
    "\n",
    "    return evens + odds"
   ]
  },
  {
   "cell_type": "code",
   "execution_count": 64,
   "id": "8670976e-c49a-4b87-a014-6b36b19d5f4b",
   "metadata": {
    "colab": {
     "base_uri": "https://localhost:8080/"
    },
    "executionInfo": {
     "elapsed": 3,
     "status": "ok",
     "timestamp": 1741283586484,
     "user": {
      "displayName": "Keval Shah",
      "userId": "06795599544953230322"
     },
     "user_tz": 480
    },
    "id": "8670976e-c49a-4b87-a014-6b36b19d5f4b",
    "outputId": "6b985188-50de-41b4-d069-4077dd4e5d5c"
   },
   "outputs": [
    {
     "data": {
      "text/plain": [
       "[2, 4, 3, 1]"
      ]
     },
     "execution_count": 64,
     "metadata": {},
     "output_type": "execute_result"
    }
   ],
   "source": [
    "sortArrayByParity([3,1,2,4])"
   ]
  },
  {
   "cell_type": "markdown",
   "id": "60f4f187-525a-48c1-9a8c-14c57a954fae",
   "metadata": {
    "id": "60f4f187-525a-48c1-9a8c-14c57a954fae"
   },
   "source": [
    "#### 10\n",
    "\n",
    "We're learning about key-value pair mappings using a Map or Dictionary data structure. Check out the Tutorial tab for learning materials and an instructional video!\n",
    "\n",
    "Task\n",
    "Given  names and phone numbers, assemble a phone book that maps friends' names to their respective phone numbers. You will then be given an unknown number of names to query your phone book for. For each  queried, print the associated entry from your phone book on a new line in the form name=phoneNumber; if an entry for  is not found, print Not found instead.\n",
    "\n",
    "Note: Your phone book should be a Dictionary/Map/HashMap data structure."
   ]
  },
  {
   "cell_type": "code",
   "execution_count": 88,
   "id": "e7db06ff-ebd4-4a35-a4df-4d74d3133e8b",
   "metadata": {
    "id": "e7db06ff-ebd4-4a35-a4df-4d74d3133e8b"
   },
   "outputs": [],
   "source": [
    "def phonebook(s):\n",
    "\n",
    "    # Split the input string into lines and remove any leading/trailing whitespace\n",
    "    lines = s.strip().splitlines()\n",
    "\n",
    "    n = int(lines[0])\n",
    "\n",
    "    #Create an empty dictionary to store phone book entries\n",
    "    phone_book = {}\n",
    "\n",
    "    # Read n lines of entries\n",
    "    for i in range(1, n+1):\n",
    "        # Input each entry in the form: name phone_number\n",
    "        name, phone_number = lines[i].split(None, 1)\n",
    "        phone_book[name] = phone_number\n",
    "\n",
    "    # Process the remaining lines as queries\n",
    "    for i in range(n + 1, len(lines)):\n",
    "        query = lines[i].strip()\n",
    "        if query in phone_book:\n",
    "            print(f\"{query}={phone_book[query]}\")\n",
    "        else:\n",
    "            print(\"Not found\")"
   ]
  },
  {
   "cell_type": "code",
   "execution_count": 89,
   "id": "da1e4726-52f5-482b-a2c8-49bef35e1424",
   "metadata": {
    "id": "da1e4726-52f5-482b-a2c8-49bef35e1424"
   },
   "outputs": [
    {
     "name": "stdout",
     "output_type": "stream",
     "text": [
      "sam=99912222\n",
      "Not found\n",
      "harry=12299933\n"
     ]
    }
   ],
   "source": [
    "s = \"\"\"\n",
    "    3\n",
    "    sam 99912222\n",
    "    tom 11122222\n",
    "    harry 12299933\n",
    "    sam\n",
    "    edward\n",
    "    harry\n",
    "    \"\"\"\n",
    "\n",
    "phonebook(s)"
   ]
  },
  {
   "cell_type": "markdown",
   "id": "2a2c98e9-51a2-49a9-9c87-bcf1d4949946",
   "metadata": {
    "id": "2a2c98e9-51a2-49a9-9c87-bcf1d4949946"
   },
   "source": [
    "#### 11 Binary Search `O(\\log n)`time complexity\n",
    "\n",
    "1. Initialize Pointers → left = 0, right = len(nums) - 1\n",
    "2.\tFind the Middle → mid = (left + right) // 2\n",
    "3.\tCompare Target\n",
    "\n",
    "\t•\tIf nums[mid] == target, return mid\n",
    "\n",
    "\t•\tIf nums[mid] < target, search the right half (left = mid + 1)\n",
    "\n",
    "\t•\tIf nums[mid] > target, search the left half (right = mid - 1)\n",
    "\n",
    "4.\tRepeat Until left > right\n",
    "5.\tIf target not found, return -1"
   ]
  },
  {
   "cell_type": "code",
   "execution_count": null,
   "id": "085906d0-d633-4c72-b748-3b217616347c",
   "metadata": {
    "id": "085906d0-d633-4c72-b748-3b217616347c"
   },
   "outputs": [],
   "source": [
    "def bsearch(nums, target):\n",
    "\n",
    "    nums = sorted(nums)\n",
    "\n",
    "    # initialize\n",
    "    left, right = 0, len(nums)-1\n",
    "\n",
    "    while left <= right:\n",
    "        mid = (left + right)//2\n",
    "        print(f\"left: {left}, right: {right}\")\n",
    "        print(f\"mid index value\", mid)\n",
    "        if nums[mid] == target:\n",
    "            print(\"target found\")\n",
    "            return mid\n",
    "        # if mid >= target\n",
    "        elif nums[mid] >= target:\n",
    "            right = mid - 1 # search in left half\n",
    "            print(f\"target is to the left, udpate mid:\")\n",
    "        else:\n",
    "            left = mid + 1 # search in right half\n",
    "            print(f\"target is to the right, update mid:\")\n",
    "\n",
    "    print(\"target not found\")\n",
    "    return -1"
   ]
  },
  {
   "cell_type": "code",
   "execution_count": null,
   "id": "40532fc4-689f-4895-a352-ec4c2b71eb4a",
   "metadata": {
    "id": "40532fc4-689f-4895-a352-ec4c2b71eb4a",
    "outputId": "9eefe7de-6e34-4eb5-ab4f-176561408476"
   },
   "outputs": [
    {
     "name": "stdout",
     "output_type": "stream",
     "text": [
      "mid index value 2\n",
      "target is to the right, update mid:\n",
      "mid index value 4\n",
      "target is to the right, update mid:\n",
      "mid index value 5\n",
      "target found\n"
     ]
    },
    {
     "data": {
      "text/plain": [
       "5"
      ]
     },
     "execution_count": 236,
     "metadata": {},
     "output_type": "execute_result"
    }
   ],
   "source": [
    "bsearch([1,3,4,5,9,85], 85) # Target is to the right"
   ]
  },
  {
   "cell_type": "code",
   "execution_count": null,
   "id": "61a317e1-2a28-4ab4-bb1b-f59da4e1148e",
   "metadata": {
    "id": "61a317e1-2a28-4ab4-bb1b-f59da4e1148e",
    "outputId": "20456b8b-cb90-40cf-f5de-e1067777a8fd"
   },
   "outputs": [
    {
     "name": "stdout",
     "output_type": "stream",
     "text": [
      "left: 0, right: 6\n",
      "mid index value 3\n",
      "target is to the left, udpate mid:\n",
      "left: 0, right: 2\n",
      "mid index value 1\n",
      "target found\n"
     ]
    },
    {
     "data": {
      "text/plain": [
       "1"
      ]
     },
     "execution_count": 239,
     "metadata": {},
     "output_type": "execute_result"
    }
   ],
   "source": [
    "bsearch([1,5,40,564,1001,3065,5047], 5)"
   ]
  },
  {
   "cell_type": "code",
   "execution_count": null,
   "id": "ae12da4f-4ccd-4f1e-8806-eab69e5772c0",
   "metadata": {
    "id": "ae12da4f-4ccd-4f1e-8806-eab69e5772c0",
    "outputId": "fcc9ae34-0cca-49e4-ab8d-6824b69f085b"
   },
   "outputs": [
    {
     "name": "stdout",
     "output_type": "stream",
     "text": [
      "left: 0, right: 6\n",
      "mid index value 3\n",
      "target is to the right, update mid:\n",
      "left: 4, right: 6\n",
      "mid index value 5\n",
      "target is to the right, update mid:\n",
      "left: 6, right: 6\n",
      "mid index value 6\n",
      "target found\n"
     ]
    },
    {
     "data": {
      "text/plain": [
       "6"
      ]
     },
     "execution_count": 240,
     "metadata": {},
     "output_type": "execute_result"
    }
   ],
   "source": [
    "bsearch([1,5,40,564,1001,3065,5047], 5047)"
   ]
  },
  {
   "cell_type": "markdown",
   "id": "717bad0e-639c-4e4d-bd87-fe773c4d0715",
   "metadata": {
    "id": "717bad0e-639c-4e4d-bd87-fe773c4d0715"
   },
   "source": [
    "#### 12\n",
    "\n",
    "A dictionary—also known as a hashmap—is a built-in data structure that stores data in key-value pairs. Dictionaries are mutable, allowing for dynamic data manipulation, and they provide efficient data retrieval.\n",
    "\n",
    "A hash table stores key-value pairs, by converting a key into a fixed-size integer, called a hash."
   ]
  },
  {
   "cell_type": "code",
   "execution_count": null,
   "id": "4dc3a045-2f49-4ff4-bf54-51d34d3f0f82",
   "metadata": {
    "id": "4dc3a045-2f49-4ff4-bf54-51d34d3f0f82",
    "outputId": "c1b41f09-d527-4471-ee93-b4f8f7e72aed"
   },
   "outputs": [
    {
     "name": "stdout",
     "output_type": "stream",
     "text": [
      "-5554195893608446101\n"
     ]
    }
   ],
   "source": [
    "print(hash(\"Alice\"))"
   ]
  },
  {
   "cell_type": "code",
   "execution_count": null,
   "id": "974eaa66-f469-4d35-921c-ef9b49448e88",
   "metadata": {
    "id": "974eaa66-f469-4d35-921c-ef9b49448e88",
    "outputId": "cc07b3e8-f429-4fe0-f53a-d2f356856b1a"
   },
   "outputs": [
    {
     "name": "stdout",
     "output_type": "stream",
     "text": [
      "2184505060108403786\n"
     ]
    }
   ],
   "source": [
    "print(hash(\"76451\"))"
   ]
  },
  {
   "cell_type": "code",
   "execution_count": null,
   "id": "65ec2505-9c3c-4843-aa31-a57978141487",
   "metadata": {
    "id": "65ec2505-9c3c-4843-aa31-a57978141487"
   },
   "outputs": [],
   "source": [
    "# Dictionary with multiple entries\n",
    "employees = {\n",
    "                \"emp001\": {\n",
    "                    \"name\": \"John Doe\",\n",
    "                    \"age\": 30,\n",
    "                    \"department\": \"Engineering\",\n",
    "                    \"salary\": 80000,\n",
    "                    \"is_full_time\": True\n",
    "                },\n",
    "                \"emp002\": {\n",
    "                    \"name\": \"Jane Smith\",\n",
    "                    \"age\": 28,\n",
    "                    \"department\": \"Marketing\",\n",
    "                    \"salary\": 75000,\n",
    "                    \"is_full_time\": False\n",
    "                },\n",
    "                \"emp003\": {\n",
    "                    \"name\": \"Alice Johnson\",\n",
    "                    \"age\": 35,\n",
    "                    \"department\": \"HR\",\n",
    "                    \"salary\": 85000,\n",
    "                    \"is_full_time\": True\n",
    "                },\n",
    "                \"emp004\": {\n",
    "                    \"name\": \"Alice Johnson\",\n",
    "                    \"age\": 45,\n",
    "                    \"department\": \"HR\",\n",
    "                    \"salary\": 85000,\n",
    "                    \"is_full_time\": True\n",
    "                }\n",
    "            }"
   ]
  },
  {
   "cell_type": "markdown",
   "id": "b5edbb55-0f73-4687-80ab-abfd4f671127",
   "metadata": {
    "id": "b5edbb55-0f73-4687-80ab-abfd4f671127"
   },
   "source": [
    "**Access an element**\n",
    "\n",
    "Time: O(1) - Constant Time\n",
    "\n",
    "Space: O(1)"
   ]
  },
  {
   "cell_type": "code",
   "execution_count": null,
   "id": "e7062129-59e9-4b13-9774-0ef40372b346",
   "metadata": {
    "id": "e7062129-59e9-4b13-9774-0ef40372b346",
    "outputId": "30e2fed7-4961-471c-d5db-77542abcd00d"
   },
   "outputs": [
    {
     "data": {
      "text/plain": [
       "{'name': 'John Doe',\n",
       " 'age': 30,\n",
       " 'department': 'Engineering',\n",
       " 'salary': 80000,\n",
       " 'is_full_time': True}"
      ]
     },
     "execution_count": 262,
     "metadata": {},
     "output_type": "execute_result"
    }
   ],
   "source": [
    "employees.get('emp001')"
   ]
  },
  {
   "cell_type": "code",
   "execution_count": null,
   "id": "18a558f7-62e9-44a4-9778-7f62efef72da",
   "metadata": {
    "id": "18a558f7-62e9-44a4-9778-7f62efef72da",
    "outputId": "61732c39-12e1-4439-e151-60f6a6ac59f0"
   },
   "outputs": [
    {
     "data": {
      "text/plain": [
       "30"
      ]
     },
     "execution_count": 243,
     "metadata": {},
     "output_type": "execute_result"
    }
   ],
   "source": [
    "employees.get('emp001')['age']"
   ]
  },
  {
   "cell_type": "markdown",
   "id": "92ee9b41-e538-4d55-b244-bb849e4abcf4",
   "metadata": {
    "id": "92ee9b41-e538-4d55-b244-bb849e4abcf4"
   },
   "source": [
    "**Insert an element**\n",
    "\n",
    "Time: O(1) - Constant Time\n",
    "\n",
    "Space: O(1)"
   ]
  },
  {
   "cell_type": "code",
   "execution_count": null,
   "id": "0d355f8c-6e31-43a1-bd99-8454394eedf2",
   "metadata": {
    "id": "0d355f8c-6e31-43a1-bd99-8454394eedf2",
    "outputId": "82806d59-85e9-4c67-983b-9b93bfd5f7a7"
   },
   "outputs": [
    {
     "data": {
      "text/plain": [
       "{'emp001': {'name': 'John Doe',\n",
       "  'age': 30,\n",
       "  'department': 'Engineering',\n",
       "  'salary': 80000,\n",
       "  'is_full_time': True},\n",
       " 'emp002': {'name': 'Jane Smith',\n",
       "  'age': 28,\n",
       "  'department': 'Marketing',\n",
       "  'salary': 75000,\n",
       "  'is_full_time': False},\n",
       " 'emp003': {'name': 'Alice Johnson',\n",
       "  'age': 45,\n",
       "  'department': 'HR',\n",
       "  'salary': 85000,\n",
       "  'is_full_time': True},\n",
       " 'emp005': {'name': 'Bob Brown',\n",
       "  'age': 40,\n",
       "  'department': 'Finance',\n",
       "  'salary': 90000,\n",
       "  'is_full_time': True}}"
      ]
     },
     "execution_count": 270,
     "metadata": {},
     "output_type": "execute_result"
    }
   ],
   "source": [
    "employees['emp005'] = {\n",
    "                        \"name\": \"Bob Brown\",\n",
    "                        \"age\": 40,\n",
    "                        \"department\": \"Finance\",\n",
    "                        \"salary\": 90000,\n",
    "                        \"is_full_time\": True\n",
    "                      }\n",
    "employees"
   ]
  },
  {
   "cell_type": "markdown",
   "id": "c494bb62-e572-49b5-859a-5133e61131a2",
   "metadata": {
    "id": "c494bb62-e572-49b5-859a-5133e61131a2"
   },
   "source": [
    "**Delete an element**\n",
    "\n",
    "Time: O(1) - Constant Time\n",
    "\n",
    "Space: O(1)"
   ]
  },
  {
   "cell_type": "code",
   "execution_count": null,
   "id": "b897ae8c-b8e1-4c02-aff9-9425fa0971f0",
   "metadata": {
    "id": "b897ae8c-b8e1-4c02-aff9-9425fa0971f0",
    "outputId": "e9c6e1ca-06ff-420c-8696-e95f4726e7dd"
   },
   "outputs": [
    {
     "data": {
      "text/plain": [
       "{'emp001': {'name': 'John Doe',\n",
       "  'age': 30,\n",
       "  'department': 'Engineering',\n",
       "  'salary': 80000,\n",
       "  'is_full_time': True},\n",
       " 'emp002': {'name': 'Jane Smith',\n",
       "  'age': 28,\n",
       "  'department': 'Marketing',\n",
       "  'salary': 75000,\n",
       "  'is_full_time': False}}"
      ]
     },
     "execution_count": 268,
     "metadata": {},
     "output_type": "execute_result"
    }
   ],
   "source": [
    "del employees['emp003']\n",
    "employees"
   ]
  },
  {
   "cell_type": "markdown",
   "id": "9fa418ec-cf40-456e-bbb6-f7933d257245",
   "metadata": {
    "id": "9fa418ec-cf40-456e-bbb6-f7933d257245"
   },
   "source": [
    "**Iterate over dict**\n",
    "\n",
    "Time: O(n) - Linear Time\n",
    "\n",
    "Space: O(1)"
   ]
  },
  {
   "cell_type": "code",
   "execution_count": null,
   "id": "c3ba0cba-1074-477f-8aff-f1c67e7894d6",
   "metadata": {
    "id": "c3ba0cba-1074-477f-8aff-f1c67e7894d6",
    "outputId": "d7dd3ad6-af98-43b4-ea93-6680d2a27543"
   },
   "outputs": [
    {
     "name": "stdout",
     "output_type": "stream",
     "text": [
      "employee id: emp001\n",
      "Details: {'name': 'John Doe', 'age': 30, 'department': 'Engineering', 'salary': 80000, 'is_full_time': True}\n",
      "employee id: emp002\n",
      "Details: {'name': 'Jane Smith', 'age': 28, 'department': 'Marketing', 'salary': 75000, 'is_full_time': False}\n",
      "employee id: emp004\n",
      "Details: {'name': 'Bob Brown', 'age': 40, 'department': 'Finance', 'salary': 90000, 'is_full_time': True}\n"
     ]
    }
   ],
   "source": [
    "for k, v in employees.items():\n",
    "    print('employee id:', k)\n",
    "    print('Details:', v)"
   ]
  },
  {
   "cell_type": "markdown",
   "id": "1b559970-77ad-4291-ad99-211f2994aa91",
   "metadata": {
    "id": "1b559970-77ad-4291-ad99-211f2994aa91"
   },
   "source": [
    "**Sorting**\n",
    "\n",
    "`O(n log n)` denotes an algorithm whose time complexity grows in proportion to the input size `n`  multiplied by the `log` of `n` .\n",
    "\n",
    "- `Linear Component (n)`: Represents operations that must process each of the  `n`  elements individually.\n",
    "\n",
    "- `Logarithmic Component (log n)`: Signifies that with each operation, the problem size is effectively halved or reduced by a constant factor.\n",
    "\n",
    "When combined, `O(n log n)` indicates that the algorithm performs a logarithmic number of operations for each element, leading to a time complexity that scales better than quadratic algorithms (e.g., `O(n²)`) but is less optimal than linear algorithms `(O(n))`.\n",
    "\n",
    "This notation is commonly associated with efficient sorting algorithms and certain divide-and-conquer strategies."
   ]
  },
  {
   "cell_type": "code",
   "execution_count": null,
   "id": "75340e55-97e7-445c-a2d5-2a6251eaf843",
   "metadata": {
    "id": "75340e55-97e7-445c-a2d5-2a6251eaf843",
    "outputId": "774815b7-3cae-47bc-b9b2-5af0c418931d"
   },
   "outputs": [
    {
     "data": {
      "text/plain": [
       "[('emp004',\n",
       "  {'name': 'Bob Brown',\n",
       "   'age': 40,\n",
       "   'department': 'Finance',\n",
       "   'salary': 90000,\n",
       "   'is_full_time': True}),\n",
       " ('emp001',\n",
       "  {'name': 'John Doe',\n",
       "   'age': 30,\n",
       "   'department': 'Engineering',\n",
       "   'salary': 80000,\n",
       "   'is_full_time': True}),\n",
       " ('emp002',\n",
       "  {'name': 'Jane Smith',\n",
       "   'age': 28,\n",
       "   'department': 'Marketing',\n",
       "   'salary': 75000,\n",
       "   'is_full_time': False})]"
      ]
     },
     "execution_count": 260,
     "metadata": {},
     "output_type": "execute_result"
    }
   ],
   "source": [
    "# sort - convert to list\n",
    "salary_sort = sorted(employees.items(), key=lambda x: x[1]['age'], reverse=True) # x[0] represents the key, and x[1] values\n",
    "salary_sort"
   ]
  },
  {
   "cell_type": "code",
   "execution_count": null,
   "id": "3dcab612-8b7a-43d0-b8c3-f3e706fc71bf",
   "metadata": {
    "id": "3dcab612-8b7a-43d0-b8c3-f3e706fc71bf",
    "outputId": "0f6e9783-38b0-485d-ff94-10f61dd5ede2"
   },
   "outputs": [
    {
     "data": {
      "text/plain": [
       "dict_items([('emp001', {'name': 'John Doe', 'age': 30, 'department': 'Engineering', 'salary': 80000, 'is_full_time': True}), ('emp002', {'name': 'Jane Smith', 'age': 28, 'department': 'Marketing', 'salary': 75000, 'is_full_time': False}), ('emp004', {'name': 'Bob Brown', 'age': 40, 'department': 'Finance', 'salary': 90000, 'is_full_time': True})])"
      ]
     },
     "execution_count": 254,
     "metadata": {},
     "output_type": "execute_result"
    }
   ],
   "source": [
    "employees.items()"
   ]
  },
  {
   "cell_type": "markdown",
   "id": "6e83e691-2de3-4631-9215-8c3920a4e17c",
   "metadata": {
    "id": "6e83e691-2de3-4631-9215-8c3920a4e17c"
   },
   "source": [
    "#### 13\n",
    "\n",
    "Dimensionality of data structures"
   ]
  },
  {
   "cell_type": "markdown",
   "id": "0e6b6bc2-787e-4079-a786-7a12573c9e7f",
   "metadata": {
    "id": "0e6b6bc2-787e-4079-a786-7a12573c9e7f"
   },
   "source": [
    "**1. One-dimensional**"
   ]
  },
  {
   "cell_type": "code",
   "execution_count": null,
   "id": "1f807060-9fec-474a-a9ba-688ce7a40164",
   "metadata": {
    "id": "1f807060-9fec-474a-a9ba-688ce7a40164",
    "outputId": "e3635b55-b2a2-4bdb-df44-f6c224b43dc9"
   },
   "outputs": [
    {
     "data": {
      "text/plain": [
       "1"
      ]
     },
     "execution_count": 271,
     "metadata": {},
     "output_type": "execute_result"
    }
   ],
   "source": [
    "vals = [1,2,3]\n",
    "vals[0]"
   ]
  },
  {
   "cell_type": "markdown",
   "id": "7c3a155e-3ae8-4a22-ad2e-04e979c3caa5",
   "metadata": {
    "id": "7c3a155e-3ae8-4a22-ad2e-04e979c3caa5"
   },
   "source": [
    "**2. Two-dimensional**"
   ]
  },
  {
   "cell_type": "code",
   "execution_count": null,
   "id": "f27a3877-7df4-4bd0-8043-7fc5ea546c91",
   "metadata": {
    "id": "f27a3877-7df4-4bd0-8043-7fc5ea546c91",
    "outputId": "b98a36c2-df79-4b94-ed73-5acbaa5cb74e"
   },
   "outputs": [
    {
     "data": {
      "text/plain": [
       "5"
      ]
     },
     "execution_count": 273,
     "metadata": {},
     "output_type": "execute_result"
    }
   ],
   "source": [
    "mat = [\n",
    "          [1, 2, 3],\n",
    "          [4, 5, 6],\n",
    "          [7, 8, 9]\n",
    "      ]\n",
    "\n",
    "mat[1][1]"
   ]
  },
  {
   "cell_type": "code",
   "execution_count": null,
   "id": "b7067d06-2b25-4cb0-a6ad-0de1997e6f24",
   "metadata": {
    "id": "b7067d06-2b25-4cb0-a6ad-0de1997e6f24",
    "outputId": "65ffff06-5a08-4591-8558-9dda4c298465"
   },
   "outputs": [
    {
     "data": {
      "text/plain": [
       "2"
      ]
     },
     "execution_count": 277,
     "metadata": {},
     "output_type": "execute_result"
    }
   ],
   "source": [
    "np.ndim(mat) # number of dimensions"
   ]
  },
  {
   "cell_type": "code",
   "execution_count": null,
   "id": "710a2a71-4d7d-477b-a6b9-7427db3dec09",
   "metadata": {
    "id": "710a2a71-4d7d-477b-a6b9-7427db3dec09",
    "outputId": "25396238-a214-4922-c0c5-bbecb4bac4e1"
   },
   "outputs": [
    {
     "data": {
      "text/plain": [
       "array([[1, 4, 7],\n",
       "       [2, 5, 8],\n",
       "       [3, 6, 9]])"
      ]
     },
     "execution_count": 276,
     "metadata": {},
     "output_type": "execute_result"
    }
   ],
   "source": [
    "np.matrix_transpose(mat) # rows to columns"
   ]
  },
  {
   "cell_type": "code",
   "execution_count": null,
   "id": "e207d586-7195-405a-9b38-e0b7dc24678b",
   "metadata": {
    "id": "e207d586-7195-405a-9b38-e0b7dc24678b",
    "outputId": "d0a9139b-c8e2-4627-de78-edf7b7e521e6"
   },
   "outputs": [
    {
     "data": {
      "text/plain": [
       "array([[[1],\n",
       "        [2],\n",
       "        [3]],\n",
       "\n",
       "       [[4],\n",
       "        [5],\n",
       "        [6]],\n",
       "\n",
       "       [[7],\n",
       "        [8],\n",
       "        [9]]])"
      ]
     },
     "execution_count": 284,
     "metadata": {},
     "output_type": "execute_result"
    }
   ],
   "source": [
    "mat3d = np.atleast_3d(mat) # convert to 3D\n",
    "mat3d"
   ]
  },
  {
   "cell_type": "code",
   "execution_count": null,
   "id": "b3973965-6f7e-423c-aec6-02c644be0a84",
   "metadata": {
    "id": "b3973965-6f7e-423c-aec6-02c644be0a84",
    "outputId": "d2f01ccf-2b97-4d1b-9cc7-28749e638756"
   },
   "outputs": [
    {
     "data": {
      "text/plain": [
       "(3, 3, 1)"
      ]
     },
     "execution_count": 287,
     "metadata": {},
     "output_type": "execute_result"
    }
   ],
   "source": [
    "mat3d.shape # 3 blocks, each block has 3 rows, each row has 1 element"
   ]
  },
  {
   "cell_type": "code",
   "execution_count": null,
   "id": "85138d22-1204-4a04-962d-7f65f6576667",
   "metadata": {
    "id": "85138d22-1204-4a04-962d-7f65f6576667",
    "outputId": "32596c31-be06-4978-f09d-deb25cb3fb63"
   },
   "outputs": [
    {
     "data": {
      "text/plain": [
       "array([[1, 2, 3],\n",
       "       [4, 5, 6],\n",
       "       [7, 8, 9]])"
      ]
     },
     "execution_count": 289,
     "metadata": {},
     "output_type": "execute_result"
    }
   ],
   "source": [
    "# Removes last dimension of size 1\n",
    "mat2d = np.squeeze(mat3d)\n",
    "mat2d"
   ]
  },
  {
   "cell_type": "code",
   "execution_count": null,
   "id": "d396bfd8-39ce-472a-8f49-7929ab513f94",
   "metadata": {
    "id": "d396bfd8-39ce-472a-8f49-7929ab513f94",
    "outputId": "5ebac110-e607-4df5-b3ce-e4452705d346"
   },
   "outputs": [
    {
     "data": {
      "text/plain": [
       "(3, 3)"
      ]
     },
     "execution_count": 290,
     "metadata": {},
     "output_type": "execute_result"
    }
   ],
   "source": [
    "mat2d.shape"
   ]
  },
  {
   "cell_type": "code",
   "execution_count": null,
   "id": "59a7e3d9-1ab1-4049-abe9-ae6b26774b4f",
   "metadata": {
    "id": "59a7e3d9-1ab1-4049-abe9-ae6b26774b4f",
    "outputId": "3d684d8f-6da5-4add-b98d-a1399176b4df"
   },
   "outputs": [
    {
     "data": {
      "text/plain": [
       "array([[1, 2, 3],\n",
       "       [4, 5, 6],\n",
       "       [7, 8, 9]])"
      ]
     },
     "execution_count": 291,
     "metadata": {},
     "output_type": "execute_result"
    }
   ],
   "source": [
    "# Remove last dimension of 3 rows\n",
    "mat1d = np.squeeze(mat2d)\n",
    "mat1d"
   ]
  },
  {
   "cell_type": "markdown",
   "id": "EERAobvc3fKd",
   "metadata": {
    "id": "EERAobvc3fKd"
   },
   "source": [
    "#### 14\n",
    "\n",
    "JSON object traversal and recursion\n",
    "\n",
    "Remove PII information from the json object"
   ]
  },
  {
   "cell_type": "code",
   "execution_count": 2,
   "id": "879c9c32-fb4e-41bc-ba17-4742283c3c90",
   "metadata": {
    "executionInfo": {
     "elapsed": 9,
     "status": "ok",
     "timestamp": 1741305122715,
     "user": {
      "displayName": "Keval Shah",
      "userId": "06795599544953230322"
     },
     "user_tz": 480
    },
    "id": "879c9c32-fb4e-41bc-ba17-4742283c3c90"
   },
   "outputs": [],
   "source": [
    "person = {\n",
    "              \"firstname\": \"John\",\n",
    "              \"lastname\": \"Smith\",\n",
    "              \"dateOfBirth\": \"1985-03-04\",\n",
    "              \"ssn\": \"123-45-6789\",\n",
    "              \"foo\": \"x\",\n",
    "              \"bar\": \"y\",\n",
    "              \"paymentInformation\": {\n",
    "                  \"cardNumber\": \"4242-4242-4242-4242\",\n",
    "                  \"expiration\": \"2025/05\",\n",
    "                  \"ccv\": \"123\",\n",
    "                  \"zipCode\": \"94123\"\n",
    "              },\n",
    "              \"addresses\": [\n",
    "                  {\n",
    "                      \"name\": \"billing\",\n",
    "                      \"street\": \"1000 2nd street\",\n",
    "                      \"city\": \"San Francisco\",\n",
    "                      \"zip\": \"94000\",\n",
    "                      \"state\": \"CA\"\n",
    "                  }\n",
    "              ],\n",
    "         }\n",
    "\n",
    "pii_list = [\"firstname\", \"dateOfBirth\", \"ssn\", \"cardNumber\", \"ccv\"]"
   ]
  },
  {
   "cell_type": "code",
   "execution_count": 5,
   "id": "S0qc43Rx39q8",
   "metadata": {
    "executionInfo": {
     "elapsed": 2,
     "status": "ok",
     "timestamp": 1741305179022,
     "user": {
      "displayName": "Keval Shah",
      "userId": "06795599544953230322"
     },
     "user_tz": 480
    },
    "id": "S0qc43Rx39q8"
   },
   "outputs": [],
   "source": [
    "def remove_pii(data, pii_fields):\n",
    "    if isinstance(data, dict):\n",
    "        for key in list(data.keys()):\n",
    "            if key in pii_fields:\n",
    "                data[key] = \"\"\n",
    "            else:\n",
    "                # handle case when nested dict\n",
    "                remove_pii(data[key], pii_fields)\n",
    "    # handle case when data is a list of dicts\n",
    "    elif isinstance(data, list):\n",
    "        for item in data:\n",
    "            remove_pii(item, pii_fields)\n",
    "\n",
    "    return data"
   ]
  },
  {
   "cell_type": "code",
   "execution_count": 6,
   "id": "UF0BzaIs37Kw",
   "metadata": {
    "colab": {
     "base_uri": "https://localhost:8080/"
    },
    "executionInfo": {
     "elapsed": 5,
     "status": "ok",
     "timestamp": 1741305180831,
     "user": {
      "displayName": "Keval Shah",
      "userId": "06795599544953230322"
     },
     "user_tz": 480
    },
    "id": "UF0BzaIs37Kw",
    "outputId": "39c9f75d-c903-4be0-94c7-9656a7ffe0e3"
   },
   "outputs": [
    {
     "data": {
      "text/plain": [
       "{'firstname': '',\n",
       " 'lastname': 'Smith',\n",
       " 'dateOfBirth': '',\n",
       " 'ssn': '',\n",
       " 'foo': 'x',\n",
       " 'bar': 'y',\n",
       " 'paymentInformation': {'cardNumber': '',\n",
       "  'expiration': '2025/05',\n",
       "  'ccv': '',\n",
       "  'zipCode': '94123'},\n",
       " 'addresses': [{'name': 'billing',\n",
       "   'street': '1000 2nd street',\n",
       "   'city': 'San Francisco',\n",
       "   'zip': '94000',\n",
       "   'state': 'CA'}]}"
      ]
     },
     "execution_count": 6,
     "metadata": {},
     "output_type": "execute_result"
    }
   ],
   "source": [
    "remove_pii(person, pii_list)"
   ]
  },
  {
   "cell_type": "markdown",
   "id": "8f092d87-c0c7-4ad4-8d6f-651d8ba24496",
   "metadata": {},
   "source": [
    "#### 15 Depth-First Search (DFS)\n",
    "\n",
    "DFS explores as far as possible along each branch before backtracking, using a stack (explicitly or via recursion)."
   ]
  },
  {
   "cell_type": "code",
   "execution_count": 299,
   "id": "6e92816a-9bf0-4d8c-9522-39ffec88b0a2",
   "metadata": {},
   "outputs": [],
   "source": [
    "def dfs(graph, start, visited=None):\n",
    "    \n",
    "    if visited is None:\n",
    "        visited = set()\n",
    "        \n",
    "    visited.add(start)\n",
    "    print(\"start\", start)\n",
    "    \n",
    "    for neighbor in graph[start]:\n",
    "        print(\"neighbor\", neighbor)\n",
    "        if neighbor not in visited:\n",
    "            dfs(graph, neighbor, visited)"
   ]
  },
  {
   "cell_type": "code",
   "execution_count": 300,
   "id": "f828c378-1919-4fb3-bdbe-d0b108a09391",
   "metadata": {},
   "outputs": [],
   "source": [
    "# Example usage\n",
    "graph = {\n",
    "            'A': ['B', 'C'],\n",
    "            'B': ['D', 'E'],\n",
    "            'C': ['F'],\n",
    "            'D': [],\n",
    "            'E': ['F'],\n",
    "            'F': []\n",
    "        }"
   ]
  },
  {
   "cell_type": "code",
   "execution_count": 301,
   "id": "4c3ceedb-071e-4aae-b45c-99d9dfc1119a",
   "metadata": {},
   "outputs": [
    {
     "name": "stdout",
     "output_type": "stream",
     "text": [
      "start A\n",
      "neighbor B\n",
      "start B\n",
      "neighbor D\n",
      "start D\n",
      "neighbor E\n",
      "start E\n",
      "neighbor F\n",
      "start F\n",
      "neighbor C\n",
      "start C\n",
      "neighbor F\n"
     ]
    }
   ],
   "source": [
    "dfs(graph, 'A')"
   ]
  },
  {
   "cell_type": "markdown",
   "id": "674674ae-9ae0-4a7c-acc1-5d8b63fade7c",
   "metadata": {},
   "source": [
    "#### 16 Breadth-First Search (BFS)\n",
    "\n",
    "BFS explores all neighbors at the present depth prior to moving on to nodes at the next depth level, using a queue."
   ]
  },
  {
   "cell_type": "code",
   "execution_count": 302,
   "id": "9439e116-1fa2-4cd9-8544-d553d685368b",
   "metadata": {},
   "outputs": [],
   "source": [
    "from collections import deque\n",
    "\n",
    "def bfs(graph, start):\n",
    "    visited = set()\n",
    "    queue = deque([start])\n",
    "    visited.add(start)\n",
    "    \n",
    "    while queue:\n",
    "        vertex = queue.popleft()\n",
    "        print(vertex)\n",
    "        \n",
    "        for neighbor in graph[vertex]:\n",
    "            if neighbor not in visited:\n",
    "                visited.add(neighbor)\n",
    "                queue.append(neighbor)"
   ]
  },
  {
   "cell_type": "code",
   "execution_count": 304,
   "id": "11c8bdcb-ad59-4808-ab73-bbf18da8ca50",
   "metadata": {},
   "outputs": [],
   "source": [
    "# Example usage\n",
    "graph = {\n",
    "            'A': ['B', 'C'],\n",
    "            'B': ['D', 'E'],\n",
    "            'C': ['F'],\n",
    "            'D': [],\n",
    "            'E': ['F'],\n",
    "            'F': []\n",
    "        }"
   ]
  },
  {
   "cell_type": "code",
   "execution_count": 305,
   "id": "6bd1902f-16e1-4651-ab8a-05d15680e818",
   "metadata": {},
   "outputs": [
    {
     "name": "stdout",
     "output_type": "stream",
     "text": [
      "A\n",
      "B\n",
      "C\n",
      "D\n",
      "E\n",
      "F\n"
     ]
    }
   ],
   "source": [
    "bfs(graph, 'A')"
   ]
  },
  {
   "cell_type": "markdown",
   "id": "20a41d5d-6aa0-480a-a538-062e7c1e1252",
   "metadata": {},
   "source": [
    "#### 17\n",
    "\n",
    "You are given an array of patient medical test records, where each record is represented as an object with two properties: \"patientId\" and \"testId\". Write a function that groups patients who have undergone exactly the same set of medical tests. Return an array of arrays, where each inner array contains the patientIds of patients who share identical medical tests."
   ]
  },
  {
   "cell_type": "code",
   "execution_count": 92,
   "id": "7d102b76-f37a-4a03-b18c-f4dc9a9cb222",
   "metadata": {},
   "outputs": [
    {
     "data": {
      "text/plain": [
       "\"\\npatients = {'P1': ['T1','T3']}\\n\""
      ]
     },
     "execution_count": 92,
     "metadata": {},
     "output_type": "execute_result"
    }
   ],
   "source": [
    "from typing import DefaultDict\n",
    "from collections import defaultdict\n",
    "\n",
    "patient_records = [\n",
    "    {\"patientId\": \"P1\", \"testId\": \"T1\"},\n",
    "    {\"patientId\": \"P1\", \"testId\": \"T1\"},\n",
    "    {\"patientId\": \"P2\", \"testId\": \"T2\"},\n",
    "    {\"patientId\": \"P3\", \"testId\": \"T1\"},\n",
    "    {\"patientId\": \"P1\", \"testId\": \"T3\"},\n",
    "    {\"patientId\": \"P2\", \"testId\": \"T4\"},\n",
    "    {\"patientId\": \"P3\", \"testId\": \"T3\"},\n",
    "    {\"patientId\": \"P4\", \"testId\": \"T1\"},\n",
    "    {\"patientId\": \"P4\", \"testId\": \"T3\"},\n",
    "]\n",
    "\n",
    "\"\"\"\n",
    "patients = {'P1': ['T1','T3']}\n",
    "\"\"\""
   ]
  },
  {
   "cell_type": "code",
   "execution_count": 93,
   "id": "22ba8681-7ef1-4488-841c-7f9c63e21baf",
   "metadata": {},
   "outputs": [
    {
     "name": "stdout",
     "output_type": "stream",
     "text": [
      "patients defaultdict(<class 'set'>, {'P1': {'T1', 'T3'}, 'P2': {'T4', 'T2'}, 'P3': {'T1', 'T3'}, 'P4': {'T1', 'T3'}})\n"
     ]
    }
   ],
   "source": [
    "patients = defaultdict(set)\n",
    "\n",
    "for pr in patient_records:\n",
    "    #print('record', pr)\n",
    "\n",
    "    patients[pr['patientId']].add(pr['testId'])\n",
    "\n",
    "print(\"patients\", patients)"
   ]
  },
  {
   "cell_type": "code",
   "execution_count": 94,
   "id": "b4ce1e15-cf88-4a98-a853-b7d48ed3e6a8",
   "metadata": {},
   "outputs": [
    {
     "name": "stdout",
     "output_type": "stream",
     "text": [
      "keys P1\n",
      "values {'T1', 'T3'}\n",
      "key frozenset({'T1', 'T3'})\n",
      "keys P2\n",
      "values {'T4', 'T2'}\n",
      "key frozenset({'T4', 'T2'})\n",
      "keys P3\n",
      "values {'T1', 'T3'}\n",
      "key frozenset({'T1', 'T3'})\n",
      "keys P4\n",
      "values {'T1', 'T3'}\n",
      "key frozenset({'T1', 'T3'})\n",
      "[['P1', 'P3', 'P4'], ['P2']]\n"
     ]
    }
   ],
   "source": [
    "output = defaultdict(list)\n",
    "\n",
    "# reverse values as keys\n",
    "for k,v in patients.items():\n",
    "\n",
    "    print('keys', k)\n",
    "    print('values', v)\n",
    "    \n",
    "    key = frozenset(v)\n",
    "    print('key', key)\n",
    "\n",
    "    output[key].append(k)\n",
    "\n",
    "print(list(output.values()))"
   ]
  },
  {
   "cell_type": "markdown",
   "id": "5fcd5221-d975-4d5d-bf13-7b8693ca8855",
   "metadata": {},
   "source": [
    "**Find Kth largest element from a list**"
   ]
  },
  {
   "cell_type": "code",
   "execution_count": 95,
   "id": "ea50c8a6-3954-47ec-9dc6-e554e03198fb",
   "metadata": {},
   "outputs": [],
   "source": [
    "def findKthLargest(nums, k):\n",
    "\n",
    "    \"\"\"\n",
    "    for i in range(k):\n",
    "\n",
    "        1. find max of nums\n",
    "        2. drop current max\n",
    "        3. re-assign new nums\n",
    "    \"\"\"\n",
    "        \n",
    "    largest = 0\n",
    "\n",
    "    for _ in range(k):\n",
    "\n",
    "        largest = np.max(nums)\n",
    "        print(f\"largest: {largest}\")\n",
    "\n",
    "        nums.remove(largest)\n",
    "\n",
    "    return largest"
   ]
  },
  {
   "cell_type": "code",
   "execution_count": 26,
   "id": "ed4ede78-2a52-44d4-bfa3-6c8fb4c2c4bb",
   "metadata": {},
   "outputs": [],
   "source": [
    "nums = [3,2,1,5,6,4] \n",
    "#k = 3\n",
    "#findKthLargest(nums, k)"
   ]
  },
  {
   "cell_type": "code",
   "execution_count": 27,
   "id": "edbed779-e36e-4102-b48b-ec18f1d2ebbe",
   "metadata": {},
   "outputs": [
    {
     "data": {
      "text/plain": [
       "6"
      ]
     },
     "execution_count": 27,
     "metadata": {},
     "output_type": "execute_result"
    }
   ],
   "source": [
    "max(nums)"
   ]
  },
  {
   "cell_type": "markdown",
   "id": "b8cf9322-a273-4ffc-a03d-2b217a947162",
   "metadata": {},
   "source": [
    "**Topologic sorting problem** \n",
    "\n",
    "You have a job dependency system where each Job has dependencies on other jobs. The `execute()` function needs to run all jobs in the graph while respecting their dependencies (a job should only run after all its dependencies have run). This is essentially a topological sorting problem"
   ]
  },
  {
   "cell_type": "code",
   "execution_count": 49,
   "id": "7a720178-7176-4378-ab3e-b8ae34def9c0",
   "metadata": {},
   "outputs": [],
   "source": [
    "class Job:\n",
    "    def __init__(self, deps, name):\n",
    "        self.deps = deps\n",
    "        self.name = name\n",
    "\n",
    "    def run(self):\n",
    "        pass\n",
    "\n",
    "    def __repr__(self):\n",
    "        dep_names = [dep.name for dep in self.deps]\n",
    "        return f\"Job(name='{self.name}', deps={dep_names})\""
   ]
  },
  {
   "cell_type": "code",
   "execution_count": 50,
   "id": "2eac4d6f-70cf-4daf-99fe-249556ec5a46",
   "metadata": {},
   "outputs": [],
   "source": [
    "def execute(graph: set[Job]):\n",
    "    \"\"\"\n",
    "    Execute jobs in a dependency graph, ensuring that each job runs only after all\n",
    "    its dependencies have been executed.\n",
    "    \n",
    "    Args:\n",
    "        graph (set[Job]): A set of Job objects representing the dependency graph\n",
    "    \"\"\"\n",
    "    print(\"graph\", graph)\n",
    "    \n",
    "    # Keep track of jobs that have been executed\n",
    "    executed = set()\n",
    "    \n",
    "    # Define a helper function to recursively execute jobs and their dependencies\n",
    "    def execute_job(job):\n",
    "        # Skip if job has already been executed\n",
    "        if job in executed:\n",
    "            return\n",
    "        \n",
    "        # First execute all dependencies\n",
    "        # for dep in job.deps:\n",
    "        #     print(\"Dependency name:\", dep.name)\n",
    "        #     execute_job(dep)\n",
    "\n",
    "        print(\"Executing job:\", job.name)\n",
    "\n",
    "        # Now that all dependencies have been executed, run this job\n",
    "        job.run()\n",
    "        \n",
    "        # Mark this job as executed\n",
    "        executed.add(job)\n",
    "    \n",
    "    # Execute all jobs in the graph\n",
    "    for job in graph:\n",
    "        print(\"Current job:\", job.name)\n",
    "        execute_job(job)"
   ]
  },
  {
   "cell_type": "code",
   "execution_count": 51,
   "id": "8914fb1b-e497-449d-8d21-b9ff57193b29",
   "metadata": {},
   "outputs": [
    {
     "name": "stdout",
     "output_type": "stream",
     "text": [
      "graph {Job(name='job3', deps=['job1']), Job(name='job1', deps=[])}\n",
      "Current job: job3\n",
      "Executing job: job3\n",
      "Current job: job1\n",
      "Executing job: job1\n"
     ]
    }
   ],
   "source": [
    "# Create an instance of the class\n",
    "j1 = Job([], name='job1')\n",
    "#j2 = Job([j1], name='job2')\n",
    "j3 = Job([j1], name='job3')\n",
    "#j4 = Job([j2, j3], name='job4')\n",
    "\n",
    "execute({j1, j3})"
   ]
  },
  {
   "cell_type": "markdown",
   "id": "e22f8327-7558-4608-b217-113a00e15031",
   "metadata": {},
   "source": [
    "**Given the root of a binary tree, return the length of the diameter of the tree.**\n",
    "\n",
    "The diameter of a binary tree is the length of the longest path between any two nodes in a tree. This path may or may not pass through the root.\n",
    "\n",
    "The length of a path between two nodes is represented by the number of edges between them."
   ]
  },
  {
   "cell_type": "code",
   "execution_count": 7,
   "id": "498725a2-efde-4747-be1a-7e32c4cdc34d",
   "metadata": {},
   "outputs": [],
   "source": [
    "# Definition for a binary tree node.\n",
    "class TreeNode:\n",
    "    def __init__(self, val=0, left=None, right=None):\n",
    "        self.val = val\n",
    "        self.left = left\n",
    "        self.right = right\n",
    "\n",
    "class Solution:\n",
    "    def diameterOfBinaryTree(self, root: Optional[TreeNode]) -> int:\n",
    "        \n",
    "        self.max_diameter = 0\n",
    "\n",
    "        # If the node is None, return 0 as the height.\n",
    "        def dfs(node: Optional[TreeNode]) -> int:\n",
    "            print('node:', node)\n",
    "\n",
    "            if not node:\n",
    "                return 0  \n",
    "\n",
    "            # Recursively compute the height of the left subtree.\n",
    "            left_height = dfs(node.left)\n",
    "            right_height = dfs(node.right)\n",
    "\n",
    "            print('left height', left_height)\n",
    "            print('right height', right_height)\n",
    "\n",
    "            current_diameter = left_height + right_height\n",
    "\n",
    "            # Update the maximum diameter if the current diameter is greater.\n",
    "            self.max_diameter = max(self.max_diameter, current_diameter)\n",
    "            print('max diameter', self.max_diameter)\n",
    "\n",
    "            # Return the height of the current node.\n",
    "            return 1 + max(left_height, right_height)\n",
    "\n",
    "        dfs(root)  # Start the DFS traversal from the root.\n",
    "        return self.max_diameter  # Return the maximum diameter found."
   ]
  },
  {
   "cell_type": "code",
   "execution_count": 8,
   "id": "0fd13753-446e-47f9-b8de-ad5bf3cf95b0",
   "metadata": {},
   "outputs": [
    {
     "name": "stdout",
     "output_type": "stream",
     "text": [
      "node: <__main__.TreeNode object at 0x1132efbd0>\n",
      "node: <__main__.TreeNode object at 0x1132ed410>\n",
      "node: <__main__.TreeNode object at 0x111f5be90>\n",
      "node: None\n",
      "node: None\n",
      "left height 0\n",
      "right height 0\n",
      "max diameter 0\n",
      "node: <__main__.TreeNode object at 0x111f58f10>\n",
      "node: None\n",
      "node: None\n",
      "left height 0\n",
      "right height 0\n",
      "max diameter 0\n",
      "left height 1\n",
      "right height 1\n",
      "max diameter 2\n",
      "node: <__main__.TreeNode object at 0x111f59210>\n",
      "node: None\n",
      "node: None\n",
      "left height 0\n",
      "right height 0\n",
      "max diameter 2\n",
      "left height 2\n",
      "right height 1\n",
      "max diameter 3\n",
      "Diameter of the binary tree is: 3\n"
     ]
    }
   ],
   "source": [
    "if __name__ == \"__main__\":\n",
    "    root = TreeNode(1)\n",
    "    root.left = TreeNode(2)\n",
    "    root.right = TreeNode(3)\n",
    "    root.left.left = TreeNode(4)\n",
    "    root.left.right = TreeNode(5)\n",
    "\n",
    "    sol = Solution()\n",
    "    print(\"Diameter of the binary tree is:\", sol.diameterOfBinaryTree(root))"
   ]
  },
  {
   "cell_type": "markdown",
   "id": "7edc25bc-a923-45a2-b9b2-1c410c1bcd29",
   "metadata": {},
   "source": [
    "**Minimum Remove to Make Valid Parentheses**\n",
    "\n",
    "Given a string s of `'('` , `')'` and lowercase English characters.\n",
    "\n",
    "Your task is to remove the minimum number of parentheses `( '('` or `')'`, in any positions `)` so that the resulting parentheses string is valid and return any valid string.\n",
    "\n",
    "Formally, a parentheses string is valid if and only if:\n",
    "\n",
    "It is the empty string, contains only lowercase characters, or\n",
    "It can be written as AB (A concatenated with B), where A and B are valid strings, or\n",
    "It can be written as (A), where A is a valid string."
   ]
  },
  {
   "cell_type": "code",
   "execution_count": 33,
   "id": "39722aea-a471-445e-a45f-c762e1c90355",
   "metadata": {},
   "outputs": [],
   "source": [
    "class Solution:\n",
    "    def minRemoveToMakeValid(self, s: str) -> str:\n",
    "            \n",
    "            stack = []\n",
    "            remove = set()\n",
    "            \n",
    "            for i, char in enumerate(s):\n",
    "    \n",
    "                if char == '(':\n",
    "                    stack.append(i)\n",
    "                elif char == ')':\n",
    "                    if stack: \n",
    "                        stack.pop() # if matching closing parenthesis found, pop opening (\n",
    "                    else: # otherwise add to stack\n",
    "                        remove.add(i) # add unmatched closing parenthesis\n",
    "            \n",
    "            # union of all unmatched opening from stack and closing from remove\n",
    "            remove = remove.union(set(stack))\n",
    "    \n",
    "            result = []\n",
    "            for i, char in enumerate(s):\n",
    "                if i not in remove:\n",
    "                    result.append(char)\n",
    "            \n",
    "            # list to string\n",
    "            return ''.join(result)\n"
   ]
  },
  {
   "cell_type": "code",
   "execution_count": 34,
   "id": "d8651c2f-2bc8-4376-8ba8-6a95bc8ccd8e",
   "metadata": {},
   "outputs": [
    {
     "data": {
      "text/plain": [
       "'lee(t(c)o)de'"
      ]
     },
     "execution_count": 34,
     "metadata": {},
     "output_type": "execute_result"
    }
   ],
   "source": [
    "sol = Solution()\n",
    "sol.minRemoveToMakeValid(s='lee(t(c)o)de)')"
   ]
  },
  {
   "cell_type": "markdown",
   "id": "c01f6ad1-95c2-401e-a119-c165d6fa91ed",
   "metadata": {},
   "source": [
    "**Best time to buy a stock**\n",
    "\n",
    "You are given an integer array prices where prices[i] is the price of a given stock on the ith day.\n",
    "\n",
    "On each day, you may decide to buy and/or sell the stock. You can only hold at most one share of the stock at any time. However, you can buy it then immediately sell it on the same day.\n",
    "\n",
    "Find and return the maximum profit you can achieve.\n",
    "\n",
    " \n",
    "Example 1:\n",
    "\n",
    "Input: prices = [7,1,5,3,6,4]\n",
    "Output: 7\n",
    "Explanation: Buy on day 2 (price = 1) and sell on day 3 (price = 5), profit = 5-1 = 4.\n",
    "Then buy on day 4 (price = 3) and sell on day 5 (price = 6), profit = 6-3 = 3.\n",
    "Total profit is 4 + 3 = 7."
   ]
  },
  {
   "cell_type": "code",
   "execution_count": 36,
   "id": "8544d85f-cff5-4733-8208-171c88f7f0be",
   "metadata": {},
   "outputs": [],
   "source": [
    "class Solution:\n",
    "    def maxProfit(self, prices) -> int:\n",
    "        \n",
    "        \"\"\"\n",
    "        In order to book profit, we want to buy low and sell high. \n",
    "\n",
    "        Iterate over prices and calculate positive differences or profits\n",
    "        \"\"\"\n",
    "\n",
    "        total_profit = 0\n",
    "\n",
    "        # iterate starting from second day\n",
    "        for i in range(1, len(prices)):\n",
    "            if prices[i] > prices[i-1]:\n",
    "                total_profit += prices[i] - prices[i-1]\n",
    "        \n",
    "        return total_profit"
   ]
  },
  {
   "cell_type": "code",
   "execution_count": 37,
   "id": "d400e53c-0779-4a1c-981c-aeaa247871d1",
   "metadata": {},
   "outputs": [
    {
     "data": {
      "text/plain": [
       "7"
      ]
     },
     "execution_count": 37,
     "metadata": {},
     "output_type": "execute_result"
    }
   ],
   "source": [
    "sol = Solution()\n",
    "sol.maxProfit([7,1,5,3,6,4])"
   ]
  },
  {
   "cell_type": "markdown",
   "id": "cb7adc79-9cc0-4d13-8474-6e20607d97e3",
   "metadata": {},
   "source": [
    "**In-order traversal**\n",
    "\n",
    "Inorder traversal is a type of depth-first traversal that follows the sequence: ￼\n",
    "\n",
    "\t1.\tTraverse the left subtree\n",
    "\t2.\tVisit the root node\n",
    "\t3.\tTraverse the right subtree ￼ ￼\n",
    "\n",
    "This method ensures that nodes are processed in a hierarchical sequence, making it useful for expression trees and BSTs.  ￼"
   ]
  },
  {
   "cell_type": "code",
   "execution_count": 42,
   "id": "6fcde49d-2a34-4f57-a343-7e5245acaa56",
   "metadata": {},
   "outputs": [],
   "source": [
    "# Definition for a binary tree node.\n",
    "class TreeNode:\n",
    "    def __init__(self, val: int = 0, left: Optional['TreeNode'] = None, right: Optional['TreeNode'] = None):\n",
    "        self.val = val          # The value of the node\n",
    "        self.left = left        # Pointer to the left child node\n",
    "        self.right = right      # Pointer to the right child node\n",
    "\n",
    "class Solution:\n",
    "    def inorderTraversal(self, root: Optional[TreeNode]) -> List[int]:\n",
    "        result = []  # List to store the inorder traversal result\n",
    "\n",
    "        def inorder(node: Optional[TreeNode]):\n",
    "            if node:\n",
    "                inorder(node.left)          # Traverse the left subtree\n",
    "                result.append(node.val)     # Visit the root node\n",
    "                inorder(node.right)         # Traverse the right subtree\n",
    "\n",
    "        inorder(root)  # Initiate the traversal starting from the root\n",
    "        return result  # Return the final traversal result"
   ]
  },
  {
   "cell_type": "code",
   "execution_count": 41,
   "id": "adc72098-a707-4592-a20a-ae80422dd2cc",
   "metadata": {},
   "outputs": [
    {
     "ename": "NameError",
     "evalue": "name 'null' is not defined",
     "output_type": "error",
     "traceback": [
      "\u001b[0;31m---------------------------------------------------------------------------\u001b[0m",
      "\u001b[0;31mNameError\u001b[0m                                 Traceback (most recent call last)",
      "Cell \u001b[0;32mIn[41], line 2\u001b[0m\n\u001b[1;32m      1\u001b[0m sol \u001b[38;5;241m=\u001b[39m Solution()\n\u001b[0;32m----> 2\u001b[0m sol\u001b[38;5;241m.\u001b[39minorderTraversal([\u001b[38;5;241m1\u001b[39m,\u001b[38;5;241m2\u001b[39m,\u001b[38;5;241m3\u001b[39m,\u001b[38;5;241m4\u001b[39m,\u001b[38;5;241m5\u001b[39m,\u001b[43mnull\u001b[49m,\u001b[38;5;241m8\u001b[39m,null,null,\u001b[38;5;241m6\u001b[39m,\u001b[38;5;241m7\u001b[39m,\u001b[38;5;241m9\u001b[39m])\n",
      "\u001b[0;31mNameError\u001b[0m: name 'null' is not defined"
     ]
    }
   ],
   "source": [
    "sol = Solution()\n",
    "sol.inorderTraversal([1,2,3,4,5,null,8,null,null,6,7,9])"
   ]
  }
 ],
 "metadata": {
  "colab": {
   "provenance": []
  },
  "kernelspec": {
   "display_name": "Python 3 (ipykernel)",
   "language": "python",
   "name": "python3"
  },
  "language_info": {
   "codemirror_mode": {
    "name": "ipython",
    "version": 3
   },
   "file_extension": ".py",
   "mimetype": "text/x-python",
   "name": "python",
   "nbconvert_exporter": "python",
   "pygments_lexer": "ipython3",
   "version": "3.11.12"
  }
 },
 "nbformat": 4,
 "nbformat_minor": 5
}
