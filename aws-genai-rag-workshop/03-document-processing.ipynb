{
 "cells": [
  {
   "cell_type": "markdown",
   "id": "5f1feda1-7c62-4729-8a0f-633077537584",
   "metadata": {},
   "source": [
    "# Document Processing Pipeline"
   ]
  },
  {
   "cell_type": "markdown",
   "id": "fbdc9924-d03f-4612-a5ba-65de8305c1fd",
   "metadata": {},
   "source": [
    "In this notebook, we demonstrate three types of ways to process a given document so that it could be used as repositories for a question and answering chatbot (as shown in 04-rag.ipynb). The Flan T5 LLM and GPT-J embedding model are not required for this section, this notebook just demonstrates an understanding of the document processing pipeline. \n",
    "\n",
    "We use the following document, [Schedule 14A SEC document from Alabama Power Company](https://www.sec.gov/Archives/edgar/data/3153/000000315320000004/apc2020noticeofannualmeeti.htm), to extract useful information and answer questions. Before we can do that, it is vital to process the documents in a meaningful manner. This will help get the appropriate context from these large documents into the LLM so that the LLM can query the data to generate answers. The document is downloaded at `data/14A/0000003153-20-000004.html`\n",
    "\n",
    "The three different ways to process a document include: \n",
    "1. Using a standard HTML Loader from langchain\n",
    "2. Using a custom HTML loader parser\n",
    "3. Using ideal textual paragraphs\n",
    "\n",
    "Run through the sequence of cells to understand the mechanisms behind the steps in each of the approaches of the document processing pipeline. "
   ]
  },
  {
   "cell_type": "markdown",
   "id": "cb9c8ec1-70bd-4e49-88c8-f90a435a80c2",
   "metadata": {},
   "source": [
    "### 1. Set Up Kernel and Required Dependencies\n",
    "\n",
    "First, check that the correct kernel is chosen.\n",
    "\n",
    "<img src=\"img/kernel_set_up_03.png\" width=\"300\"/>\n",
    "\n",
    "You can click on that to see and check the details of the image, kernel, and instance type.\n",
    "\n",
    "<img src=\"img/w3_kernel_and_instance_type_03.png\" width=\"600\"/>"
   ]
  },
  {
   "cell_type": "markdown",
   "id": "38ca9427-db35-40ed-bba5-ef2dc59807c7",
   "metadata": {},
   "source": [
    "# NOTE:  YOU CANNOT CONTINUE UNTIL THE KERNEL IS STARTED\n",
    "# ### PLEASE WAIT UNTIL THE KERNEL IS STARTED BEFORE CONTINUING!!! ###"
   ]
  },
  {
   "cell_type": "markdown",
   "id": "e9b95632-b110-431b-a7b7-2cf3fc9ba713",
   "metadata": {},
   "source": [
    "# Use `Shift+Enter` to Run Each Cell\n",
    "\n",
    "Use `Shift+Enter` on the cell below to see the output."
   ]
  },
  {
   "cell_type": "markdown",
   "id": "ec789864-541e-4dcf-983e-328aea579c8a",
   "metadata": {},
   "source": [
    "# Click `Kernel` => `Restart Kernel and Run All Cells` to Run All Cells\n",
    "![](img/restart-kernel-and-run-all-cells.png)"
   ]
  },
  {
   "cell_type": "code",
   "execution_count": 2,
   "id": "ca8a6247-9615-4230-afd4-fa95dc972b63",
   "metadata": {
    "tags": []
   },
   "outputs": [
    {
     "name": "stdout",
     "output_type": "stream",
     "text": [
      "Python version is above 3.9.\n"
     ]
    }
   ],
   "source": [
    "import sys\n",
    "\n",
    "# Get the Python version.\n",
    "python_version = sys.version_info\n",
    "\n",
    "# Check if the Python version is above 3.9.\n",
    "if python_version.major < 3 or python_version.minor < 9:\n",
    "  # Raise an error message if the Python version is not above 3.9.\n",
    "  raise Exception(\"Python version must be above 3.9.\")\n",
    "\n",
    "# Print a success message if the Python version is above 3.9.\n",
    "print(\"Python version is above 3.9.\")"
   ]
  },
  {
   "cell_type": "markdown",
   "id": "66217474-e772-41c3-a364-74d66d2e3402",
   "metadata": {},
   "source": [
    "## _==> Please ignore all WARNINGs and ERRORs from the `pip install`'s below. <==_"
   ]
  },
  {
   "cell_type": "code",
   "execution_count": 3,
   "id": "de0404a6",
   "metadata": {
    "tags": []
   },
   "outputs": [
    {
     "name": "stdout",
     "output_type": "stream",
     "text": [
      "Requirement already satisfied: pyyaml in /opt/conda/lib/python3.9/site-packages (from -r ../requirements.txt (line 1)) (6.0.1)\n",
      "Collecting langchain\n",
      "  Downloading langchain-0.0.321-py3-none-any.whl (1.9 MB)\n",
      "\u001b[2K     \u001b[90m━━━━━━━━━━━━━━━━━━━━━━━━━━━━━━━━━━━━━━━━\u001b[0m \u001b[32m1.9/1.9 MB\u001b[0m \u001b[31m7.6 MB/s\u001b[0m eta \u001b[36m0:00:00\u001b[0m:00:01\u001b[0m0:01\u001b[0m\n",
      "\u001b[?25hCollecting bs4\n",
      "  Downloading bs4-0.0.1.tar.gz (1.1 kB)\n",
      "  Preparing metadata (setup.py) ... \u001b[?25ldone\n",
      "\u001b[?25hCollecting lxml\n",
      "  Downloading lxml-4.9.3-cp39-cp39-manylinux_2_28_x86_64.whl (8.0 MB)\n",
      "\u001b[2K     \u001b[90m━━━━━━━━━━━━━━━━━━━━━━━━━━━━━━━━━━━━━━━━\u001b[0m \u001b[32m8.0/8.0 MB\u001b[0m \u001b[31m19.9 MB/s\u001b[0m eta \u001b[36m0:00:00\u001b[0m00:01\u001b[0m00:01\u001b[0m\n",
      "\u001b[?25hRequirement already satisfied: tqdm in /opt/conda/lib/python3.9/site-packages (from -r ../requirements.txt (line 5)) (4.64.1)\n",
      "Collecting regex\n",
      "  Downloading regex-2023.10.3-cp39-cp39-manylinux_2_17_x86_64.manylinux2014_x86_64.whl (773 kB)\n",
      "\u001b[2K     \u001b[90m━━━━━━━━━━━━━━━━━━━━━━━━━━━━━━━━━━━━━━━\u001b[0m \u001b[32m773.3/773.3 kB\u001b[0m \u001b[31m1.4 MB/s\u001b[0m eta \u001b[36m0:00:00\u001b[0m00:01\u001b[0m\n",
      "\u001b[?25hCollecting opensearch-py\n",
      "  Downloading opensearch_py-2.3.2-py2.py3-none-any.whl (327 kB)\n",
      "\u001b[2K     \u001b[90m━━━━━━━━━━━━━━━━━━━━━━━━━━━━━━━━━━━━━━━\u001b[0m \u001b[32m327.3/327.3 kB\u001b[0m \u001b[31m3.5 MB/s\u001b[0m eta \u001b[36m0:00:00\u001b[0ma \u001b[36m0:00:01\u001b[0m\n",
      "\u001b[?25hCollecting boto3==1.26.73\n",
      "  Downloading boto3-1.26.73-py3-none-any.whl (132 kB)\n",
      "\u001b[2K     \u001b[90m━━━━━━━━━━━━━━━━━━━━━━━━━━━━━━━━━━━━━━━\u001b[0m \u001b[32m132.7/132.7 kB\u001b[0m \u001b[31m1.7 MB/s\u001b[0m eta \u001b[36m0:00:00\u001b[0ma \u001b[36m0:00:01\u001b[0m\n",
      "\u001b[?25hRequirement already satisfied: pandas==1.5.3 in /opt/conda/lib/python3.9/site-packages (from -r ../requirements.txt (line 9)) (1.5.3)\n",
      "Requirement already satisfied: Pillow==9.4.0 in /opt/conda/lib/python3.9/site-packages (from -r ../requirements.txt (line 10)) (9.4.0)\n",
      "Collecting streamlit==1.20.0\n",
      "  Downloading streamlit-1.20.0-py2.py3-none-any.whl (9.6 MB)\n",
      "\u001b[2K     \u001b[90m━━━━━━━━━━━━━━━━━━━━━━━━━━━━━━━━━━━━━━━━\u001b[0m \u001b[32m9.6/9.6 MB\u001b[0m \u001b[31m21.5 MB/s\u001b[0m eta \u001b[36m0:00:00\u001b[0m00:01\u001b[0m00:01\u001b[0mm\n",
      "\u001b[?25hCollecting requests-aws4auth\n",
      "  Downloading requests_aws4auth-1.2.3-py2.py3-none-any.whl (24 kB)\n",
      "Collecting botocore<1.30.0,>=1.29.73\n",
      "  Downloading botocore-1.29.165-py3-none-any.whl (11.0 MB)\n",
      "\u001b[2K     \u001b[90m━━━━━━━━━━━━━━━━━━━━━━━━━━━━━━━━━━━━━━━━\u001b[0m \u001b[32m11.0/11.0 MB\u001b[0m \u001b[31m24.5 MB/s\u001b[0m eta \u001b[36m0:00:00\u001b[0m00:01\u001b[0m00:01\u001b[0m\n",
      "\u001b[?25hRequirement already satisfied: jmespath<2.0.0,>=0.7.1 in /opt/conda/lib/python3.9/site-packages (from boto3==1.26.73->-r ../requirements.txt (line 8)) (1.0.1)\n",
      "Collecting s3transfer<0.7.0,>=0.6.0\n",
      "  Downloading s3transfer-0.6.2-py3-none-any.whl (79 kB)\n",
      "\u001b[2K     \u001b[90m━━━━━━━━━━━━━━━━━━━━━━━━━━━━━━━━━━━━━━━\u001b[0m \u001b[32m79.8/79.8 kB\u001b[0m \u001b[31m272.5 kB/s\u001b[0m eta \u001b[36m0:00:00\u001b[0ma \u001b[36m0:00:01\u001b[0m\n",
      "\u001b[?25hRequirement already satisfied: python-dateutil>=2.8.1 in /opt/conda/lib/python3.9/site-packages (from pandas==1.5.3->-r ../requirements.txt (line 9)) (2.8.2)\n",
      "Requirement already satisfied: pytz>=2020.1 in /opt/conda/lib/python3.9/site-packages (from pandas==1.5.3->-r ../requirements.txt (line 9)) (2022.7.1)\n",
      "Requirement already satisfied: numpy>=1.20.3 in /opt/conda/lib/python3.9/site-packages (from pandas==1.5.3->-r ../requirements.txt (line 9)) (1.23.5)\n",
      "Collecting validators>=0.2\n",
      "  Downloading validators-0.22.0-py3-none-any.whl (26 kB)\n",
      "Collecting pympler>=0.9\n",
      "  Downloading Pympler-1.0.1-py3-none-any.whl (164 kB)\n",
      "\u001b[2K     \u001b[90m━━━━━━━━━━━━━━━━━━━━━━━━━━━━━━━━━━━━━━━\u001b[0m \u001b[32m164.8/164.8 kB\u001b[0m \u001b[31m2.3 MB/s\u001b[0m eta \u001b[36m0:00:00\u001b[0m00:01\u001b[0m\n",
      "\u001b[?25hCollecting gitpython!=3.1.19\n",
      "  Downloading GitPython-3.1.40-py3-none-any.whl (190 kB)\n",
      "\u001b[2K     \u001b[90m━━━━━━━━━━━━━━━━━━━━━━━━━━━━━━━━━━━━━\u001b[0m \u001b[32m190.6/190.6 kB\u001b[0m \u001b[31m111.7 kB/s\u001b[0m eta \u001b[36m0:00:00\u001b[0ma \u001b[36m0:00:01\u001b[0m\n",
      "\u001b[?25hCollecting tzlocal>=1.1\n",
      "  Downloading tzlocal-5.2-py3-none-any.whl (17 kB)\n",
      "Requirement already satisfied: rich>=10.11.0 in /opt/conda/lib/python3.9/site-packages (from streamlit==1.20.0->-r ../requirements.txt (line 11)) (12.6.0)\n",
      "Collecting semver\n",
      "  Downloading semver-3.0.2-py3-none-any.whl (17 kB)\n",
      "Requirement already satisfied: packaging>=14.1 in /opt/conda/lib/python3.9/site-packages (from streamlit==1.20.0->-r ../requirements.txt (line 11)) (23.0)\n",
      "Collecting pydeck>=0.1.dev5\n",
      "  Downloading pydeck-0.8.1b0-py2.py3-none-any.whl (4.8 MB)\n",
      "\u001b[2K     \u001b[90m━━━━━━━━━━━━━━━━━━━━━━━━━━━━━━━━━━━━━━━━\u001b[0m \u001b[32m4.8/4.8 MB\u001b[0m \u001b[31m24.9 MB/s\u001b[0m eta \u001b[36m0:00:00\u001b[0m:00:01\u001b[0m\n",
      "\u001b[?25hRequirement already satisfied: click>=7.0 in /opt/conda/lib/python3.9/site-packages (from streamlit==1.20.0->-r ../requirements.txt (line 11)) (8.1.2)\n",
      "Collecting watchdog\n",
      "  Downloading watchdog-3.0.0-py3-none-manylinux2014_x86_64.whl (82 kB)\n",
      "\u001b[2K     \u001b[90m━━━━━━━━━━━━━━━━━━━━━━━━━━━━━━━━━━━━━━━\u001b[0m \u001b[32m82.1/82.1 kB\u001b[0m \u001b[31m370.3 kB/s\u001b[0m eta \u001b[36m0:00:00\u001b[0m00:01\u001b[0m\n",
      "\u001b[?25hRequirement already satisfied: protobuf<4,>=3.12 in /opt/conda/lib/python3.9/site-packages (from streamlit==1.20.0->-r ../requirements.txt (line 11)) (3.20.2)\n",
      "Collecting altair<5,>=3.2.0\n",
      "  Downloading altair-4.2.2-py3-none-any.whl (813 kB)\n",
      "\u001b[2K     \u001b[90m━━━━━━━━━━━━━━━━━━━━━━━━━━━━━━━━━━━━━━━\u001b[0m \u001b[32m813.6/813.6 kB\u001b[0m \u001b[31m9.8 MB/s\u001b[0m eta \u001b[36m0:00:00\u001b[0m00:01\u001b[0m\n",
      "\u001b[?25hRequirement already satisfied: pyarrow>=4.0 in /opt/conda/lib/python3.9/site-packages (from streamlit==1.20.0->-r ../requirements.txt (line 11)) (11.0.0)\n",
      "Requirement already satisfied: typing-extensions>=3.10.0.0 in /opt/conda/lib/python3.9/site-packages (from streamlit==1.20.0->-r ../requirements.txt (line 11)) (4.4.0)\n",
      "Requirement already satisfied: tornado>=6.0.3 in /opt/conda/lib/python3.9/site-packages (from streamlit==1.20.0->-r ../requirements.txt (line 11)) (6.2)\n",
      "Requirement already satisfied: requests>=2.4 in /opt/conda/lib/python3.9/site-packages (from streamlit==1.20.0->-r ../requirements.txt (line 11)) (2.31.0)\n",
      "Collecting cachetools>=4.0\n",
      "  Downloading cachetools-5.3.2-py3-none-any.whl (9.3 kB)\n",
      "Requirement already satisfied: importlib-metadata>=1.4 in /opt/conda/lib/python3.9/site-packages (from streamlit==1.20.0->-r ../requirements.txt (line 11)) (4.13.0)\n",
      "Requirement already satisfied: toml in /opt/conda/lib/python3.9/site-packages (from streamlit==1.20.0->-r ../requirements.txt (line 11)) (0.10.2)\n",
      "Collecting blinker>=1.0.0\n",
      "  Downloading blinker-1.6.3-py3-none-any.whl (13 kB)\n",
      "Collecting aiohttp<4.0.0,>=3.8.3\n",
      "  Downloading aiohttp-3.8.6-cp39-cp39-manylinux_2_17_x86_64.manylinux2014_x86_64.whl (1.1 MB)\n",
      "\u001b[2K     \u001b[90m━━━━━━━━━━━━━━━━━━━━━━━━━━━━━━━━━━━━━━━━\u001b[0m \u001b[32m1.1/1.1 MB\u001b[0m \u001b[31m702.4 kB/s\u001b[0m eta \u001b[36m0:00:00\u001b[0m00:01\u001b[0m\n",
      "\u001b[?25hCollecting SQLAlchemy<3,>=1.4\n",
      "  Downloading SQLAlchemy-2.0.22-cp39-cp39-manylinux_2_17_x86_64.manylinux2014_x86_64.whl (3.0 MB)\n",
      "\u001b[2K     \u001b[90m━━━━━━━━━━━━━━━━━━━━━━━━━━━━━━━━━━━━━━━━\u001b[0m \u001b[32m3.0/3.0 MB\u001b[0m \u001b[31m10.7 MB/s\u001b[0m eta \u001b[36m0:00:00\u001b[0m00:01\u001b[0m:00:01\u001b[0m\n",
      "\u001b[?25hCollecting jsonpatch<2.0,>=1.33\n",
      "  Downloading jsonpatch-1.33-py2.py3-none-any.whl (12 kB)\n",
      "Requirement already satisfied: pydantic<3,>=1 in /opt/conda/lib/python3.9/site-packages (from langchain->-r ../requirements.txt (line 2)) (1.10.4)\n",
      "Collecting dataclasses-json<0.7,>=0.5.7\n",
      "  Downloading dataclasses_json-0.6.1-py3-none-any.whl (27 kB)\n",
      "Collecting anyio<4.0\n",
      "  Downloading anyio-3.7.1-py3-none-any.whl (80 kB)\n",
      "\u001b[2K     \u001b[90m━━━━━━━━━━━━━━━━━━━━━━━━━━━━━━━━━━━━━━━\u001b[0m \u001b[32m80.9/80.9 kB\u001b[0m \u001b[31m112.1 kB/s\u001b[0m eta \u001b[36m0:00:00\u001b[0ma \u001b[36m0:00:01\u001b[0m\n",
      "\u001b[?25hCollecting async-timeout<5.0.0,>=4.0.0\n",
      "  Downloading async_timeout-4.0.3-py3-none-any.whl (5.7 kB)\n",
      "Requirement already satisfied: tenacity<9.0.0,>=8.1.0 in /opt/conda/lib/python3.9/site-packages (from langchain->-r ../requirements.txt (line 2)) (8.2.1)\n",
      "Collecting langsmith<0.1.0,>=0.0.43\n",
      "  Downloading langsmith-0.0.49-py3-none-any.whl (41 kB)\n",
      "\u001b[2K     \u001b[90m━━━━━━━━━━━━━━━━━━━━━━━━━━━━━━━━━━━━━━━\u001b[0m \u001b[32m41.9/41.9 kB\u001b[0m \u001b[31m721.3 kB/s\u001b[0m eta \u001b[36m0:00:00\u001b[0m00:01\u001b[0m\n",
      "\u001b[?25hRequirement already satisfied: beautifulsoup4 in /opt/conda/lib/python3.9/site-packages (from bs4->-r ../requirements.txt (line 3)) (4.12.2)\n",
      "Requirement already satisfied: urllib3>=1.26.9 in /opt/conda/lib/python3.9/site-packages (from opensearch-py->-r ../requirements.txt (line 7)) (1.26.14)\n",
      "Requirement already satisfied: certifi>=2022.12.07 in /opt/conda/lib/python3.9/site-packages (from opensearch-py->-r ../requirements.txt (line 7)) (2022.12.7)\n",
      "Requirement already satisfied: six in /opt/conda/lib/python3.9/site-packages (from opensearch-py->-r ../requirements.txt (line 7)) (1.16.0)\n",
      "Requirement already satisfied: charset-normalizer<4.0,>=2.0 in /opt/conda/lib/python3.9/site-packages (from aiohttp<4.0.0,>=3.8.3->langchain->-r ../requirements.txt (line 2)) (2.1.1)\n",
      "Requirement already satisfied: attrs>=17.3.0 in /opt/conda/lib/python3.9/site-packages (from aiohttp<4.0.0,>=3.8.3->langchain->-r ../requirements.txt (line 2)) (23.1.0)\n",
      "Collecting yarl<2.0,>=1.0\n",
      "  Downloading yarl-1.9.2-cp39-cp39-manylinux_2_17_x86_64.manylinux2014_x86_64.whl (269 kB)\n",
      "\u001b[2K     \u001b[90m━━━━━━━━━━━━━━━━━━━━━━━━━━━━━━━━━━━━━━━\u001b[0m \u001b[32m269.4/269.4 kB\u001b[0m \u001b[31m4.1 MB/s\u001b[0m eta \u001b[36m0:00:00\u001b[0m00:01\u001b[0m\n",
      "\u001b[?25hCollecting aiosignal>=1.1.2\n",
      "  Downloading aiosignal-1.3.1-py3-none-any.whl (7.6 kB)\n",
      "Collecting multidict<7.0,>=4.5\n",
      "  Downloading multidict-6.0.4-cp39-cp39-manylinux_2_17_x86_64.manylinux2014_x86_64.whl (114 kB)\n",
      "\u001b[2K     \u001b[90m━━━━━━━━━━━━━━━━━━━━━━━━━━━━━━━━━━━━━━━\u001b[0m \u001b[32m114.2/114.2 kB\u001b[0m \u001b[31m1.3 MB/s\u001b[0m eta \u001b[36m0:00:00\u001b[0m00:01\u001b[0m\n",
      "\u001b[?25hCollecting frozenlist>=1.1.1\n",
      "  Downloading frozenlist-1.4.0-cp39-cp39-manylinux_2_5_x86_64.manylinux1_x86_64.manylinux_2_17_x86_64.manylinux2014_x86_64.whl (228 kB)\n",
      "\u001b[2K     \u001b[90m━━━━━━━━━━━━━━━━━━━━━━━━━━━━━━━━━━━━━━━\u001b[0m \u001b[32m228.0/228.0 kB\u001b[0m \u001b[31m2.9 MB/s\u001b[0m eta \u001b[36m0:00:00\u001b[0m00:01\u001b[0m\n",
      "\u001b[?25hRequirement already satisfied: toolz in /opt/conda/lib/python3.9/site-packages (from altair<5,>=3.2.0->streamlit==1.20.0->-r ../requirements.txt (line 11)) (0.12.0)\n",
      "Requirement already satisfied: jsonschema>=3.0 in /opt/conda/lib/python3.9/site-packages (from altair<5,>=3.2.0->streamlit==1.20.0->-r ../requirements.txt (line 11)) (4.19.1)\n",
      "Requirement already satisfied: jinja2 in /opt/conda/lib/python3.9/site-packages (from altair<5,>=3.2.0->streamlit==1.20.0->-r ../requirements.txt (line 11)) (3.1.2)\n",
      "Collecting entrypoints\n",
      "  Downloading entrypoints-0.4-py3-none-any.whl (5.3 kB)\n",
      "Requirement already satisfied: idna>=2.8 in /opt/conda/lib/python3.9/site-packages (from anyio<4.0->langchain->-r ../requirements.txt (line 2)) (3.4)\n",
      "Requirement already satisfied: exceptiongroup in /opt/conda/lib/python3.9/site-packages (from anyio<4.0->langchain->-r ../requirements.txt (line 2)) (1.1.3)\n",
      "Requirement already satisfied: sniffio>=1.1 in /opt/conda/lib/python3.9/site-packages (from anyio<4.0->langchain->-r ../requirements.txt (line 2)) (1.3.0)\n",
      "Collecting typing-inspect<1,>=0.4.0\n",
      "  Downloading typing_inspect-0.9.0-py3-none-any.whl (8.8 kB)\n",
      "Collecting marshmallow<4.0.0,>=3.18.0\n",
      "  Downloading marshmallow-3.20.1-py3-none-any.whl (49 kB)\n",
      "\u001b[2K     \u001b[90m━━━━━━━━━━━━━━━━━━━━━━━━━━━━━━━━━━━━━━━\u001b[0m \u001b[32m49.4/49.4 kB\u001b[0m \u001b[31m393.2 kB/s\u001b[0m eta \u001b[36m0:00:00\u001b[0ma \u001b[36m0:00:01\u001b[0m\n",
      "\u001b[?25hCollecting gitdb<5,>=4.0.1\n",
      "  Downloading gitdb-4.0.11-py3-none-any.whl (62 kB)\n",
      "\u001b[2K     \u001b[90m━━━━━━━━━━━━━━━━━━━━━━━━━━━━━━━━━━━━━━━\u001b[0m \u001b[32m62.7/62.7 kB\u001b[0m \u001b[31m378.1 kB/s\u001b[0m eta \u001b[36m0:00:00\u001b[0m00:01\u001b[0m\n",
      "\u001b[?25hRequirement already satisfied: zipp>=0.5 in /opt/conda/lib/python3.9/site-packages (from importlib-metadata>=1.4->streamlit==1.20.0->-r ../requirements.txt (line 11)) (3.13.0)\n",
      "Requirement already satisfied: jsonpointer>=1.9 in /opt/conda/lib/python3.9/site-packages (from jsonpatch<2.0,>=1.33->langchain->-r ../requirements.txt (line 2)) (2.4)\n",
      "Requirement already satisfied: commonmark<0.10.0,>=0.9.0 in /opt/conda/lib/python3.9/site-packages (from rich>=10.11.0->streamlit==1.20.0->-r ../requirements.txt (line 11)) (0.9.1)\n",
      "Requirement already satisfied: pygments<3.0.0,>=2.6.0 in /opt/conda/lib/python3.9/site-packages (from rich>=10.11.0->streamlit==1.20.0->-r ../requirements.txt (line 11)) (2.14.0)\n",
      "Requirement already satisfied: greenlet!=0.4.17 in /opt/conda/lib/python3.9/site-packages (from SQLAlchemy<3,>=1.4->langchain->-r ../requirements.txt (line 2)) (2.0.2)\n",
      "Requirement already satisfied: soupsieve>1.2 in /opt/conda/lib/python3.9/site-packages (from beautifulsoup4->bs4->-r ../requirements.txt (line 3)) (2.5)\n",
      "Collecting smmap<6,>=3.0.1\n",
      "  Downloading smmap-5.0.1-py3-none-any.whl (24 kB)\n",
      "Requirement already satisfied: MarkupSafe>=2.0 in /opt/conda/lib/python3.9/site-packages (from jinja2->altair<5,>=3.2.0->streamlit==1.20.0->-r ../requirements.txt (line 11)) (2.1.2)\n",
      "Requirement already satisfied: jsonschema-specifications>=2023.03.6 in /opt/conda/lib/python3.9/site-packages (from jsonschema>=3.0->altair<5,>=3.2.0->streamlit==1.20.0->-r ../requirements.txt (line 11)) (2023.7.1)\n",
      "Requirement already satisfied: referencing>=0.28.4 in /opt/conda/lib/python3.9/site-packages (from jsonschema>=3.0->altair<5,>=3.2.0->streamlit==1.20.0->-r ../requirements.txt (line 11)) (0.30.2)\n",
      "Requirement already satisfied: rpds-py>=0.7.1 in /opt/conda/lib/python3.9/site-packages (from jsonschema>=3.0->altair<5,>=3.2.0->streamlit==1.20.0->-r ../requirements.txt (line 11)) (0.10.6)\n",
      "Collecting mypy-extensions>=0.3.0\n",
      "  Downloading mypy_extensions-1.0.0-py3-none-any.whl (4.7 kB)\n",
      "Building wheels for collected packages: bs4\n",
      "  Building wheel for bs4 (setup.py) ... \u001b[?25ldone\n",
      "\u001b[?25h  Created wheel for bs4: filename=bs4-0.0.1-py3-none-any.whl size=1271 sha256=089ef54ab9c38b151a2723613edd47c26c1797c34e02d9732a3e8bbe1501de21\n",
      "  Stored in directory: /root/.cache/pip/wheels/73/2b/cb/099980278a0c9a3e57ff1a89875ec07bfa0b6fcbebb9a8cad3\n",
      "Successfully built bs4\n",
      "Installing collected packages: watchdog, validators, tzlocal, SQLAlchemy, smmap, semver, regex, pympler, mypy-extensions, multidict, marshmallow, lxml, jsonpatch, frozenlist, entrypoints, cachetools, blinker, async-timeout, anyio, yarl, typing-inspect, requests-aws4auth, pydeck, opensearch-py, langsmith, gitdb, bs4, botocore, aiosignal, s3transfer, gitpython, dataclasses-json, aiohttp, langchain, boto3, altair, streamlit\n",
      "  Attempting uninstall: anyio\n",
      "    Found existing installation: anyio 4.0.0\n",
      "    Uninstalling anyio-4.0.0:\n",
      "      Successfully uninstalled anyio-4.0.0\n",
      "  Attempting uninstall: botocore\n",
      "    Found existing installation: botocore 1.31.69\n",
      "    Uninstalling botocore-1.31.69:\n",
      "      Successfully uninstalled botocore-1.31.69\n",
      "  Attempting uninstall: s3transfer\n",
      "    Found existing installation: s3transfer 0.7.0\n",
      "    Uninstalling s3transfer-0.7.0:\n",
      "      Successfully uninstalled s3transfer-0.7.0\n",
      "  Attempting uninstall: boto3\n",
      "    Found existing installation: boto3 1.28.69\n",
      "    Uninstalling boto3-1.28.69:\n",
      "      Successfully uninstalled boto3-1.28.69\n",
      "\u001b[31mERROR: pip's dependency resolver does not currently take into account all the packages that are installed. This behaviour is the source of the following dependency conflicts.\n",
      "sagemaker 2.194.0 requires boto3<2.0,>=1.26.131, but you have boto3 1.26.73 which is incompatible.\n",
      "awscli 1.27.70 requires botocore==1.29.70, but you have botocore 1.29.165 which is incompatible.\n",
      "awscli 1.27.70 requires PyYAML<5.5,>=3.10, but you have pyyaml 6.0.1 which is incompatible.\u001b[0m\u001b[31m\n",
      "\u001b[0mSuccessfully installed SQLAlchemy-2.0.22 aiohttp-3.8.6 aiosignal-1.3.1 altair-4.2.2 anyio-3.7.1 async-timeout-4.0.3 blinker-1.6.3 boto3-1.26.73 botocore-1.29.165 bs4-0.0.1 cachetools-5.3.2 dataclasses-json-0.6.1 entrypoints-0.4 frozenlist-1.4.0 gitdb-4.0.11 gitpython-3.1.40 jsonpatch-1.33 langchain-0.0.321 langsmith-0.0.49 lxml-4.9.3 marshmallow-3.20.1 multidict-6.0.4 mypy-extensions-1.0.0 opensearch-py-2.3.2 pydeck-0.8.1b0 pympler-1.0.1 regex-2023.10.3 requests-aws4auth-1.2.3 s3transfer-0.6.2 semver-3.0.2 smmap-5.0.1 streamlit-1.20.0 typing-inspect-0.9.0 tzlocal-5.2 validators-0.22.0 watchdog-3.0.0 yarl-1.9.2\n",
      "\u001b[33mWARNING: Running pip as the 'root' user can result in broken permissions and conflicting behaviour with the system package manager. It is recommended to use a virtual environment instead: https://pip.pypa.io/warnings/venv\u001b[0m\u001b[33m\n",
      "\u001b[0m\n",
      "\u001b[1m[\u001b[0m\u001b[34;49mnotice\u001b[0m\u001b[1;39;49m]\u001b[0m\u001b[39;49m A new release of pip is available: \u001b[0m\u001b[31;49m23.0\u001b[0m\u001b[39;49m -> \u001b[0m\u001b[32;49m23.3.1\u001b[0m\n",
      "\u001b[1m[\u001b[0m\u001b[34;49mnotice\u001b[0m\u001b[1;39;49m]\u001b[0m\u001b[39;49m To update, run: \u001b[0m\u001b[32;49mpip install --upgrade pip\u001b[0m\n"
     ]
    }
   ],
   "source": [
    "!pip install -r ../requirements.txt"
   ]
  },
  {
   "cell_type": "code",
   "execution_count": 16,
   "id": "39dbfb51-313c-4953-a7d7-5bc9ade002ab",
   "metadata": {
    "tags": []
   },
   "outputs": [],
   "source": [
    "# standard imports\n",
    "import re\n",
    "import glob\n",
    "import logging\n",
    "from typing import Dict, List, Union\n",
    "\n",
    "from langchain.document_loaders import BSHTMLLoader\n",
    "from langchain.text_splitter import RecursiveCharacterTextSplitter\n",
    "from langchain.docstore.document import Document\n",
    "from langchain.document_loaders.base import BaseLoader"
   ]
  },
  {
   "cell_type": "markdown",
   "id": "63d84135-3e7e-4fb9-a91b-277b8b566f7c",
   "metadata": {},
   "source": [
    "The following show the path to the document being processed as well as its name. "
   ]
  },
  {
   "cell_type": "code",
   "execution_count": 17,
   "id": "a273587a-ed58-4cdf-8532-392562a97b9e",
   "metadata": {
    "tags": []
   },
   "outputs": [],
   "source": [
    "doc_path = \"../data/14A/0000003153-20-000004.html\"\n",
    "san = \"0000003153-20-000004\""
   ]
  },
  {
   "cell_type": "code",
   "execution_count": 18,
   "id": "f1bad349-3be7-4371-8785-3b1821a1bf97",
   "metadata": {
    "tags": []
   },
   "outputs": [],
   "source": [
    "# helper functions\n",
    "def clean_text(s):\n",
    "    s = s.replace(u'\\xa0', u' ') # no-break space \n",
    "    s = s.replace('\\n', ' ')\n",
    "    s = re.sub(r'\\s+',' ', s) \n",
    "    return s\n",
    "\n",
    "def clean_html(s):\n",
    "    s = s.replace(u'\\xa0', u' ') # no-break space \n",
    "    return s\n",
    "    \n",
    "def like_page_number(text):\n",
    "    '''Match standalone one or two digit number'''\n",
    "    return re.match(r'^(\\d+){1,2}\\.?$',text)\n",
    "\n",
    "def read_text(path):\n",
    "    with open(path, 'r', encoding='utf-8') as f:\n",
    "        return f.read()"
   ]
  },
  {
   "cell_type": "markdown",
   "id": "4fdf4bbb-48ae-4b00-b0d1-4cb950f43c70",
   "metadata": {
    "tags": []
   },
   "source": [
    "## Approach 1: Using a Standard HTML Loader from Langchain\n",
    "\n",
    "For processing the documents in the standard format, we will use langchain's `BSHTMLLoader`. It uses BeautifulSoup4 to load HTML documents to extract the text from the HTML into `page_content`, and the page title as `title` into `metadata`."
   ]
  },
  {
   "cell_type": "markdown",
   "id": "97986805-5237-415c-9ad6-834e3ee0bac3",
   "metadata": {
    "tags": []
   },
   "source": [
    "Now, we will load the HTML file into a langchain `Document`."
   ]
  },
  {
   "cell_type": "code",
   "execution_count": 19,
   "id": "3a4305fd-87d3-4df0-bac4-4b0c5f5229c9",
   "metadata": {
    "tags": []
   },
   "outputs": [
    {
     "name": "stdout",
     "output_type": "stream",
     "text": [
      "Loading ../data/14A/0000003153-20-000004.html\n"
     ]
    }
   ],
   "source": [
    "print('Loading', doc_path)\n",
    "loader = BSHTMLLoader(doc_path)\n",
    "\n",
    "data = loader.load()"
   ]
  },
  {
   "cell_type": "markdown",
   "id": "011bae2c-4fcc-41f0-a202-72cd3f670a6c",
   "metadata": {},
   "source": [
    "The langchain `Document` class can be formed with any piece of text and optional metadata. The piece of text is what we interact with the language model, while the optional metadata is useful for keeping track of metadata about the document (such as the source). A single 14A document can be long so we will split the document in multiple chunks using [RecursiveCharacterTextSplitter](https://python.langchain.com/docs/modules/data_connection/document_transformers/text_splitters/recursive_text_splitter). Lastly, we edit the metadata of the docs to include further information. "
   ]
  },
  {
   "cell_type": "code",
   "execution_count": 22,
   "id": "44ece645-988d-49e3-b02b-c412b8bb3877",
   "metadata": {
    "tags": []
   },
   "outputs": [],
   "source": [
    "text_splitter = RecursiveCharacterTextSplitter(\n",
    "    chunk_size=1400, chunk_overlap=0)\n",
    "\n",
    "docs_standard = text_splitter.split_documents(data)\n",
    "\n",
    "for i, doc in enumerate(docs_standard):\n",
    "    doc.page_content = clean_text(doc.page_content)  \n",
    "    doc.metadata['passage_id'] = i"
   ]
  },
  {
   "cell_type": "code",
   "execution_count": 26,
   "id": "94fa7801-2c35-4919-a329-258651613b97",
   "metadata": {
    "tags": []
   },
   "outputs": [
    {
     "name": "stdout",
     "output_type": "stream",
     "text": [
      "Now you have 111 short passages\n"
     ]
    }
   ],
   "source": [
    "print(f'Now you have {len(docs_standard)} short passages')"
   ]
  },
  {
   "cell_type": "markdown",
   "id": "b2f22b2f-e688-41e9-b5cf-f35c36e0b833",
   "metadata": {
    "tags": []
   },
   "source": [
    "## Approach 2: Using a Custom HTML Parser and Loader\n",
    "\n",
    "Using the langchain HTML loader can help in chunking the page into different parts. However, it still does not chunk in a way that preserves some of the components we have in the html file e.g. preserving the sentence strucutures. Therefore, we will use a custom loader similar to the `BSHTMLLoader` that adds parsing for different html tags. In this example, we show how to add a custom tag to the table to make it easier for our models to learn what is a table and what is a text. "
   ]
  },
  {
   "cell_type": "code",
   "execution_count": 28,
   "id": "25446e13-1a05-4d61-a8be-e0a8bc106c2c",
   "metadata": {
    "tags": []
   },
   "outputs": [],
   "source": [
    "\"\"\"Custom serialization of HTML into text.\"\"\"\n",
    "\n",
    "class BSHTMLLoaderEx(BaseLoader):\n",
    "    \"\"\"Loader that uses beautiful soup to parse HTML files.\"\"\"\n",
    "\n",
    "    block_level_elements = set([\n",
    "        'address','article','aside','blockquote','canvas',\n",
    "        'dd','div','dl','dt','fieldset','figcaption','figure','footer','form',\n",
    "        'h1','h2','h3','h4','h5','h6',\n",
    "        'header','hr','li','main','nav','noscript','ol',\n",
    "        'p','pre','section','table','tfoot','ul','video',\n",
    "        'body',\n",
    "    ])\n",
    "\n",
    "    \n",
    "    def __init__(\n",
    "        self,\n",
    "        file_path: str,\n",
    "        open_encoding: Union[str, None] = None,\n",
    "        bs_kwargs: Union[dict, None] = None,\n",
    "    ) -> None:\n",
    "        \"\"\"Initialise with path, and optionally, file encoding to use, and any kwargs\n",
    "        to pass to the BeautifulSoup object.\"\"\"\n",
    "        try:\n",
    "            import bs4  # noqa:F401\n",
    "        except ImportError:\n",
    "            raise ValueError(\n",
    "                \"bs4 package not found, please install it with \" \"`pip install bs4`\"\n",
    "            )\n",
    "\n",
    "        self.file_path = file_path\n",
    "        self.open_encoding = open_encoding\n",
    "        if bs_kwargs is None:\n",
    "            bs_kwargs = {\"features\": \"lxml\"}\n",
    "        self.bs_kwargs = bs_kwargs\n",
    "\n",
    "    def load(self) -> List[Document]:\n",
    "        from bs4 import BeautifulSoup, Tag, NavigableString, Comment\n",
    "\n",
    "        \"\"\"Load HTML document into document objects.\"\"\"\n",
    "        with open(self.file_path, \"r\", encoding=self.open_encoding) as f:\n",
    "            soup = BeautifulSoup(f, **self.bs_kwargs)\n",
    "\n",
    "        # text = soup.get_text()\n",
    "        text = self._parse(soup)\n",
    "\n",
    "        if soup.title:\n",
    "            title = str(soup.title.string)\n",
    "        else:\n",
    "            title = \"\"\n",
    "\n",
    "        metadata: Dict[str, Union[str, None]] = {\n",
    "            \"source\": self.file_path,\n",
    "            \"title\": title,\n",
    "        }\n",
    "        return [Document(page_content=text, metadata=metadata)]\n",
    "\n",
    "    def _parse(self,soup):\n",
    "        '''Custom parser'''\n",
    "        from bs4 import BeautifulSoup, Tag, NavigableString, Comment\n",
    "        \n",
    "        def __clean(s):\n",
    "            s = s.replace(u'\\xa0', u' ')\n",
    "            return s\n",
    "            \n",
    "        # DFS post-order. \n",
    "        # Adding a different delimeter at the end of each tag\n",
    "        def dfs(tags,texts):\n",
    "            for tag in tags:\n",
    "                if isinstance(tag,Comment):\n",
    "                    pass\n",
    "                elif isinstance(tag,NavigableString):\n",
    "                    texts += tag.string,\n",
    "\n",
    "                else:\n",
    "                    # Starting a new paragraph tag, \n",
    "                    # terminate previous non-paragraph by the period.\n",
    "                    if tag.name in type(self).block_level_elements:\n",
    "                        # if texts:\n",
    "                        #     print(\"'{}'\".format(texts[-1][-10:]))\n",
    "                        #     print(texts[-1][-1].isalnum())\n",
    "                        if texts and texts[-1] and texts[-1][-1].isalnum():\n",
    "                            texts[-1] += '.'\n",
    "                        texts += '\\n',\n",
    "\n",
    "                    # Serialize a table\n",
    "                    if tag.name in ['td'] and tag.text != '':\n",
    "                        texts += ' <Cell> ',\n",
    "                    if tag.name in ['table']:\n",
    "                        texts += ' <Table Start> '\n",
    "\n",
    "                    dfs(tag.children,texts)\n",
    "\n",
    "                    if tag.name in ['table']:\n",
    "                        texts += ' <Table End> '\n",
    "\n",
    "        texts = []   \n",
    "\n",
    "        dfs([soup.find('body')],texts)        \n",
    "\n",
    "        s = ''.join(texts)\n",
    "        s = __clean(s)\n",
    "        s = re.sub(r'[\\.]+','.',s) # multiple dots\n",
    "        \n",
    "        return s"
   ]
  },
  {
   "cell_type": "markdown",
   "id": "95ee411b-da95-4e1c-9127-dca566c2474d",
   "metadata": {},
   "source": [
    "Now in a similar way that the document was loaded through langchain, we call the BSHTMLLoaderEx custom class and split the documents using the RecursiveCharacterTextSplitter. An example of a document is outputted from the below cell. "
   ]
  },
  {
   "cell_type": "code",
   "execution_count": 29,
   "id": "14c57882-ed3f-42b2-a75d-290ecdf23d0f",
   "metadata": {
    "tags": []
   },
   "outputs": [
    {
     "name": "stdout",
     "output_type": "stream",
     "text": [
      "Loading: ../data/14A/0000003153-20-000004.html\n",
      "Now you have 172 short passages\n"
     ]
    },
    {
     "data": {
      "text/plain": [
       "Document(page_content='UNITED STATES. SECURITIES AND EXCHANGE COMMISSION. WASHINGTON, D.C. 20549. SCHEDULE 14A INFORMATION. Proxy Statement Pursuant To Section 14(a) of the Securities Exchange Act of 1934. <Table Start> <Cell> x <Cell> Filed by the Registrant <Cell> o <Cell> Filed by a party other than the Registrant <Table End> Check the appropriate box: <Table Start> <Cell> o <Cell> Preliminary proxy statement <Cell> o <Cell> Confidential, for use of the Commission only (as permitted by Rule 14a-6(e)(2)) <Cell> x <Cell> Definitive proxy statement <Cell> o <Cell> Definitive additional materials <Cell> o <Cell> Soliciting material under Rule 14a-12 <Table End> ALABAMA POWER COMPANY. (Name of Registrant as Specified in Its Charter) (Name of Person(s) Filing Proxy Statement, if Other Than the Registrant) Payment of Filing Fee (Check the appropriate box):', metadata={'source': '../data/14A/0000003153-20-000004.html', 'title': 'None', 'passage_id': 0})"
      ]
     },
     "execution_count": 29,
     "metadata": {},
     "output_type": "execute_result"
    }
   ],
   "source": [
    "print('Loading:', doc_path)\n",
    "\n",
    "# \n",
    "loader = BSHTMLLoaderEx(doc_path, bs_kwargs={'features':'html.parser'})\n",
    "\n",
    "data = loader.load()\n",
    "\n",
    "# Clean entire HTML\n",
    "data[0].page_content = clean_html(data[0].page_content)\n",
    "\n",
    "text_splitter = RecursiveCharacterTextSplitter(\n",
    "    chunk_size=1400, chunk_overlap=0)\n",
    "\n",
    "docs = text_splitter.split_documents(data)\n",
    "\n",
    "for i,doc in enumerate(docs):\n",
    "    doc.page_content = clean_text(doc.page_content)\n",
    "    doc.metadata['passage_id'] = i\n",
    "\n",
    "# Filter page numbers\n",
    "docs = [doc for doc in docs if not like_page_number(doc.page_content)]\n",
    "\n",
    "print(f'Now you have {len(docs)} short passages')\n",
    "docs[0]"
   ]
  },
  {
   "cell_type": "markdown",
   "id": "1cd54063-e1c5-48f0-9921-ef66d34e5056",
   "metadata": {},
   "source": [
    "## Approach 3: Using Ideal Textual 14A paragraphs\n",
    "This section demonstrates how to load the fragments of texts as shown as a document. Each of the files are of .txt format and include all important paragraphs. "
   ]
  },
  {
   "cell_type": "code",
   "execution_count": 15,
   "id": "537b4d73-2aa3-4a82-b454-8e335af1e9e8",
   "metadata": {
    "tags": []
   },
   "outputs": [
    {
     "name": "stdout",
     "output_type": "stream",
     "text": [
      "Loading: ../data/14A_frags/0000003153-20-000004.*.txt\n",
      "Now you have 172 short textual passages\n",
      "page_content=\"Phillip M. Webb - Director since 2018. Mr. Webb, 62, is President of Webb Concrete and Building Materials, a position he has held since 1982. Mr. Webb serves on the Board of Directors of NobleBank & Trust, as well as numerous philanthropic and non-profit boards, such as the Business Council of Alabama, Calhoun County Home Builders Association, the Jacksonville State University Foundation, the Calhoun. 3. County Chamber of Commerce, and the Greater Alabama Council of the Boy Scouts of America. He is also the Chairman of the Knox Concert Series. Mr. Webb's business experience and investment in his local community make him a well-qualified member of the Company's Board. Each nominee has served in his or her present position for at least the past five years, unless otherwise noted. Vote Required.\" metadata={'source': '../data/14A_frags/0000003153-20-000004.webb.txt', 'title': None, 'passage_id': 1}\n"
     ]
    }
   ],
   "source": [
    "folder = \"../data/14A_frags/\"\n",
    "print(f'Loading: {folder}{san}.*.txt')\n",
    "\n",
    "docs_ideal = []\n",
    "for i,fname in enumerate(glob.iglob(folder + san + '*.txt')):\n",
    "    docs_ideal += Document(\n",
    "                page_content=read_text(fname),\n",
    "                metadata ={'source': fname, 'title': None, 'passage_id': i}\n",
    "    ),\n",
    "\n",
    "print(f'Now you have {len(docs)} short textual passages')\n",
    "print(docs_ideal[1])"
   ]
  },
  {
   "cell_type": "code",
   "execution_count": null,
   "id": "d768fa66-9a6f-4636-9caa-6e598322402f",
   "metadata": {},
   "outputs": [],
   "source": []
  }
 ],
 "metadata": {
  "availableInstances": [
   {
    "_defaultOrder": 0,
    "_isFastLaunch": true,
    "category": "General purpose",
    "gpuNum": 0,
    "hideHardwareSpecs": false,
    "memoryGiB": 4,
    "name": "ml.t3.medium",
    "vcpuNum": 2
   },
   {
    "_defaultOrder": 1,
    "_isFastLaunch": false,
    "category": "General purpose",
    "gpuNum": 0,
    "hideHardwareSpecs": false,
    "memoryGiB": 8,
    "name": "ml.t3.large",
    "vcpuNum": 2
   },
   {
    "_defaultOrder": 2,
    "_isFastLaunch": false,
    "category": "General purpose",
    "gpuNum": 0,
    "hideHardwareSpecs": false,
    "memoryGiB": 16,
    "name": "ml.t3.xlarge",
    "vcpuNum": 4
   },
   {
    "_defaultOrder": 3,
    "_isFastLaunch": false,
    "category": "General purpose",
    "gpuNum": 0,
    "hideHardwareSpecs": false,
    "memoryGiB": 32,
    "name": "ml.t3.2xlarge",
    "vcpuNum": 8
   },
   {
    "_defaultOrder": 4,
    "_isFastLaunch": true,
    "category": "General purpose",
    "gpuNum": 0,
    "hideHardwareSpecs": false,
    "memoryGiB": 8,
    "name": "ml.m5.large",
    "vcpuNum": 2
   },
   {
    "_defaultOrder": 5,
    "_isFastLaunch": false,
    "category": "General purpose",
    "gpuNum": 0,
    "hideHardwareSpecs": false,
    "memoryGiB": 16,
    "name": "ml.m5.xlarge",
    "vcpuNum": 4
   },
   {
    "_defaultOrder": 6,
    "_isFastLaunch": false,
    "category": "General purpose",
    "gpuNum": 0,
    "hideHardwareSpecs": false,
    "memoryGiB": 32,
    "name": "ml.m5.2xlarge",
    "vcpuNum": 8
   },
   {
    "_defaultOrder": 7,
    "_isFastLaunch": false,
    "category": "General purpose",
    "gpuNum": 0,
    "hideHardwareSpecs": false,
    "memoryGiB": 64,
    "name": "ml.m5.4xlarge",
    "vcpuNum": 16
   },
   {
    "_defaultOrder": 8,
    "_isFastLaunch": false,
    "category": "General purpose",
    "gpuNum": 0,
    "hideHardwareSpecs": false,
    "memoryGiB": 128,
    "name": "ml.m5.8xlarge",
    "vcpuNum": 32
   },
   {
    "_defaultOrder": 9,
    "_isFastLaunch": false,
    "category": "General purpose",
    "gpuNum": 0,
    "hideHardwareSpecs": false,
    "memoryGiB": 192,
    "name": "ml.m5.12xlarge",
    "vcpuNum": 48
   },
   {
    "_defaultOrder": 10,
    "_isFastLaunch": false,
    "category": "General purpose",
    "gpuNum": 0,
    "hideHardwareSpecs": false,
    "memoryGiB": 256,
    "name": "ml.m5.16xlarge",
    "vcpuNum": 64
   },
   {
    "_defaultOrder": 11,
    "_isFastLaunch": false,
    "category": "General purpose",
    "gpuNum": 0,
    "hideHardwareSpecs": false,
    "memoryGiB": 384,
    "name": "ml.m5.24xlarge",
    "vcpuNum": 96
   },
   {
    "_defaultOrder": 12,
    "_isFastLaunch": false,
    "category": "General purpose",
    "gpuNum": 0,
    "hideHardwareSpecs": false,
    "memoryGiB": 8,
    "name": "ml.m5d.large",
    "vcpuNum": 2
   },
   {
    "_defaultOrder": 13,
    "_isFastLaunch": false,
    "category": "General purpose",
    "gpuNum": 0,
    "hideHardwareSpecs": false,
    "memoryGiB": 16,
    "name": "ml.m5d.xlarge",
    "vcpuNum": 4
   },
   {
    "_defaultOrder": 14,
    "_isFastLaunch": false,
    "category": "General purpose",
    "gpuNum": 0,
    "hideHardwareSpecs": false,
    "memoryGiB": 32,
    "name": "ml.m5d.2xlarge",
    "vcpuNum": 8
   },
   {
    "_defaultOrder": 15,
    "_isFastLaunch": false,
    "category": "General purpose",
    "gpuNum": 0,
    "hideHardwareSpecs": false,
    "memoryGiB": 64,
    "name": "ml.m5d.4xlarge",
    "vcpuNum": 16
   },
   {
    "_defaultOrder": 16,
    "_isFastLaunch": false,
    "category": "General purpose",
    "gpuNum": 0,
    "hideHardwareSpecs": false,
    "memoryGiB": 128,
    "name": "ml.m5d.8xlarge",
    "vcpuNum": 32
   },
   {
    "_defaultOrder": 17,
    "_isFastLaunch": false,
    "category": "General purpose",
    "gpuNum": 0,
    "hideHardwareSpecs": false,
    "memoryGiB": 192,
    "name": "ml.m5d.12xlarge",
    "vcpuNum": 48
   },
   {
    "_defaultOrder": 18,
    "_isFastLaunch": false,
    "category": "General purpose",
    "gpuNum": 0,
    "hideHardwareSpecs": false,
    "memoryGiB": 256,
    "name": "ml.m5d.16xlarge",
    "vcpuNum": 64
   },
   {
    "_defaultOrder": 19,
    "_isFastLaunch": false,
    "category": "General purpose",
    "gpuNum": 0,
    "hideHardwareSpecs": false,
    "memoryGiB": 384,
    "name": "ml.m5d.24xlarge",
    "vcpuNum": 96
   },
   {
    "_defaultOrder": 20,
    "_isFastLaunch": false,
    "category": "General purpose",
    "gpuNum": 0,
    "hideHardwareSpecs": true,
    "memoryGiB": 0,
    "name": "ml.geospatial.interactive",
    "supportedImageNames": [
     "sagemaker-geospatial-v1-0"
    ],
    "vcpuNum": 0
   },
   {
    "_defaultOrder": 21,
    "_isFastLaunch": true,
    "category": "Compute optimized",
    "gpuNum": 0,
    "hideHardwareSpecs": false,
    "memoryGiB": 4,
    "name": "ml.c5.large",
    "vcpuNum": 2
   },
   {
    "_defaultOrder": 22,
    "_isFastLaunch": false,
    "category": "Compute optimized",
    "gpuNum": 0,
    "hideHardwareSpecs": false,
    "memoryGiB": 8,
    "name": "ml.c5.xlarge",
    "vcpuNum": 4
   },
   {
    "_defaultOrder": 23,
    "_isFastLaunch": false,
    "category": "Compute optimized",
    "gpuNum": 0,
    "hideHardwareSpecs": false,
    "memoryGiB": 16,
    "name": "ml.c5.2xlarge",
    "vcpuNum": 8
   },
   {
    "_defaultOrder": 24,
    "_isFastLaunch": false,
    "category": "Compute optimized",
    "gpuNum": 0,
    "hideHardwareSpecs": false,
    "memoryGiB": 32,
    "name": "ml.c5.4xlarge",
    "vcpuNum": 16
   },
   {
    "_defaultOrder": 25,
    "_isFastLaunch": false,
    "category": "Compute optimized",
    "gpuNum": 0,
    "hideHardwareSpecs": false,
    "memoryGiB": 72,
    "name": "ml.c5.9xlarge",
    "vcpuNum": 36
   },
   {
    "_defaultOrder": 26,
    "_isFastLaunch": false,
    "category": "Compute optimized",
    "gpuNum": 0,
    "hideHardwareSpecs": false,
    "memoryGiB": 96,
    "name": "ml.c5.12xlarge",
    "vcpuNum": 48
   },
   {
    "_defaultOrder": 27,
    "_isFastLaunch": false,
    "category": "Compute optimized",
    "gpuNum": 0,
    "hideHardwareSpecs": false,
    "memoryGiB": 144,
    "name": "ml.c5.18xlarge",
    "vcpuNum": 72
   },
   {
    "_defaultOrder": 28,
    "_isFastLaunch": false,
    "category": "Compute optimized",
    "gpuNum": 0,
    "hideHardwareSpecs": false,
    "memoryGiB": 192,
    "name": "ml.c5.24xlarge",
    "vcpuNum": 96
   },
   {
    "_defaultOrder": 29,
    "_isFastLaunch": true,
    "category": "Accelerated computing",
    "gpuNum": 1,
    "hideHardwareSpecs": false,
    "memoryGiB": 16,
    "name": "ml.g4dn.xlarge",
    "vcpuNum": 4
   },
   {
    "_defaultOrder": 30,
    "_isFastLaunch": false,
    "category": "Accelerated computing",
    "gpuNum": 1,
    "hideHardwareSpecs": false,
    "memoryGiB": 32,
    "name": "ml.g4dn.2xlarge",
    "vcpuNum": 8
   },
   {
    "_defaultOrder": 31,
    "_isFastLaunch": false,
    "category": "Accelerated computing",
    "gpuNum": 1,
    "hideHardwareSpecs": false,
    "memoryGiB": 64,
    "name": "ml.g4dn.4xlarge",
    "vcpuNum": 16
   },
   {
    "_defaultOrder": 32,
    "_isFastLaunch": false,
    "category": "Accelerated computing",
    "gpuNum": 1,
    "hideHardwareSpecs": false,
    "memoryGiB": 128,
    "name": "ml.g4dn.8xlarge",
    "vcpuNum": 32
   },
   {
    "_defaultOrder": 33,
    "_isFastLaunch": false,
    "category": "Accelerated computing",
    "gpuNum": 4,
    "hideHardwareSpecs": false,
    "memoryGiB": 192,
    "name": "ml.g4dn.12xlarge",
    "vcpuNum": 48
   },
   {
    "_defaultOrder": 34,
    "_isFastLaunch": false,
    "category": "Accelerated computing",
    "gpuNum": 1,
    "hideHardwareSpecs": false,
    "memoryGiB": 256,
    "name": "ml.g4dn.16xlarge",
    "vcpuNum": 64
   },
   {
    "_defaultOrder": 35,
    "_isFastLaunch": false,
    "category": "Accelerated computing",
    "gpuNum": 1,
    "hideHardwareSpecs": false,
    "memoryGiB": 61,
    "name": "ml.p3.2xlarge",
    "vcpuNum": 8
   },
   {
    "_defaultOrder": 36,
    "_isFastLaunch": false,
    "category": "Accelerated computing",
    "gpuNum": 4,
    "hideHardwareSpecs": false,
    "memoryGiB": 244,
    "name": "ml.p3.8xlarge",
    "vcpuNum": 32
   },
   {
    "_defaultOrder": 37,
    "_isFastLaunch": false,
    "category": "Accelerated computing",
    "gpuNum": 8,
    "hideHardwareSpecs": false,
    "memoryGiB": 488,
    "name": "ml.p3.16xlarge",
    "vcpuNum": 64
   },
   {
    "_defaultOrder": 38,
    "_isFastLaunch": false,
    "category": "Accelerated computing",
    "gpuNum": 8,
    "hideHardwareSpecs": false,
    "memoryGiB": 768,
    "name": "ml.p3dn.24xlarge",
    "vcpuNum": 96
   },
   {
    "_defaultOrder": 39,
    "_isFastLaunch": false,
    "category": "Memory Optimized",
    "gpuNum": 0,
    "hideHardwareSpecs": false,
    "memoryGiB": 16,
    "name": "ml.r5.large",
    "vcpuNum": 2
   },
   {
    "_defaultOrder": 40,
    "_isFastLaunch": false,
    "category": "Memory Optimized",
    "gpuNum": 0,
    "hideHardwareSpecs": false,
    "memoryGiB": 32,
    "name": "ml.r5.xlarge",
    "vcpuNum": 4
   },
   {
    "_defaultOrder": 41,
    "_isFastLaunch": false,
    "category": "Memory Optimized",
    "gpuNum": 0,
    "hideHardwareSpecs": false,
    "memoryGiB": 64,
    "name": "ml.r5.2xlarge",
    "vcpuNum": 8
   },
   {
    "_defaultOrder": 42,
    "_isFastLaunch": false,
    "category": "Memory Optimized",
    "gpuNum": 0,
    "hideHardwareSpecs": false,
    "memoryGiB": 128,
    "name": "ml.r5.4xlarge",
    "vcpuNum": 16
   },
   {
    "_defaultOrder": 43,
    "_isFastLaunch": false,
    "category": "Memory Optimized",
    "gpuNum": 0,
    "hideHardwareSpecs": false,
    "memoryGiB": 256,
    "name": "ml.r5.8xlarge",
    "vcpuNum": 32
   },
   {
    "_defaultOrder": 44,
    "_isFastLaunch": false,
    "category": "Memory Optimized",
    "gpuNum": 0,
    "hideHardwareSpecs": false,
    "memoryGiB": 384,
    "name": "ml.r5.12xlarge",
    "vcpuNum": 48
   },
   {
    "_defaultOrder": 45,
    "_isFastLaunch": false,
    "category": "Memory Optimized",
    "gpuNum": 0,
    "hideHardwareSpecs": false,
    "memoryGiB": 512,
    "name": "ml.r5.16xlarge",
    "vcpuNum": 64
   },
   {
    "_defaultOrder": 46,
    "_isFastLaunch": false,
    "category": "Memory Optimized",
    "gpuNum": 0,
    "hideHardwareSpecs": false,
    "memoryGiB": 768,
    "name": "ml.r5.24xlarge",
    "vcpuNum": 96
   },
   {
    "_defaultOrder": 47,
    "_isFastLaunch": false,
    "category": "Accelerated computing",
    "gpuNum": 1,
    "hideHardwareSpecs": false,
    "memoryGiB": 16,
    "name": "ml.g5.xlarge",
    "vcpuNum": 4
   },
   {
    "_defaultOrder": 48,
    "_isFastLaunch": false,
    "category": "Accelerated computing",
    "gpuNum": 1,
    "hideHardwareSpecs": false,
    "memoryGiB": 32,
    "name": "ml.g5.2xlarge",
    "vcpuNum": 8
   },
   {
    "_defaultOrder": 49,
    "_isFastLaunch": false,
    "category": "Accelerated computing",
    "gpuNum": 1,
    "hideHardwareSpecs": false,
    "memoryGiB": 64,
    "name": "ml.g5.4xlarge",
    "vcpuNum": 16
   },
   {
    "_defaultOrder": 50,
    "_isFastLaunch": false,
    "category": "Accelerated computing",
    "gpuNum": 1,
    "hideHardwareSpecs": false,
    "memoryGiB": 128,
    "name": "ml.g5.8xlarge",
    "vcpuNum": 32
   },
   {
    "_defaultOrder": 51,
    "_isFastLaunch": false,
    "category": "Accelerated computing",
    "gpuNum": 1,
    "hideHardwareSpecs": false,
    "memoryGiB": 256,
    "name": "ml.g5.16xlarge",
    "vcpuNum": 64
   },
   {
    "_defaultOrder": 52,
    "_isFastLaunch": false,
    "category": "Accelerated computing",
    "gpuNum": 4,
    "hideHardwareSpecs": false,
    "memoryGiB": 192,
    "name": "ml.g5.12xlarge",
    "vcpuNum": 48
   },
   {
    "_defaultOrder": 53,
    "_isFastLaunch": false,
    "category": "Accelerated computing",
    "gpuNum": 4,
    "hideHardwareSpecs": false,
    "memoryGiB": 384,
    "name": "ml.g5.24xlarge",
    "vcpuNum": 96
   },
   {
    "_defaultOrder": 54,
    "_isFastLaunch": false,
    "category": "Accelerated computing",
    "gpuNum": 8,
    "hideHardwareSpecs": false,
    "memoryGiB": 768,
    "name": "ml.g5.48xlarge",
    "vcpuNum": 192
   },
   {
    "_defaultOrder": 55,
    "_isFastLaunch": false,
    "category": "Accelerated computing",
    "gpuNum": 8,
    "hideHardwareSpecs": false,
    "memoryGiB": 1152,
    "name": "ml.p4d.24xlarge",
    "vcpuNum": 96
   },
   {
    "_defaultOrder": 56,
    "_isFastLaunch": false,
    "category": "Accelerated computing",
    "gpuNum": 8,
    "hideHardwareSpecs": false,
    "memoryGiB": 1152,
    "name": "ml.p4de.24xlarge",
    "vcpuNum": 96
   }
  ],
  "instance_type": "ml.t3.medium",
  "kernelspec": {
   "display_name": "Python 3 (PyTorch 1.13 Python 3.9 CPU Optimized)",
   "language": "python",
   "name": "python3__SAGEMAKER_INTERNAL__arn:aws:sagemaker:us-east-1:081325390199:image/pytorch-1.13-cpu-py39"
  },
  "language_info": {
   "codemirror_mode": {
    "name": "ipython",
    "version": 3
   },
   "file_extension": ".py",
   "mimetype": "text/x-python",
   "name": "python",
   "nbconvert_exporter": "python",
   "pygments_lexer": "ipython3",
   "version": "3.9.16"
  }
 },
 "nbformat": 4,
 "nbformat_minor": 5
}
